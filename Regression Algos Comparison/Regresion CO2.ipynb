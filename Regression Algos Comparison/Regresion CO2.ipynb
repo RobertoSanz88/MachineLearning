{
 "cells": [
  {
   "cell_type": "markdown",
   "metadata": {},
   "source": [
    "\n",
    "# <center>Estudio emisiones de CO2</center>\n",
    "# <center>con distintos algoritmos de regresion</center>"
   ]
  },
  {
   "cell_type": "markdown",
   "metadata": {},
   "source": [
    "<a name=\"id8\"></a>\n",
    "**Índice**   \n",
    "1. [Regresión Lineal](#id1)\n",
    "2. [KNN](#id2)\n",
    "3. [Arbol de decisión](#id3)\n",
    "4. [SVM](#id4)\n",
    "5. [Random Forest](#id5)\n",
    "6. [XGBoost](#id6)\n",
    "7. [RESUMEN FINAL](#id7)"
   ]
  },
  {
   "cell_type": "markdown",
   "metadata": {},
   "source": [
    "Carguemos las librerías necesarias"
   ]
  },
  {
   "cell_type": "code",
   "execution_count": 94,
   "metadata": {},
   "outputs": [],
   "source": [
    "import matplotlib.pyplot as plt\n",
    "import pandas as pd\n",
    "import pylab as pl\n",
    "import numpy as np\n",
    "%matplotlib inline\n",
    "\n",
    "from sklearn.linear_model import LinearRegression, SGDRegressor"
   ]
  },
  {
   "cell_type": "code",
   "execution_count": 95,
   "metadata": {},
   "outputs": [],
   "source": [
    "from sklearn import preprocessing\n",
    "from sklearn.neighbors import KNeighborsRegressor\n",
    "from sklearn.tree import DecisionTreeRegressor, plot_tree\n",
    "from sklearn.svm import SVR\n",
    "from sklearn.linear_model import LinearRegression\n",
    "from sklearn.ensemble import RandomForestRegressor\n",
    "\n",
    "from xgboost import XGBRegressor\n",
    "\n",
    "from sklearn.model_selection import train_test_split,ParameterGrid\n",
    "from sklearn.metrics import confusion_matrix, accuracy_score, classification_report, r2_score\n"
   ]
  },
  {
   "cell_type": "markdown",
   "metadata": {},
   "source": [
    "\n",
    "<h2 id=\"Acerca del set de datos\">Acerca del set de datos</h2>\n",
    "\n",
    "### `FuelConsumption.csv`:\n",
    "Hemos descargado un conjunto de datos de consumo de combustible, **`FuelConsumption.csv`**, que contiene las clasificaciones de consumo de combustible específicas de cada modelo y las emisiones estimadas de dióxido de carbono de los vehículos ligeros nuevos para su venta al por menor en Canadá. [Fuente del conjunto de datos] (http://open.canada.ca/data/en/dataset/98f1a129-f628-4ce4-b24d-6f16bf24dd64)\n",
    "\n",
    "- **MODELYEAR** e.g. 2014\n",
    "- **MAKE** e.g. Acura\n",
    "- **MODEL** e.g. ILX\n",
    "- **VEHICLE CLASS** e.g. SUV\n",
    "- **ENGINE SIZE** e.g. 4.7\n",
    "- **CYLINDERS** e.g 6\n",
    "- **TRANSMISSION** e.g. A6\n",
    "- **FUELTYPE** e.g. z\n",
    "- **FUEL CONSUMPTION in CITY(L/100 km)** e.g. 9.9\n",
    "- **FUEL CONSUMPTION in HWY (L/100 km)** e.g. 8.9\n",
    "- **FUEL CONSUMPTION COMB (L/100 km)** e.g. 9.2\n",
    "- **CO2 EMISSIONS (g/km)** e.g. 182   --> low --> 0\n"
   ]
  },
  {
   "cell_type": "code",
   "execution_count": 96,
   "metadata": {},
   "outputs": [
    {
     "name": "stdout",
     "output_type": "stream",
     "text": [
      "(1067, 13)\n"
     ]
    },
    {
     "data": {
      "text/html": [
       "<div>\n",
       "<style scoped>\n",
       "    .dataframe tbody tr th:only-of-type {\n",
       "        vertical-align: middle;\n",
       "    }\n",
       "\n",
       "    .dataframe tbody tr th {\n",
       "        vertical-align: top;\n",
       "    }\n",
       "\n",
       "    .dataframe thead th {\n",
       "        text-align: right;\n",
       "    }\n",
       "</style>\n",
       "<table border=\"1\" class=\"dataframe\">\n",
       "  <thead>\n",
       "    <tr style=\"text-align: right;\">\n",
       "      <th></th>\n",
       "      <th>MODELYEAR</th>\n",
       "      <th>MAKE</th>\n",
       "      <th>MODEL</th>\n",
       "      <th>VEHICLECLASS</th>\n",
       "      <th>ENGINESIZE</th>\n",
       "      <th>CYLINDERS</th>\n",
       "      <th>TRANSMISSION</th>\n",
       "      <th>FUELTYPE</th>\n",
       "      <th>FUELCONSUMPTION_CITY</th>\n",
       "      <th>FUELCONSUMPTION_HWY</th>\n",
       "      <th>FUELCONSUMPTION_COMB</th>\n",
       "      <th>FUELCONSUMPTION_COMB_MPG</th>\n",
       "      <th>CO2EMISSIONS</th>\n",
       "    </tr>\n",
       "  </thead>\n",
       "  <tbody>\n",
       "    <tr>\n",
       "      <th>0</th>\n",
       "      <td>2014</td>\n",
       "      <td>ACURA</td>\n",
       "      <td>ILX</td>\n",
       "      <td>COMPACT</td>\n",
       "      <td>2.0</td>\n",
       "      <td>4</td>\n",
       "      <td>AS5</td>\n",
       "      <td>Z</td>\n",
       "      <td>9.9</td>\n",
       "      <td>6.7</td>\n",
       "      <td>8.5</td>\n",
       "      <td>33</td>\n",
       "      <td>196</td>\n",
       "    </tr>\n",
       "    <tr>\n",
       "      <th>1</th>\n",
       "      <td>2014</td>\n",
       "      <td>ACURA</td>\n",
       "      <td>ILX</td>\n",
       "      <td>COMPACT</td>\n",
       "      <td>2.4</td>\n",
       "      <td>4</td>\n",
       "      <td>M6</td>\n",
       "      <td>Z</td>\n",
       "      <td>11.2</td>\n",
       "      <td>7.7</td>\n",
       "      <td>9.6</td>\n",
       "      <td>29</td>\n",
       "      <td>221</td>\n",
       "    </tr>\n",
       "    <tr>\n",
       "      <th>2</th>\n",
       "      <td>2014</td>\n",
       "      <td>ACURA</td>\n",
       "      <td>ILX HYBRID</td>\n",
       "      <td>COMPACT</td>\n",
       "      <td>1.5</td>\n",
       "      <td>4</td>\n",
       "      <td>AV7</td>\n",
       "      <td>Z</td>\n",
       "      <td>6.0</td>\n",
       "      <td>5.8</td>\n",
       "      <td>5.9</td>\n",
       "      <td>48</td>\n",
       "      <td>136</td>\n",
       "    </tr>\n",
       "    <tr>\n",
       "      <th>3</th>\n",
       "      <td>2014</td>\n",
       "      <td>ACURA</td>\n",
       "      <td>MDX 4WD</td>\n",
       "      <td>SUV - SMALL</td>\n",
       "      <td>3.5</td>\n",
       "      <td>6</td>\n",
       "      <td>AS6</td>\n",
       "      <td>Z</td>\n",
       "      <td>12.7</td>\n",
       "      <td>9.1</td>\n",
       "      <td>11.1</td>\n",
       "      <td>25</td>\n",
       "      <td>255</td>\n",
       "    </tr>\n",
       "    <tr>\n",
       "      <th>4</th>\n",
       "      <td>2014</td>\n",
       "      <td>ACURA</td>\n",
       "      <td>RDX AWD</td>\n",
       "      <td>SUV - SMALL</td>\n",
       "      <td>3.5</td>\n",
       "      <td>6</td>\n",
       "      <td>AS6</td>\n",
       "      <td>Z</td>\n",
       "      <td>12.1</td>\n",
       "      <td>8.7</td>\n",
       "      <td>10.6</td>\n",
       "      <td>27</td>\n",
       "      <td>244</td>\n",
       "    </tr>\n",
       "  </tbody>\n",
       "</table>\n",
       "</div>"
      ],
      "text/plain": [
       "   MODELYEAR   MAKE       MODEL VEHICLECLASS  ENGINESIZE  CYLINDERS  \\\n",
       "0       2014  ACURA         ILX      COMPACT         2.0          4   \n",
       "1       2014  ACURA         ILX      COMPACT         2.4          4   \n",
       "2       2014  ACURA  ILX HYBRID      COMPACT         1.5          4   \n",
       "3       2014  ACURA     MDX 4WD  SUV - SMALL         3.5          6   \n",
       "4       2014  ACURA     RDX AWD  SUV - SMALL         3.5          6   \n",
       "\n",
       "  TRANSMISSION FUELTYPE  FUELCONSUMPTION_CITY  FUELCONSUMPTION_HWY  \\\n",
       "0          AS5        Z                   9.9                  6.7   \n",
       "1           M6        Z                  11.2                  7.7   \n",
       "2          AV7        Z                   6.0                  5.8   \n",
       "3          AS6        Z                  12.7                  9.1   \n",
       "4          AS6        Z                  12.1                  8.7   \n",
       "\n",
       "   FUELCONSUMPTION_COMB  FUELCONSUMPTION_COMB_MPG  CO2EMISSIONS  \n",
       "0                   8.5                        33           196  \n",
       "1                   9.6                        29           221  \n",
       "2                   5.9                        48           136  \n",
       "3                  11.1                        25           255  \n",
       "4                  10.6                        27           244  "
      ]
     },
     "execution_count": 96,
     "metadata": {},
     "output_type": "execute_result"
    }
   ],
   "source": [
    "df = pd.read_csv(\"~/Desktop/MLandPython/dataset archive/FuelConsumptionCo2.csv\")\n",
    "\n",
    "# Dale un vistazo al conjunto de datos\n",
    "print(df.shape)\n",
    "df[0:5]"
   ]
  },
  {
   "cell_type": "markdown",
   "metadata": {},
   "source": [
    "# Visualización de Datos y Análisis \n",
    "\n"
   ]
  },
  {
   "cell_type": "code",
   "execution_count": 97,
   "metadata": {},
   "outputs": [
    {
     "name": "stderr",
     "output_type": "stream",
     "text": [
      "/Users/robertosanzgarcia/opt/anaconda3/lib/python3.8/site-packages/pandas/plotting/_matplotlib/tools.py:400: MatplotlibDeprecationWarning: \n",
      "The is_first_col function was deprecated in Matplotlib 3.4 and will be removed two minor releases later. Use ax.get_subplotspec().is_first_col() instead.\n",
      "  if ax.is_first_col():\n"
     ]
    },
    {
     "data": {
      "text/plain": [
       "array([[<AxesSubplot:title={'center':'MODELYEAR'}>,\n",
       "        <AxesSubplot:title={'center':'ENGINESIZE'}>,\n",
       "        <AxesSubplot:title={'center':'CYLINDERS'}>],\n",
       "       [<AxesSubplot:title={'center':'FUELCONSUMPTION_CITY'}>,\n",
       "        <AxesSubplot:title={'center':'FUELCONSUMPTION_HWY'}>,\n",
       "        <AxesSubplot:title={'center':'FUELCONSUMPTION_COMB'}>],\n",
       "       [<AxesSubplot:title={'center':'FUELCONSUMPTION_COMB_MPG'}>,\n",
       "        <AxesSubplot:title={'center':'CO2EMISSIONS'}>, <AxesSubplot:>]],\n",
       "      dtype=object)"
      ]
     },
     "execution_count": 97,
     "metadata": {},
     "output_type": "execute_result"
    },
    {
     "data": {
      "image/png": "[encoded data removed]",
      "text/plain": [
       "<Figure size 1080x1080 with 9 Axes>"
      ]
     },
     "metadata": {
      "needs_background": "light"
     },
     "output_type": "display_data"
    }
   ],
   "source": [
    "# Variables numericas y categoricas\n",
    "\n",
    "# Esto imprime todos los histogramas de las columnas a la vez, con el parámetro figsize he controlado el tamaño\n",
    "df.hist(figsize=(15, 15))\n"
   ]
  },
  {
   "cell_type": "code",
   "execution_count": 98,
   "metadata": {},
   "outputs": [
    {
     "data": {
      "image/png": "[encoded data removed]",
      "text/plain": [
       "<Figure size 432x288 with 1 Axes>"
      ]
     },
     "metadata": {
      "needs_background": "light"
     },
     "output_type": "display_data"
    },
    {
     "data": {
      "image/png": "[encoded data removed]",
      "text/plain": [
       "<Figure size 432x288 with 1 Axes>"
      ]
     },
     "metadata": {
      "needs_background": "light"
     },
     "output_type": "display_data"
    },
    {
     "data": {
      "image/png": "[encoded data removed]",
      "text/plain": [
       "<Figure size 432x288 with 1 Axes>"
      ]
     },
     "metadata": {
      "needs_background": "light"
     },
     "output_type": "display_data"
    }
   ],
   "source": [
    "# También puedo ver cada variable indep con respecto a la var dep o target\n",
    "\n",
    "plt.scatter(df.ENGINESIZE, df.CO2EMISSIONS,  color='blue')\n",
    "plt.xlabel(\"Engine size\")\n",
    "plt.ylabel(\"Emission\")\n",
    "plt.show()\n",
    "plt.scatter(df.CYLINDERS, df.CO2EMISSIONS,  color='blue')\n",
    "plt.xlabel(\"Cylinders\")\n",
    "plt.ylabel(\"Emission\")\n",
    "plt.show()\n",
    "plt.scatter(df.FUELCONSUMPTION_COMB, df.CO2EMISSIONS,  color='blue')\n",
    "plt.xlabel(\"Fuel Consumption Comb\")\n",
    "plt.ylabel(\"Emission\")\n",
    "plt.show()"
   ]
  },
  {
   "cell_type": "code",
   "execution_count": 99,
   "metadata": {},
   "outputs": [
    {
     "data": {
      "text/plain": [
       "MODELYEAR                     int64\n",
       "MAKE                         object\n",
       "MODEL                        object\n",
       "VEHICLECLASS                 object\n",
       "ENGINESIZE                  float64\n",
       "CYLINDERS                     int64\n",
       "TRANSMISSION                 object\n",
       "FUELTYPE                     object\n",
       "FUELCONSUMPTION_CITY        float64\n",
       "FUELCONSUMPTION_HWY         float64\n",
       "FUELCONSUMPTION_COMB        float64\n",
       "FUELCONSUMPTION_COMB_MPG      int64\n",
       "CO2EMISSIONS                  int64\n",
       "dtype: object"
      ]
     },
     "execution_count": 99,
     "metadata": {},
     "output_type": "execute_result"
    }
   ],
   "source": [
    "# Miramos primero el tipo de dato de las columnas\n",
    "df.dtypes"
   ]
  },
  {
   "cell_type": "markdown",
   "metadata": {},
   "source": [
    "# Pre-procesamiento"
   ]
  },
  {
   "cell_type": "markdown",
   "metadata": {},
   "source": [
    "Utilizando <b>df</b> como los datos de panda el archivo FuelConsumptionCo2.csv, declara las siguientes variables: <br>\n",
    "<ul>\n",
    "    <li> <b> X </b> as the <b> Feature Matrix </b> (datos de df) </li>\n",
    "    <li> <b> y </b> como el <b> vector de respuesta </b> (target) </li>\n",
    "  \n",
    "</ul>"
   ]
  },
  {
   "cell_type": "code",
   "execution_count": 100,
   "metadata": {},
   "outputs": [
    {
     "data": {
      "text/plain": [
       "'CO2EMISSIONS'"
      ]
     },
     "execution_count": 100,
     "metadata": {},
     "output_type": "execute_result"
    }
   ],
   "source": [
    "#Elijo las variables que voy a emplear para entrenar el modelo\n",
    "vars_indep = ['ENGINESIZE','CYLINDERS','FUELCONSUMPTION_COMB']\n",
    "#vars_indep = ['ENGINESIZE','CYLINDERS','FUELCONSUMPTION_CITY','FUELCONSUMPTION_HWY','FUELCONSUMPTION_COMB','FUELCONSUMPTION_COMB_MPG']\n",
    "\n",
    "X = np.asarray(df[vars_indep])\n",
    "\n",
    "# Extraigo la variable dependiente/target, que asumo que es la ultima columna\n",
    "y_label = df.columns[-1]\n",
    "y = df[y_label]\n",
    "y_label"
   ]
  },
  {
   "cell_type": "markdown",
   "metadata": {},
   "source": [
    "## Normalizar los Datos "
   ]
  },
  {
   "cell_type": "markdown",
   "metadata": {},
   "source": [
    "La estandarización de Datos brinda a los datos cero media y varianza de unidad, es buena práctica, especialmente para algoritmos tales como KNN el cual se basa en distancia de casos:"
   ]
  },
  {
   "cell_type": "code",
   "execution_count": 101,
   "metadata": {},
   "outputs": [],
   "source": [
    "# #Elijo si normalizo o no los datos según el algoritmo de clasificación\n",
    "# X = preprocessing.StandardScaler().fit(X).transform(X.astype(float))\n",
    "# X[0:5]"
   ]
  },
  {
   "cell_type": "markdown",
   "metadata": {},
   "source": [
    "## Train Test Split  "
   ]
  },
  {
   "cell_type": "code",
   "execution_count": 102,
   "metadata": {},
   "outputs": [
    {
     "name": "stdout",
     "output_type": "stream",
     "text": [
      "Set de Entrenamiento: (853, 3) (853,)\n",
      "Set de Prueba: (214, 3) (214,)\n"
     ]
    },
    {
     "data": {
      "text/plain": [
       "531     269\n",
       "689     292\n",
       "404     165\n",
       "1049    184\n",
       "1043    198\n",
       "Name: CO2EMISSIONS, dtype: int64"
      ]
     },
     "execution_count": 102,
     "metadata": {},
     "output_type": "execute_result"
    }
   ],
   "source": [
    "X_train, X_test, y_train, y_test = train_test_split(X, y, test_size=0.2, random_state=8)\n",
    "print ('Set de Entrenamiento:', X_train.shape,  y_train.shape)\n",
    "print ('Set de Prueba:', X_test.shape,  y_test.shape)\n",
    "y_test[0:5]"
   ]
  },
  {
   "cell_type": "markdown",
   "metadata": {},
   "source": [
    "# Modelos de predicción"
   ]
  },
  {
   "cell_type": "markdown",
   "metadata": {},
   "source": [
    "<a name=\"id1\"></a> \n",
    "## Modelo de regresión lineal"
   ]
  },
  {
   "cell_type": "code",
   "execution_count": 103,
   "metadata": {},
   "outputs": [
    {
     "name": "stdout",
     "output_type": "stream",
     "text": [
      "Intercept: 62.174338123861276 Coefficients:  [ 9.71440651  7.75666556 10.11372285]\n",
      "R2 score con todos los datos: 0.8636326636787273\n",
      "R2 score de train: 0.8647921116907791\n",
      "R2 score de test: 0.8588033701635215\n"
     ]
    }
   ],
   "source": [
    "# Modelo de regresion lineal, OLS supongo, con ecuacion normal supongo\n",
    "regr = LinearRegression()\n",
    "\n",
    "## No voy a entrenarlo con todos los datos\n",
    "# X = np.asanyarray(df[['ENGINESIZE','CYLINDERS','FUELCONSUMPTION_COMB']])\n",
    "# y = np.asanyarray(df[['CO2EMISSIONS']])\n",
    "# regr.fit (X, y)\n",
    "regr.fit(X_train, y_train)\n",
    "\n",
    "# The coefficients\n",
    "print ('Intercept:',regr.intercept_,'Coefficients: ', regr.coef_)\n",
    "\n",
    "#Parece que la R2 que saldria con todos los datos es esta\n",
    "print('R2 score con todos los datos:',regr.score(X,y))\n",
    "\n",
    "# Prediccion con los datos seleccionados de entrenamiento\n",
    "y_pred= regr.predict(X_train)\n",
    "y_hat = regr.predict(X_test)\n",
    "regr_acc_train = r2_score(y_train, y_pred)\n",
    "regr_acc_test = r2_score(y_test, y_hat)\n",
    "print('R2 score de train:', regr_acc_train)\n",
    "print('R2 score de test:', regr_acc_test)"
   ]
  },
  {
   "cell_type": "markdown",
   "metadata": {},
   "source": [
    "## Modelo de regresión lineal con SGD"
   ]
  },
  {
   "cell_type": "code",
   "execution_count": 104,
   "metadata": {},
   "outputs": [
    {
     "name": "stdout",
     "output_type": "stream",
     "text": [
      "Intercept: [40.40687907] Coefficients:  [ 1.98740126 13.00216329 10.56087738]\n",
      "R2 score de train: 0.8251205245501033\n",
      "R2 score de test: 0.8327951529179044\n"
     ]
    }
   ],
   "source": [
    "# Modelo de regresion lineal con Stochastic Gradient Descent\n",
    "sgd_model = SGDRegressor()\n",
    "\n",
    "## No voy a entrenarlo con todos los datos\n",
    "# X = np.asanyarray(df[['ENGINESIZE','CYLINDERS','FUELCONSUMPTION_COMB']])\n",
    "# y = np.asanyarray(df[['CO2EMISSIONS']])\n",
    "# sgd_model.fit (X, y)\n",
    "sgd_model.fit(X_train, y_train)\n",
    "\n",
    "# The coefficients\n",
    "print ('Intercept:',sgd_model.intercept_,'Coefficients: ', sgd_model.coef_)\n",
    "\n",
    "# Predccion con los mismos datos\n",
    "y_pred= sgd_model.predict(X_train)\n",
    "y_hat2 = sgd_model.predict(X_test)\n",
    "regrSGD_acc_train = r2_score(y_train, y_pred)\n",
    "regrSGD_acc_test = r2_score(y_test, y_hat2)\n",
    "print('R2 score de train:',regrSGD_acc_train)\n",
    "print('R2 score de test:',regrSGD_acc_test)"
   ]
  },
  {
   "cell_type": "markdown",
   "metadata": {},
   "source": [
    "\n",
    "**VISUALIZACION**\n",
    "\n",
    "Comparo la predicción de regresión lineal normal (1º plot) con la SGD (2º plot)\n",
    "\n",
    "Si se tapan los puntos azules con los negros o con los azules es que la predicción es exacta\n"
   ]
  },
  {
   "cell_type": "code",
   "execution_count": 105,
   "metadata": {},
   "outputs": [
    {
     "data": {
      "image/png": "[encoded data removed]",
      "text/plain": [
       "<Figure size 432x288 with 1 Axes>"
      ]
     },
     "metadata": {
      "needs_background": "light"
     },
     "output_type": "display_data"
    },
    {
     "data": {
      "image/png": "[encoded data removed]",
      "text/plain": [
       "<Figure size 432x288 with 1 Axes>"
      ]
     },
     "metadata": {
      "needs_background": "light"
     },
     "output_type": "display_data"
    }
   ],
   "source": [
    "# Plot de la Y original con la predicha por reegresion lineal normal o la SGD\n",
    "# Si se tapan los puntos rojos con los negros o con los azules es que la predicción es exacta\n",
    "plt.scatter(y_test.index, y_test,  color='blue')\n",
    "plt.scatter(y_test.index, y_hat,  color='black')\n",
    "plt.show()\n",
    "plt.scatter(y_test.index, y_test,  color='blue')\n",
    "plt.scatter(y_test.index, y_hat2, color='black')\n",
    "plt.show()\n"
   ]
  },
  {
   "cell_type": "markdown",
   "metadata": {},
   "source": [
    "<a name=\"id2\"></a> \n",
    "## KNN Regressor"
   ]
  },
  {
   "cell_type": "markdown",
   "metadata": {},
   "source": [
    "### Directamente optimizo hiperparámetros"
   ]
  },
  {
   "cell_type": "code",
   "execution_count": 106,
   "metadata": {},
   "outputs": [
    {
     "name": "stdout",
     "output_type": "stream",
     "text": [
      "Modelo: {'algorithm': 'auto', 'n_neighbors': 3, 'weights': 'uniform'} ✓\n",
      "Modelo: {'algorithm': 'auto', 'n_neighbors': 3, 'weights': 'distance'} ✓\n",
      "Modelo: {'algorithm': 'auto', 'n_neighbors': 5, 'weights': 'uniform'} ✓\n",
      "Modelo: {'algorithm': 'auto', 'n_neighbors': 5, 'weights': 'distance'} ✓\n",
      "Modelo: {'algorithm': 'auto', 'n_neighbors': 7, 'weights': 'uniform'} ✓\n",
      "Modelo: {'algorithm': 'auto', 'n_neighbors': 7, 'weights': 'distance'} ✓\n",
      "Modelo: {'algorithm': 'auto', 'n_neighbors': 9, 'weights': 'uniform'} ✓\n",
      "Modelo: {'algorithm': 'auto', 'n_neighbors': 9, 'weights': 'distance'} ✓\n",
      "Modelo: {'algorithm': 'auto', 'n_neighbors': 11, 'weights': 'uniform'} ✓\n",
      "Modelo: {'algorithm': 'auto', 'n_neighbors': 11, 'weights': 'distance'} ✓\n",
      "Modelo: {'algorithm': 'auto', 'n_neighbors': 13, 'weights': 'uniform'} ✓\n",
      "Modelo: {'algorithm': 'auto', 'n_neighbors': 13, 'weights': 'distance'} ✓\n",
      "Modelo: {'algorithm': 'auto', 'n_neighbors': 15, 'weights': 'uniform'} ✓\n",
      "Modelo: {'algorithm': 'auto', 'n_neighbors': 15, 'weights': 'distance'} ✓\n",
      "Modelo: {'algorithm': 'auto', 'n_neighbors': 17, 'weights': 'uniform'} ✓\n",
      "Modelo: {'algorithm': 'auto', 'n_neighbors': 17, 'weights': 'distance'} ✓\n",
      "Modelo: {'algorithm': 'auto', 'n_neighbors': 19, 'weights': 'uniform'} ✓\n",
      "Modelo: {'algorithm': 'auto', 'n_neighbors': 19, 'weights': 'distance'} ✓\n",
      "Modelo: {'algorithm': 'ball_tree', 'n_neighbors': 3, 'weights': 'uniform'} ✓\n",
      "Modelo: {'algorithm': 'ball_tree', 'n_neighbors': 3, 'weights': 'distance'} ✓\n",
      "Modelo: {'algorithm': 'ball_tree', 'n_neighbors': 5, 'weights': 'uniform'} ✓\n",
      "Modelo: {'algorithm': 'ball_tree', 'n_neighbors': 5, 'weights': 'distance'} ✓\n",
      "Modelo: {'algorithm': 'ball_tree', 'n_neighbors': 7, 'weights': 'uniform'} ✓\n",
      "Modelo: {'algorithm': 'ball_tree', 'n_neighbors': 7, 'weights': 'distance'} ✓\n",
      "Modelo: {'algorithm': 'ball_tree', 'n_neighbors': 9, 'weights': 'uniform'} ✓\n",
      "Modelo: {'algorithm': 'ball_tree', 'n_neighbors': 9, 'weights': 'distance'} ✓\n",
      "Modelo: {'algorithm': 'ball_tree', 'n_neighbors': 11, 'weights': 'uniform'} ✓\n",
      "Modelo: {'algorithm': 'ball_tree', 'n_neighbors': 11, 'weights': 'distance'} ✓\n",
      "Modelo: {'algorithm': 'ball_tree', 'n_neighbors': 13, 'weights': 'uniform'} ✓\n",
      "Modelo: {'algorithm': 'ball_tree', 'n_neighbors': 13, 'weights': 'distance'} ✓\n",
      "Modelo: {'algorithm': 'ball_tree', 'n_neighbors': 15, 'weights': 'uniform'} ✓\n",
      "Modelo: {'algorithm': 'ball_tree', 'n_neighbors': 15, 'weights': 'distance'} ✓\n",
      "Modelo: {'algorithm': 'ball_tree', 'n_neighbors': 17, 'weights': 'uniform'} ✓\n",
      "Modelo: {'algorithm': 'ball_tree', 'n_neighbors': 17, 'weights': 'distance'} ✓\n",
      "Modelo: {'algorithm': 'ball_tree', 'n_neighbors': 19, 'weights': 'uniform'} ✓\n",
      "Modelo: {'algorithm': 'ball_tree', 'n_neighbors': 19, 'weights': 'distance'} ✓\n",
      "Modelo: {'algorithm': 'kd_tree', 'n_neighbors': 3, 'weights': 'uniform'} ✓\n",
      "Modelo: {'algorithm': 'kd_tree', 'n_neighbors': 3, 'weights': 'distance'} ✓\n",
      "Modelo: {'algorithm': 'kd_tree', 'n_neighbors': 5, 'weights': 'uniform'} ✓\n",
      "Modelo: {'algorithm': 'kd_tree', 'n_neighbors': 5, 'weights': 'distance'} ✓\n",
      "Modelo: {'algorithm': 'kd_tree', 'n_neighbors': 7, 'weights': 'uniform'} ✓\n",
      "Modelo: {'algorithm': 'kd_tree', 'n_neighbors': 7, 'weights': 'distance'} ✓\n",
      "Modelo: {'algorithm': 'kd_tree', 'n_neighbors': 9, 'weights': 'uniform'} ✓\n",
      "Modelo: {'algorithm': 'kd_tree', 'n_neighbors': 9, 'weights': 'distance'} ✓\n",
      "Modelo: {'algorithm': 'kd_tree', 'n_neighbors': 11, 'weights': 'uniform'} ✓\n",
      "Modelo: {'algorithm': 'kd_tree', 'n_neighbors': 11, 'weights': 'distance'} ✓\n",
      "Modelo: {'algorithm': 'kd_tree', 'n_neighbors': 13, 'weights': 'uniform'} ✓\n",
      "Modelo: {'algorithm': 'kd_tree', 'n_neighbors': 13, 'weights': 'distance'} ✓\n",
      "Modelo: {'algorithm': 'kd_tree', 'n_neighbors': 15, 'weights': 'uniform'} ✓\n",
      "Modelo: {'algorithm': 'kd_tree', 'n_neighbors': 15, 'weights': 'distance'} ✓\n",
      "Modelo: {'algorithm': 'kd_tree', 'n_neighbors': 17, 'weights': 'uniform'} ✓\n",
      "Modelo: {'algorithm': 'kd_tree', 'n_neighbors': 17, 'weights': 'distance'} ✓\n",
      "Modelo: {'algorithm': 'kd_tree', 'n_neighbors': 19, 'weights': 'uniform'} ✓\n",
      "Modelo: {'algorithm': 'kd_tree', 'n_neighbors': 19, 'weights': 'distance'} ✓\n",
      "Modelo: {'algorithm': 'brute', 'n_neighbors': 3, 'weights': 'uniform'} ✓\n",
      "Modelo: {'algorithm': 'brute', 'n_neighbors': 3, 'weights': 'distance'} ✓\n",
      "Modelo: {'algorithm': 'brute', 'n_neighbors': 5, 'weights': 'uniform'} ✓\n",
      "Modelo: {'algorithm': 'brute', 'n_neighbors': 5, 'weights': 'distance'} ✓\n",
      "Modelo: {'algorithm': 'brute', 'n_neighbors': 7, 'weights': 'uniform'} ✓\n",
      "Modelo: {'algorithm': 'brute', 'n_neighbors': 7, 'weights': 'distance'} ✓\n",
      "Modelo: {'algorithm': 'brute', 'n_neighbors': 9, 'weights': 'uniform'} ✓\n",
      "Modelo: {'algorithm': 'brute', 'n_neighbors': 9, 'weights': 'distance'} ✓\n",
      "Modelo: {'algorithm': 'brute', 'n_neighbors': 11, 'weights': 'uniform'} ✓\n",
      "Modelo: {'algorithm': 'brute', 'n_neighbors': 11, 'weights': 'distance'} ✓\n",
      "Modelo: {'algorithm': 'brute', 'n_neighbors': 13, 'weights': 'uniform'} ✓\n",
      "Modelo: {'algorithm': 'brute', 'n_neighbors': 13, 'weights': 'distance'} ✓\n",
      "Modelo: {'algorithm': 'brute', 'n_neighbors': 15, 'weights': 'uniform'} ✓\n",
      "Modelo: {'algorithm': 'brute', 'n_neighbors': 15, 'weights': 'distance'} ✓\n",
      "Modelo: {'algorithm': 'brute', 'n_neighbors': 17, 'weights': 'uniform'} ✓\n",
      "Modelo: {'algorithm': 'brute', 'n_neighbors': 17, 'weights': 'distance'} ✓\n",
      "Modelo: {'algorithm': 'brute', 'n_neighbors': 19, 'weights': 'uniform'} ✓\n",
      "Modelo: {'algorithm': 'brute', 'n_neighbors': 19, 'weights': 'distance'} ✓\n"
     ]
    },
    {
     "data": {
      "text/html": [
       "<div>\n",
       "<style scoped>\n",
       "    .dataframe tbody tr th:only-of-type {\n",
       "        vertical-align: middle;\n",
       "    }\n",
       "\n",
       "    .dataframe tbody tr th {\n",
       "        vertical-align: top;\n",
       "    }\n",
       "\n",
       "    .dataframe thead th {\n",
       "        text-align: right;\n",
       "    }\n",
       "</style>\n",
       "<table border=\"1\" class=\"dataframe\">\n",
       "  <thead>\n",
       "    <tr style=\"text-align: right;\">\n",
       "      <th></th>\n",
       "      <th>accuracy</th>\n",
       "      <th>algorithm</th>\n",
       "      <th>n_neighbors</th>\n",
       "      <th>weights</th>\n",
       "    </tr>\n",
       "  </thead>\n",
       "  <tbody>\n",
       "    <tr>\n",
       "      <th>27</th>\n",
       "      <td>0.960021</td>\n",
       "      <td>ball_tree</td>\n",
       "      <td>11</td>\n",
       "      <td>distance</td>\n",
       "    </tr>\n",
       "    <tr>\n",
       "      <th>45</th>\n",
       "      <td>0.960021</td>\n",
       "      <td>kd_tree</td>\n",
       "      <td>11</td>\n",
       "      <td>distance</td>\n",
       "    </tr>\n",
       "    <tr>\n",
       "      <th>9</th>\n",
       "      <td>0.960021</td>\n",
       "      <td>auto</td>\n",
       "      <td>11</td>\n",
       "      <td>distance</td>\n",
       "    </tr>\n",
       "    <tr>\n",
       "      <th>63</th>\n",
       "      <td>0.959543</td>\n",
       "      <td>brute</td>\n",
       "      <td>11</td>\n",
       "      <td>distance</td>\n",
       "    </tr>\n",
       "    <tr>\n",
       "      <th>61</th>\n",
       "      <td>0.959482</td>\n",
       "      <td>brute</td>\n",
       "      <td>9</td>\n",
       "      <td>distance</td>\n",
       "    </tr>\n",
       "    <tr>\n",
       "      <th>43</th>\n",
       "      <td>0.959471</td>\n",
       "      <td>kd_tree</td>\n",
       "      <td>9</td>\n",
       "      <td>distance</td>\n",
       "    </tr>\n",
       "    <tr>\n",
       "      <th>7</th>\n",
       "      <td>0.959471</td>\n",
       "      <td>auto</td>\n",
       "      <td>9</td>\n",
       "      <td>distance</td>\n",
       "    </tr>\n",
       "  </tbody>\n",
       "</table>\n",
       "</div>"
      ],
      "text/plain": [
       "    accuracy  algorithm  n_neighbors   weights\n",
       "27  0.960021  ball_tree           11  distance\n",
       "45  0.960021    kd_tree           11  distance\n",
       "9   0.960021       auto           11  distance\n",
       "63  0.959543      brute           11  distance\n",
       "61  0.959482      brute            9  distance\n",
       "43  0.959471    kd_tree            9  distance\n",
       "7   0.959471       auto            9  distance"
      ]
     },
     "execution_count": 106,
     "metadata": {},
     "output_type": "execute_result"
    }
   ],
   "source": [
    "## Optimizo los hiperparámetros\n",
    "# Grid de hiperparámetros evaluados\n",
    "# ==============================================================================\n",
    "param_grid = ParameterGrid(\n",
    "                {'n_neighbors' : list(range(3,21,2)),\n",
    "                 'weights'     : ['uniform','distance'],\n",
    "                 'algorithm'   : ['auto', 'ball_tree', 'kd_tree', 'brute']\n",
    "                }\n",
    "            )\n",
    "\n",
    "# Loop para ajustar un modelo con cada combinación de hiperparámetros\n",
    "# ==============================================================================\n",
    "resultados = {'params': [], 'accuracy': []}\n",
    "\n",
    "for params in param_grid:\n",
    "    \n",
    "    modelo = KNeighborsRegressor(        \n",
    "                ** params\n",
    "             )\n",
    "    \n",
    "    modelo.fit(X_train, y_train)\n",
    "    y_hat3= modelo.predict(X_test)\n",
    "    \n",
    "    resultados['params'].append(params)\n",
    "    resultados['accuracy'].append(r2_score(y_test,y_hat3))\n",
    "    print(f\"Modelo: {params} \\u2713\")\n",
    "\n",
    "# Resultados\n",
    "# ==============================================================================\n",
    "resultados = pd.DataFrame(resultados)\n",
    "resultados = pd.concat([resultados, resultados['params'].apply(pd.Series)], axis=1)\n",
    "resultados = resultados.sort_values('accuracy', ascending=False)\n",
    "resultados = resultados.drop(columns = 'params')\n",
    "resultados.head(7)"
   ]
  },
  {
   "cell_type": "markdown",
   "metadata": {},
   "source": [
    "### Creo, entreno y evalúo el modelo con los mejores hiperparámetros"
   ]
  },
  {
   "cell_type": "code",
   "execution_count": 107,
   "metadata": {},
   "outputs": [
    {
     "name": "stdout",
     "output_type": "stream",
     "text": [
      "R2 score de train: 0.9960559054348577\n",
      "R2 score de test: 0.9600209626972516\n"
     ]
    },
    {
     "data": {
      "text/plain": [
       "KNeighborsRegressor(algorithm='ball_tree', n_neighbors=11, weights='distance')"
      ]
     },
     "execution_count": 107,
     "metadata": {},
     "output_type": "execute_result"
    }
   ],
   "source": [
    "#Creo el modelo y lo entreno con X e Y train\n",
    "resultados = resultados.reset_index(drop=True)\n",
    "knn_model = KNeighborsRegressor(algorithm = resultados.at[0,'algorithm'],\n",
    "                                n_neighbors = resultados.at[0,'n_neighbors'],\n",
    "                                weights = resultados.at[0,'weights'])\n",
    "knn_model.fit(X_train,y_train)\n",
    "\n",
    "#Hago predicción con X_test y lo comparo con y_test\n",
    "y_pred= knn_model.predict(X_train)\n",
    "y_hat3 = knn_model.predict(X_test)\n",
    "  \n",
    "#print('Parametros del mejor arbol: ',resultados.at[0,'criterion'],resultados.at[0,'max_depth'],resultados.at[0,'max_features'])    \n",
    "knn_acc_train = r2_score(y_train, y_pred)\n",
    "knn_acc_test = r2_score(y_test, y_hat3)\n",
    "print('R2 score de train:', knn_acc_train)\n",
    "print('R2 score de test:', knn_acc_test)\n",
    "knn_model"
   ]
  },
  {
   "cell_type": "markdown",
   "metadata": {},
   "source": [
    "\n",
    "**VISUALIZACION**\n",
    "\n",
    "Comparo la predicción de regresión lineal normal (1º plot) con la KNN (2º plot)\n",
    "\n",
    "Si se tapan los puntos azules con los negros es que la predicción es exacta\n"
   ]
  },
  {
   "cell_type": "code",
   "execution_count": 108,
   "metadata": {},
   "outputs": [
    {
     "data": {
      "image/png": "[encoded data removed]",
      "text/plain": [
       "<Figure size 432x288 with 1 Axes>"
      ]
     },
     "metadata": {
      "needs_background": "light"
     },
     "output_type": "display_data"
    },
    {
     "data": {
      "image/png": "[encoded data removed]",
      "text/plain": [
       "<Figure size 432x288 with 1 Axes>"
      ]
     },
     "metadata": {
      "needs_background": "light"
     },
     "output_type": "display_data"
    }
   ],
   "source": [
    "# Plot de la Y original con la predicha\n",
    "# El primero es el plot de LinearRgressor, la prediccion en negro va encima del dato real en azul\n",
    "plt.scatter(y_test.index, y_test,  color='blue'), \n",
    "plt.scatter(y_test.index, y_hat,  color='black')\n",
    "plt.show()\n",
    "# El segundo es el KNNRegressor, cuanto menos azul se vea mejor, más precisión\n",
    "plt.scatter(y_test.index, y_test,  color='blue'), \n",
    "plt.scatter(y_test.index, y_hat3,  color='black')\n",
    "plt.show()\n"
   ]
  },
  {
   "cell_type": "markdown",
   "metadata": {},
   "source": [
    "<a name=\"id3\"></a> \n",
    "## Decision Tree Regressor"
   ]
  },
  {
   "cell_type": "markdown",
   "metadata": {},
   "source": [
    "### Directamente optimizo hiperparámetros"
   ]
  },
  {
   "cell_type": "code",
   "execution_count": 109,
   "metadata": {},
   "outputs": [
    {
     "name": "stdout",
     "output_type": "stream",
     "text": [
      "Modelo: {'criterion': 'mse', 'max_features': 'auto'} ✓\n",
      "Modelo: {'criterion': 'mse', 'max_features': 'sqrt'} ✓\n",
      "Modelo: {'criterion': 'mse', 'max_features': 'log2'} ✓\n",
      "Modelo: {'criterion': 'mae', 'max_features': 'auto'} ✓\n",
      "Modelo: {'criterion': 'mae', 'max_features': 'sqrt'} ✓\n",
      "Modelo: {'criterion': 'mae', 'max_features': 'log2'} ✓\n"
     ]
    },
    {
     "data": {
      "text/html": [
       "<div>\n",
       "<style scoped>\n",
       "    .dataframe tbody tr th:only-of-type {\n",
       "        vertical-align: middle;\n",
       "    }\n",
       "\n",
       "    .dataframe tbody tr th {\n",
       "        vertical-align: top;\n",
       "    }\n",
       "\n",
       "    .dataframe thead th {\n",
       "        text-align: right;\n",
       "    }\n",
       "</style>\n",
       "<table border=\"1\" class=\"dataframe\">\n",
       "  <thead>\n",
       "    <tr style=\"text-align: right;\">\n",
       "      <th></th>\n",
       "      <th>accuracy</th>\n",
       "      <th>criterion</th>\n",
       "      <th>max_features</th>\n",
       "    </tr>\n",
       "  </thead>\n",
       "  <tbody>\n",
       "    <tr>\n",
       "      <th>0</th>\n",
       "      <td>0.961065</td>\n",
       "      <td>mse</td>\n",
       "      <td>auto</td>\n",
       "    </tr>\n",
       "    <tr>\n",
       "      <th>4</th>\n",
       "      <td>0.954661</td>\n",
       "      <td>mae</td>\n",
       "      <td>sqrt</td>\n",
       "    </tr>\n",
       "    <tr>\n",
       "      <th>5</th>\n",
       "      <td>0.954661</td>\n",
       "      <td>mae</td>\n",
       "      <td>log2</td>\n",
       "    </tr>\n",
       "    <tr>\n",
       "      <th>1</th>\n",
       "      <td>0.916424</td>\n",
       "      <td>mse</td>\n",
       "      <td>sqrt</td>\n",
       "    </tr>\n",
       "    <tr>\n",
       "      <th>2</th>\n",
       "      <td>0.916424</td>\n",
       "      <td>mse</td>\n",
       "      <td>log2</td>\n",
       "    </tr>\n",
       "    <tr>\n",
       "      <th>3</th>\n",
       "      <td>0.905426</td>\n",
       "      <td>mae</td>\n",
       "      <td>auto</td>\n",
       "    </tr>\n",
       "  </tbody>\n",
       "</table>\n",
       "</div>"
      ],
      "text/plain": [
       "   accuracy criterion max_features\n",
       "0  0.961065       mse         auto\n",
       "4  0.954661       mae         sqrt\n",
       "5  0.954661       mae         log2\n",
       "1  0.916424       mse         sqrt\n",
       "2  0.916424       mse         log2\n",
       "3  0.905426       mae         auto"
      ]
     },
     "execution_count": 109,
     "metadata": {},
     "output_type": "execute_result"
    }
   ],
   "source": [
    "## Optimizo los hiperparámetros\n",
    "# Grid de hiperparámetros evaluados\n",
    "# ==============================================================================\n",
    "param_grid = ParameterGrid(\n",
    "                {'max_features': ['auto','sqrt','log2'],\n",
    "                 'criterion'   : [ 'mse','mae']\n",
    "                }\n",
    "           )\n",
    "\n",
    "# Loop para ajustar un modelo con cada combinación de hiperparámetros\n",
    "# ==============================================================================\n",
    "resultados = {'params': [], 'accuracy': []}\n",
    "\n",
    "for params in param_grid:\n",
    "    \n",
    "    modelo = DecisionTreeRegressor(\n",
    "               random_state = 123,\n",
    "                ** params\n",
    "              )\n",
    "    \n",
    "    modelo.fit(X_train, y_train)\n",
    "    y_hat4= modelo.predict(X_test)\n",
    "    \n",
    "    resultados['params'].append(params)\n",
    "    resultados['accuracy'].append(r2_score(y_test,y_hat4))\n",
    "    print(f\"Modelo: {params} \\u2713\")\n",
    "\n",
    "# Resultados\n",
    "# ==============================================================================\n",
    "resultados = pd.DataFrame(resultados)\n",
    "resultados = pd.concat([resultados, resultados['params'].apply(pd.Series)], axis=1)\n",
    "resultados = resultados.sort_values('accuracy', ascending=False)\n",
    "resultados = resultados.drop(columns = 'params')\n",
    "resultados.head(7)"
   ]
  },
  {
   "cell_type": "markdown",
   "metadata": {},
   "source": [
    "### Creo, entreno y evalúo el modelo con los mejores hiperparámetros"
   ]
  },
  {
   "cell_type": "code",
   "execution_count": 110,
   "metadata": {},
   "outputs": [
    {
     "name": "stdout",
     "output_type": "stream",
     "text": [
      "R2 score de train: 0.9960559054348577\n",
      "R2 score de test: 0.9611139594512716\n"
     ]
    },
    {
     "data": {
      "text/plain": [
       "DecisionTreeRegressor(max_features='auto')"
      ]
     },
     "execution_count": 110,
     "metadata": {},
     "output_type": "execute_result"
    }
   ],
   "source": [
    "#Creo el modelo y lo entreno con X e Y train\n",
    "resultados = resultados.reset_index(drop=True)\n",
    "dt_model = DecisionTreeRegressor(max_features= resultados.at[0,'max_features'],\n",
    "                                 criterion   = resultados.at[0,'criterion'])\n",
    "dt_model.fit(X_train,y_train)\n",
    "\n",
    "#Hago predicción con X_test y lo comparo con y_test\n",
    "y_pred= dt_model.predict(X_train)\n",
    "y_hat4 = dt_model.predict(X_test)\n",
    "  \n",
    "#print('Parametros del mejor arbol: ',resultados.at[0,'criterion'],resultados.at[0,'max_depth'],resultados.at[0,'max_features'])    \n",
    "dt_acc_train = r2_score(y_train, y_pred)\n",
    "dt_acc_test = r2_score(y_test, y_hat4)\n",
    "print('R2 score de train:',dt_acc_train)\n",
    "print('R2 score de test:',dt_acc_test)\n",
    "dt_model"
   ]
  },
  {
   "cell_type": "code",
   "execution_count": 111,
   "metadata": {},
   "outputs": [
    {
     "data": {
      "image/png": "[encoded data removed]",
      "text/plain": [
       "<Figure size 432x288 with 1 Axes>"
      ]
     },
     "metadata": {
      "needs_background": "light"
     },
     "output_type": "display_data"
    },
    {
     "data": {
      "image/png": "[encoded data removed]",
      "text/plain": [
       "<Figure size 432x288 with 1 Axes>"
      ]
     },
     "metadata": {
      "needs_background": "light"
     },
     "output_type": "display_data"
    }
   ],
   "source": [
    "# Plot de la Y original con la predicha\n",
    "# El primero es el plot de LinearRgressor, la prediccion en negro va encima del dato real en azul\n",
    "plt.scatter(y_test.index, y_test,  color='blue'), \n",
    "plt.scatter(y_test.index, y_hat,  color='black')\n",
    "plt.show()\n",
    "# El segundo es el DecisionTreeRegressor, cuanto menos azul se vea mejor, más precisión\n",
    "plt.scatter(y_test.index, y_test,  color='blue'), \n",
    "plt.scatter(y_test.index, y_hat4,  color='black')\n",
    "plt.show()\n"
   ]
  },
  {
   "cell_type": "code",
   "execution_count": 112,
   "metadata": {},
   "outputs": [
    {
     "name": "stdout",
     "output_type": "stream",
     "text": [
      "Importancia de los predictores en el modelo\n",
      "-------------------------------------------\n"
     ]
    },
    {
     "data": {
      "text/html": [
       "<div>\n",
       "<style scoped>\n",
       "    .dataframe tbody tr th:only-of-type {\n",
       "        vertical-align: middle;\n",
       "    }\n",
       "\n",
       "    .dataframe tbody tr th {\n",
       "        vertical-align: top;\n",
       "    }\n",
       "\n",
       "    .dataframe thead th {\n",
       "        text-align: right;\n",
       "    }\n",
       "</style>\n",
       "<table border=\"1\" class=\"dataframe\">\n",
       "  <thead>\n",
       "    <tr style=\"text-align: right;\">\n",
       "      <th></th>\n",
       "      <th>predictor</th>\n",
       "      <th>importancia</th>\n",
       "    </tr>\n",
       "  </thead>\n",
       "  <tbody>\n",
       "    <tr>\n",
       "      <th>2</th>\n",
       "      <td>FUELCONSUMPTION_COMB</td>\n",
       "      <td>0.891088</td>\n",
       "    </tr>\n",
       "    <tr>\n",
       "      <th>1</th>\n",
       "      <td>CYLINDERS</td>\n",
       "      <td>0.089364</td>\n",
       "    </tr>\n",
       "    <tr>\n",
       "      <th>0</th>\n",
       "      <td>ENGINESIZE</td>\n",
       "      <td>0.019548</td>\n",
       "    </tr>\n",
       "  </tbody>\n",
       "</table>\n",
       "</div>"
      ],
      "text/plain": [
       "              predictor  importancia\n",
       "2  FUELCONSUMPTION_COMB     0.891088\n",
       "1             CYLINDERS     0.089364\n",
       "0            ENGINESIZE     0.019548"
      ]
     },
     "execution_count": 112,
     "metadata": {},
     "output_type": "execute_result"
    }
   ],
   "source": [
    "importancia_predictores = pd.DataFrame(\n",
    "                            {'predictor': vars_indep,\n",
    "                             'importancia': dt_model.feature_importances_}\n",
    "                            )\n",
    "print(\"Importancia de los predictores en el modelo\")\n",
    "print(\"-------------------------------------------\")\n",
    "importancia_predictores.sort_values('importancia', ascending=False)"
   ]
  },
  {
   "cell_type": "code",
   "execution_count": 113,
   "metadata": {},
   "outputs": [
    {
     "data": {
      "image/png": "[encoded data removed]",
      "text/plain": [
       "<Figure size 1224x1224 with 1 Axes>"
      ]
     },
     "metadata": {
      "needs_background": "light"
     },
     "output_type": "display_data"
    }
   ],
   "source": [
    "#Preparo las etiquetas del arbol\n",
    "featureNames = vars_indep\n",
    "# Aqui no hay clases en la var dep\n",
    "#targetNames = sorted(df[y_label].unique().astype('str'))\n",
    "\n",
    "#Esto pinta bien el arbol, hay que poner antes el tamaño de la figura, sino lo hace muy pequeño\n",
    "plt.figure(figsize=(17, 17))\n",
    "plot_tree(dt_model, max_depth=2,filled=True, rounded=True)\n",
    "plt.show()"
   ]
  },
  {
   "cell_type": "markdown",
   "metadata": {},
   "source": [
    "<a name=\"id4\"></a> \n",
    "## Support Vector Machine SVM Regressor"
   ]
  },
  {
   "cell_type": "markdown",
   "metadata": {},
   "source": [
    "### Directamente optimizo hiperparámetros"
   ]
  },
  {
   "cell_type": "code",
   "execution_count": 114,
   "metadata": {},
   "outputs": [
    {
     "name": "stdout",
     "output_type": "stream",
     "text": [
      "Modelo: {'C': 0.1, 'kernel': 'linear'} ✓\n",
      "Modelo: {'C': 0.1, 'kernel': 'poly'} ✓\n",
      "Modelo: {'C': 0.1, 'kernel': 'rbf'} ✓\n",
      "Modelo: {'C': 1, 'kernel': 'linear'} ✓\n",
      "Modelo: {'C': 1, 'kernel': 'poly'} ✓\n",
      "Modelo: {'C': 1, 'kernel': 'rbf'} ✓\n",
      "Modelo: {'C': 100, 'kernel': 'linear'} ✓\n",
      "Modelo: {'C': 100, 'kernel': 'poly'} ✓\n",
      "Modelo: {'C': 100, 'kernel': 'rbf'} ✓\n"
     ]
    },
    {
     "data": {
      "text/html": [
       "<div>\n",
       "<style scoped>\n",
       "    .dataframe tbody tr th:only-of-type {\n",
       "        vertical-align: middle;\n",
       "    }\n",
       "\n",
       "    .dataframe tbody tr th {\n",
       "        vertical-align: top;\n",
       "    }\n",
       "\n",
       "    .dataframe thead th {\n",
       "        text-align: right;\n",
       "    }\n",
       "</style>\n",
       "<table border=\"1\" class=\"dataframe\">\n",
       "  <thead>\n",
       "    <tr style=\"text-align: right;\">\n",
       "      <th></th>\n",
       "      <th>accuracy</th>\n",
       "      <th>C</th>\n",
       "      <th>kernel</th>\n",
       "    </tr>\n",
       "  </thead>\n",
       "  <tbody>\n",
       "    <tr>\n",
       "      <th>8</th>\n",
       "      <td>0.892624</td>\n",
       "      <td>100.0</td>\n",
       "      <td>rbf</td>\n",
       "    </tr>\n",
       "    <tr>\n",
       "      <th>5</th>\n",
       "      <td>0.812389</td>\n",
       "      <td>1.0</td>\n",
       "      <td>rbf</td>\n",
       "    </tr>\n",
       "    <tr>\n",
       "      <th>7</th>\n",
       "      <td>0.746928</td>\n",
       "      <td>100.0</td>\n",
       "      <td>poly</td>\n",
       "    </tr>\n",
       "    <tr>\n",
       "      <th>4</th>\n",
       "      <td>0.744307</td>\n",
       "      <td>1.0</td>\n",
       "      <td>poly</td>\n",
       "    </tr>\n",
       "    <tr>\n",
       "      <th>1</th>\n",
       "      <td>0.627798</td>\n",
       "      <td>0.1</td>\n",
       "      <td>poly</td>\n",
       "    </tr>\n",
       "    <tr>\n",
       "      <th>0</th>\n",
       "      <td>0.562872</td>\n",
       "      <td>0.1</td>\n",
       "      <td>linear</td>\n",
       "    </tr>\n",
       "    <tr>\n",
       "      <th>3</th>\n",
       "      <td>0.555029</td>\n",
       "      <td>1.0</td>\n",
       "      <td>linear</td>\n",
       "    </tr>\n",
       "  </tbody>\n",
       "</table>\n",
       "</div>"
      ],
      "text/plain": [
       "   accuracy      C  kernel\n",
       "8  0.892624  100.0     rbf\n",
       "5  0.812389    1.0     rbf\n",
       "7  0.746928  100.0    poly\n",
       "4  0.744307    1.0    poly\n",
       "1  0.627798    0.1    poly\n",
       "0  0.562872    0.1  linear\n",
       "3  0.555029    1.0  linear"
      ]
     },
     "execution_count": 114,
     "metadata": {},
     "output_type": "execute_result"
    }
   ],
   "source": [
    "## Optimizo los hiperparámetros\n",
    "# Grid de hiperparámetros evaluados\n",
    "# ==============================================================================\n",
    "param_grid = ParameterGrid(\n",
    "                        {'kernel': ['linear','poly','rbf'],\n",
    "                         'C'   : [ 0.1, 1, 100]\n",
    "                        }\n",
    "                       )\n",
    "\n",
    "# Loop para ajustar un modelo con cada combinación de hiperparámetros\n",
    "# ==============================================================================\n",
    "resultados = {'params': [], 'accuracy': []}\n",
    "\n",
    "for params in param_grid:\n",
    "    \n",
    "    modelo = SVR(\n",
    "                gamma='scale',\n",
    "                ** params\n",
    "              )\n",
    "    \n",
    "    modelo.fit(X_train, y_train)\n",
    "    y_hat5= modelo.predict(X_test)\n",
    "    \n",
    "    resultados['params'].append(params)\n",
    "    resultados['accuracy'].append(r2_score(y_test,y_hat5))\n",
    "    print(f\"Modelo: {params} \\u2713\")\n",
    "\n",
    "# Resultados\n",
    "# ==============================================================================\n",
    "resultados = pd.DataFrame(resultados)\n",
    "resultados = pd.concat([resultados, resultados['params'].apply(pd.Series)], axis=1)\n",
    "resultados = resultados.sort_values('accuracy', ascending=False)\n",
    "resultados = resultados.drop(columns = 'params')\n",
    "resultados.head(7)"
   ]
  },
  {
   "cell_type": "markdown",
   "metadata": {},
   "source": [
    "### Creo, entreno y evalúo el modelo con los mejores hiperparámetros"
   ]
  },
  {
   "cell_type": "code",
   "execution_count": 115,
   "metadata": {},
   "outputs": [
    {
     "name": "stdout",
     "output_type": "stream",
     "text": [
      "R2 score de train: 0.922938436287082\n",
      "R2 score de test: 0.8926242897142473\n"
     ]
    },
    {
     "data": {
      "text/plain": [
       "SVR(C=100.0)"
      ]
     },
     "execution_count": 115,
     "metadata": {},
     "output_type": "execute_result"
    }
   ],
   "source": [
    "#Creo el modelo y lo entreno con X e Y train\n",
    "resultados = resultados.reset_index(drop=True)\n",
    "svm_model = SVR(gamma   = 'scale',\n",
    "                kernel= resultados.at[0,'kernel'],\n",
    "                C = resultados.at[0,'C'])\n",
    "svm_model.fit(X_train,y_train)\n",
    "\n",
    "#Hago predicción con X_test y lo comparo con y_test\n",
    "y_pred= svm_model.predict(X_train)\n",
    "y_hat5 = svm_model.predict(X_test)\n",
    "  \n",
    "#print('Parametros del mejor arbol: ',resultados.at[0,'criterion'],resultados.at[0,'max_depth'],resultados.at[0,'max_features'])    \n",
    "svm_acc_train = r2_score(y_train, y_pred)\n",
    "svm_acc_test = r2_score(y_test, y_hat5)\n",
    "print('R2 score de train:',svm_acc_train)\n",
    "print('R2 score de test:',svm_acc_test)\n",
    "svm_model"
   ]
  },
  {
   "cell_type": "code",
   "execution_count": 116,
   "metadata": {},
   "outputs": [],
   "source": [
    "#No visualizo, es peor"
   ]
  },
  {
   "cell_type": "markdown",
   "metadata": {},
   "source": [
    "<a name=\"id5\"></a> \n",
    "## Random Forest Regressor"
   ]
  },
  {
   "cell_type": "markdown",
   "metadata": {},
   "source": [
    "### Directamente optimizo hiperparámetros"
   ]
  },
  {
   "cell_type": "code",
   "execution_count": 117,
   "metadata": {
    "scrolled": true
   },
   "outputs": [
    {
     "name": "stdout",
     "output_type": "stream",
     "text": [
      "Modelo: {'max_depth': 3, 'max_features': 'auto', 'n_estimators': 10} ✓\n",
      "Modelo: {'max_depth': 3, 'max_features': 'auto', 'n_estimators': 30} ✓\n",
      "Modelo: {'max_depth': 3, 'max_features': 'auto', 'n_estimators': 100} ✓\n",
      "Modelo: {'max_depth': 3, 'max_features': 'sqrt', 'n_estimators': 10} ✓\n",
      "Modelo: {'max_depth': 3, 'max_features': 'sqrt', 'n_estimators': 30} ✓\n",
      "Modelo: {'max_depth': 3, 'max_features': 'sqrt', 'n_estimators': 100} ✓\n",
      "Modelo: {'max_depth': 3, 'max_features': 'log2', 'n_estimators': 10} ✓\n",
      "Modelo: {'max_depth': 3, 'max_features': 'log2', 'n_estimators': 30} ✓\n",
      "Modelo: {'max_depth': 3, 'max_features': 'log2', 'n_estimators': 100} ✓\n",
      "Modelo: {'max_depth': 20, 'max_features': 'auto', 'n_estimators': 10} ✓\n",
      "Modelo: {'max_depth': 20, 'max_features': 'auto', 'n_estimators': 30} ✓\n",
      "Modelo: {'max_depth': 20, 'max_features': 'auto', 'n_estimators': 100} ✓\n",
      "Modelo: {'max_depth': 20, 'max_features': 'sqrt', 'n_estimators': 10} ✓\n",
      "Modelo: {'max_depth': 20, 'max_features': 'sqrt', 'n_estimators': 30} ✓\n",
      "Modelo: {'max_depth': 20, 'max_features': 'sqrt', 'n_estimators': 100} ✓\n",
      "Modelo: {'max_depth': 20, 'max_features': 'log2', 'n_estimators': 10} ✓\n",
      "Modelo: {'max_depth': 20, 'max_features': 'log2', 'n_estimators': 30} ✓\n",
      "Modelo: {'max_depth': 20, 'max_features': 'log2', 'n_estimators': 100} ✓\n",
      "Modelo: {'max_depth': 50, 'max_features': 'auto', 'n_estimators': 10} ✓\n",
      "Modelo: {'max_depth': 50, 'max_features': 'auto', 'n_estimators': 30} ✓\n",
      "Modelo: {'max_depth': 50, 'max_features': 'auto', 'n_estimators': 100} ✓\n",
      "Modelo: {'max_depth': 50, 'max_features': 'sqrt', 'n_estimators': 10} ✓\n",
      "Modelo: {'max_depth': 50, 'max_features': 'sqrt', 'n_estimators': 30} ✓\n",
      "Modelo: {'max_depth': 50, 'max_features': 'sqrt', 'n_estimators': 100} ✓\n",
      "Modelo: {'max_depth': 50, 'max_features': 'log2', 'n_estimators': 10} ✓\n",
      "Modelo: {'max_depth': 50, 'max_features': 'log2', 'n_estimators': 30} ✓\n",
      "Modelo: {'max_depth': 50, 'max_features': 'log2', 'n_estimators': 100} ✓\n",
      "Modelo: {'max_depth': 100, 'max_features': 'auto', 'n_estimators': 10} ✓\n",
      "Modelo: {'max_depth': 100, 'max_features': 'auto', 'n_estimators': 30} ✓\n",
      "Modelo: {'max_depth': 100, 'max_features': 'auto', 'n_estimators': 100} ✓\n",
      "Modelo: {'max_depth': 100, 'max_features': 'sqrt', 'n_estimators': 10} ✓\n",
      "Modelo: {'max_depth': 100, 'max_features': 'sqrt', 'n_estimators': 30} ✓\n",
      "Modelo: {'max_depth': 100, 'max_features': 'sqrt', 'n_estimators': 100} ✓\n",
      "Modelo: {'max_depth': 100, 'max_features': 'log2', 'n_estimators': 10} ✓\n",
      "Modelo: {'max_depth': 100, 'max_features': 'log2', 'n_estimators': 30} ✓\n",
      "Modelo: {'max_depth': 100, 'max_features': 'log2', 'n_estimators': 100} ✓\n"
     ]
    },
    {
     "data": {
      "text/html": [
       "<div>\n",
       "<style scoped>\n",
       "    .dataframe tbody tr th:only-of-type {\n",
       "        vertical-align: middle;\n",
       "    }\n",
       "\n",
       "    .dataframe tbody tr th {\n",
       "        vertical-align: top;\n",
       "    }\n",
       "\n",
       "    .dataframe thead th {\n",
       "        text-align: right;\n",
       "    }\n",
       "</style>\n",
       "<table border=\"1\" class=\"dataframe\">\n",
       "  <thead>\n",
       "    <tr style=\"text-align: right;\">\n",
       "      <th></th>\n",
       "      <th>accuracy</th>\n",
       "      <th>max_depth</th>\n",
       "      <th>max_features</th>\n",
       "      <th>n_estimators</th>\n",
       "    </tr>\n",
       "  </thead>\n",
       "  <tbody>\n",
       "    <tr>\n",
       "      <th>30</th>\n",
       "      <td>0.986154</td>\n",
       "      <td>100</td>\n",
       "      <td>sqrt</td>\n",
       "      <td>10</td>\n",
       "    </tr>\n",
       "    <tr>\n",
       "      <th>15</th>\n",
       "      <td>0.984141</td>\n",
       "      <td>20</td>\n",
       "      <td>log2</td>\n",
       "      <td>10</td>\n",
       "    </tr>\n",
       "    <tr>\n",
       "      <th>13</th>\n",
       "      <td>0.982609</td>\n",
       "      <td>20</td>\n",
       "      <td>sqrt</td>\n",
       "      <td>30</td>\n",
       "    </tr>\n",
       "    <tr>\n",
       "      <th>12</th>\n",
       "      <td>0.982580</td>\n",
       "      <td>20</td>\n",
       "      <td>sqrt</td>\n",
       "      <td>10</td>\n",
       "    </tr>\n",
       "    <tr>\n",
       "      <th>25</th>\n",
       "      <td>0.981867</td>\n",
       "      <td>50</td>\n",
       "      <td>log2</td>\n",
       "      <td>30</td>\n",
       "    </tr>\n",
       "    <tr>\n",
       "      <th>23</th>\n",
       "      <td>0.981823</td>\n",
       "      <td>50</td>\n",
       "      <td>sqrt</td>\n",
       "      <td>100</td>\n",
       "    </tr>\n",
       "    <tr>\n",
       "      <th>32</th>\n",
       "      <td>0.981629</td>\n",
       "      <td>100</td>\n",
       "      <td>sqrt</td>\n",
       "      <td>100</td>\n",
       "    </tr>\n",
       "  </tbody>\n",
       "</table>\n",
       "</div>"
      ],
      "text/plain": [
       "    accuracy  max_depth max_features  n_estimators\n",
       "30  0.986154        100         sqrt            10\n",
       "15  0.984141         20         log2            10\n",
       "13  0.982609         20         sqrt            30\n",
       "12  0.982580         20         sqrt            10\n",
       "25  0.981867         50         log2            30\n",
       "23  0.981823         50         sqrt           100\n",
       "32  0.981629        100         sqrt           100"
      ]
     },
     "execution_count": 117,
     "metadata": {},
     "output_type": "execute_result"
    }
   ],
   "source": [
    "## Optimizo los hiperparámetros\n",
    "# Grid de hiperparámetros evaluados\n",
    "# ==============================================================================\n",
    "param_grid = ParameterGrid(\n",
    "                {'n_estimators': [10, 30, 100],\n",
    "                 'max_features': ['auto','sqrt','log2'],\n",
    "                 'max_depth'   : [3, 20, 50, 100],\n",
    "                }\n",
    "           )\n",
    "\n",
    "# Loop para ajustar un modelo con cada combinación de hiperparámetros\n",
    "# ==============================================================================\n",
    "resultados = {'params': [], 'accuracy': []}\n",
    "\n",
    "for params in param_grid:\n",
    "    \n",
    "    modelo = RandomForestRegressor(\n",
    "                ** params\n",
    "              )\n",
    "    \n",
    "    modelo.fit(X_train, y_train)\n",
    "    y_hat6= modelo.predict(X_test)\n",
    "    \n",
    "    resultados['params'].append(params)\n",
    "    resultados['accuracy'].append(r2_score(y_test, y_hat6))\n",
    "    print(f\"Modelo: {params} \\u2713\")\n",
    "\n",
    "# Resultados\n",
    "# ==============================================================================\n",
    "resultados = pd.DataFrame(resultados)\n",
    "resultados = pd.concat([resultados, resultados['params'].apply(pd.Series)], axis=1)\n",
    "resultados = resultados.sort_values('accuracy', ascending=False)\n",
    "resultados = resultados.drop(columns = 'params')\n",
    "resultados.head(7)"
   ]
  },
  {
   "cell_type": "markdown",
   "metadata": {},
   "source": [
    "### Creo, entreno y evalúo el modelo con los mejores hiperparámetros"
   ]
  },
  {
   "cell_type": "code",
   "execution_count": 118,
   "metadata": {},
   "outputs": [
    {
     "name": "stdout",
     "output_type": "stream",
     "text": [
      "R2 score de train: 0.9918048196129081\n",
      "R2 score de test: 0.9787560275782635\n"
     ]
    },
    {
     "data": {
      "text/plain": [
       "RandomForestRegressor(max_depth=100, max_features='sqrt', n_estimators=10)"
      ]
     },
     "execution_count": 118,
     "metadata": {},
     "output_type": "execute_result"
    }
   ],
   "source": [
    "#Creo el modelo y lo entreno con X e Y train\n",
    "resultados = resultados.reset_index(drop=True)\n",
    "rf_model = RandomForestRegressor(n_estimators= resultados.at[0,'n_estimators'],\n",
    "                                 max_features= resultados.at[0,'max_features'],\n",
    "                                 max_depth   = resultados.at[0,'max_depth'])\n",
    "rf_model.fit(X_train,y_train)\n",
    "\n",
    "#Hago predicción con X_test y lo comparo con y_test\n",
    "y_pred= rf_model.predict(X_train)\n",
    "y_hat6 = rf_model.predict(X_test)\n",
    "  \n",
    "#print('Parametros del mejor arbol: ',resultados.at[0,'criterion'],resultados.at[0,'max_depth'],resultados.at[0,'max_features'])    \n",
    "rf_acc_train = r2_score(y_train, y_pred)\n",
    "rf_acc_test = r2_score(y_test, y_hat6)\n",
    "print('R2 score de train:',rf_acc_train)\n",
    "print('R2 score de test:',rf_acc_test)\n",
    "rf_model"
   ]
  },
  {
   "cell_type": "code",
   "execution_count": 119,
   "metadata": {},
   "outputs": [
    {
     "name": "stdout",
     "output_type": "stream",
     "text": [
      "Importancia de los predictores en el modelo\n",
      "-------------------------------------------\n"
     ]
    },
    {
     "data": {
      "text/html": [
       "<div>\n",
       "<style scoped>\n",
       "    .dataframe tbody tr th:only-of-type {\n",
       "        vertical-align: middle;\n",
       "    }\n",
       "\n",
       "    .dataframe tbody tr th {\n",
       "        vertical-align: top;\n",
       "    }\n",
       "\n",
       "    .dataframe thead th {\n",
       "        text-align: right;\n",
       "    }\n",
       "</style>\n",
       "<table border=\"1\" class=\"dataframe\">\n",
       "  <thead>\n",
       "    <tr style=\"text-align: right;\">\n",
       "      <th></th>\n",
       "      <th>predictor</th>\n",
       "      <th>importancia</th>\n",
       "    </tr>\n",
       "  </thead>\n",
       "  <tbody>\n",
       "    <tr>\n",
       "      <th>2</th>\n",
       "      <td>FUELCONSUMPTION_COMB</td>\n",
       "      <td>0.891088</td>\n",
       "    </tr>\n",
       "    <tr>\n",
       "      <th>1</th>\n",
       "      <td>CYLINDERS</td>\n",
       "      <td>0.089364</td>\n",
       "    </tr>\n",
       "    <tr>\n",
       "      <th>0</th>\n",
       "      <td>ENGINESIZE</td>\n",
       "      <td>0.019548</td>\n",
       "    </tr>\n",
       "  </tbody>\n",
       "</table>\n",
       "</div>"
      ],
      "text/plain": [
       "              predictor  importancia\n",
       "2  FUELCONSUMPTION_COMB     0.891088\n",
       "1             CYLINDERS     0.089364\n",
       "0            ENGINESIZE     0.019548"
      ]
     },
     "execution_count": 119,
     "metadata": {},
     "output_type": "execute_result"
    }
   ],
   "source": [
    "importancia_predictores = pd.DataFrame(\n",
    "                            {'predictor': vars_indep,\n",
    "                             'importancia': dt_model.feature_importances_}\n",
    "                            )\n",
    "print(\"Importancia de los predictores en el modelo\")\n",
    "print(\"-------------------------------------------\")\n",
    "importancia_predictores.sort_values('importancia', ascending=False)"
   ]
  },
  {
   "cell_type": "code",
   "execution_count": 120,
   "metadata": {},
   "outputs": [
    {
     "data": {
      "image/png": "[encoded data removed]",
      "text/plain": [
       "<Figure size 432x288 with 1 Axes>"
      ]
     },
     "metadata": {
      "needs_background": "light"
     },
     "output_type": "display_data"
    },
    {
     "data": {
      "image/png": "[encoded data removed]",
      "text/plain": [
       "<Figure size 432x288 with 1 Axes>"
      ]
     },
     "metadata": {
      "needs_background": "light"
     },
     "output_type": "display_data"
    }
   ],
   "source": [
    "# Plot de la Y original con la predicha\n",
    "# El primero es el plot de LinearRgressor, la prediccion en negro va encima del dato real en azul\n",
    "plt.scatter(y_test.index, y_test,  color='blue'), \n",
    "plt.scatter(y_test.index, y_hat,  color='black')\n",
    "plt.show()\n",
    "# El segundo es el DecisionTreeRegressor, cuanto menos azul se vea mejor, más precisión\n",
    "plt.scatter(y_test.index, y_test,  color='blue'), \n",
    "plt.scatter(y_test.index, y_hat6,  color='black')\n",
    "plt.show()\n"
   ]
  },
  {
   "cell_type": "markdown",
   "metadata": {},
   "source": [
    "<a name=\"id6\"></a>\n",
    "## XGBoost Regressor"
   ]
  },
  {
   "cell_type": "markdown",
   "metadata": {},
   "source": [
    "### Directamente optimizo hiperparámetros"
   ]
  },
  {
   "cell_type": "code",
   "execution_count": 121,
   "metadata": {},
   "outputs": [
    {
     "name": "stdout",
     "output_type": "stream",
     "text": [
      "Modelo: {'gamma': 0.1, 'learning_rate': 0.01, 'max_depth': 3, 'n_estimators': 100} ✓\n",
      "Modelo: {'gamma': 0.1, 'learning_rate': 0.01, 'max_depth': 3, 'n_estimators': 500} ✓\n",
      "Modelo: {'gamma': 0.1, 'learning_rate': 0.01, 'max_depth': 3, 'n_estimators': 1000} ✓\n",
      "Modelo: {'gamma': 0.1, 'learning_rate': 0.01, 'max_depth': 7, 'n_estimators': 100} ✓\n",
      "Modelo: {'gamma': 0.1, 'learning_rate': 0.01, 'max_depth': 7, 'n_estimators': 500} ✓\n",
      "Modelo: {'gamma': 0.1, 'learning_rate': 0.01, 'max_depth': 7, 'n_estimators': 1000} ✓\n",
      "Modelo: {'gamma': 0.1, 'learning_rate': 0.01, 'max_depth': 20, 'n_estimators': 100} ✓\n",
      "Modelo: {'gamma': 0.1, 'learning_rate': 0.01, 'max_depth': 20, 'n_estimators': 500} ✓\n",
      "Modelo: {'gamma': 0.1, 'learning_rate': 0.01, 'max_depth': 20, 'n_estimators': 1000} ✓\n",
      "Modelo: {'gamma': 0.1, 'learning_rate': 0.05, 'max_depth': 3, 'n_estimators': 100} ✓\n",
      "Modelo: {'gamma': 0.1, 'learning_rate': 0.05, 'max_depth': 3, 'n_estimators': 500} ✓\n",
      "Modelo: {'gamma': 0.1, 'learning_rate': 0.05, 'max_depth': 3, 'n_estimators': 1000} ✓\n",
      "Modelo: {'gamma': 0.1, 'learning_rate': 0.05, 'max_depth': 7, 'n_estimators': 100} ✓\n",
      "Modelo: {'gamma': 0.1, 'learning_rate': 0.05, 'max_depth': 7, 'n_estimators': 500} ✓\n",
      "Modelo: {'gamma': 0.1, 'learning_rate': 0.05, 'max_depth': 7, 'n_estimators': 1000} ✓\n",
      "Modelo: {'gamma': 0.1, 'learning_rate': 0.05, 'max_depth': 20, 'n_estimators': 100} ✓\n",
      "Modelo: {'gamma': 0.1, 'learning_rate': 0.05, 'max_depth': 20, 'n_estimators': 500} ✓\n",
      "Modelo: {'gamma': 0.1, 'learning_rate': 0.05, 'max_depth': 20, 'n_estimators': 1000} ✓\n",
      "Modelo: {'gamma': 0.1, 'learning_rate': 0.1, 'max_depth': 3, 'n_estimators': 100} ✓\n",
      "Modelo: {'gamma': 0.1, 'learning_rate': 0.1, 'max_depth': 3, 'n_estimators': 500} ✓\n",
      "Modelo: {'gamma': 0.1, 'learning_rate': 0.1, 'max_depth': 3, 'n_estimators': 1000} ✓\n",
      "Modelo: {'gamma': 0.1, 'learning_rate': 0.1, 'max_depth': 7, 'n_estimators': 100} ✓\n",
      "Modelo: {'gamma': 0.1, 'learning_rate': 0.1, 'max_depth': 7, 'n_estimators': 500} ✓\n",
      "Modelo: {'gamma': 0.1, 'learning_rate': 0.1, 'max_depth': 7, 'n_estimators': 1000} ✓\n",
      "Modelo: {'gamma': 0.1, 'learning_rate': 0.1, 'max_depth': 20, 'n_estimators': 100} ✓\n",
      "Modelo: {'gamma': 0.1, 'learning_rate': 0.1, 'max_depth': 20, 'n_estimators': 500} ✓\n",
      "Modelo: {'gamma': 0.1, 'learning_rate': 0.1, 'max_depth': 20, 'n_estimators': 1000} ✓\n",
      "Modelo: {'gamma': 0.2, 'learning_rate': 0.01, 'max_depth': 3, 'n_estimators': 100} ✓\n",
      "Modelo: {'gamma': 0.2, 'learning_rate': 0.01, 'max_depth': 3, 'n_estimators': 500} ✓\n",
      "Modelo: {'gamma': 0.2, 'learning_rate': 0.01, 'max_depth': 3, 'n_estimators': 1000} ✓\n",
      "Modelo: {'gamma': 0.2, 'learning_rate': 0.01, 'max_depth': 7, 'n_estimators': 100} ✓\n",
      "Modelo: {'gamma': 0.2, 'learning_rate': 0.01, 'max_depth': 7, 'n_estimators': 500} ✓\n",
      "Modelo: {'gamma': 0.2, 'learning_rate': 0.01, 'max_depth': 7, 'n_estimators': 1000} ✓\n",
      "Modelo: {'gamma': 0.2, 'learning_rate': 0.01, 'max_depth': 20, 'n_estimators': 100} ✓\n",
      "Modelo: {'gamma': 0.2, 'learning_rate': 0.01, 'max_depth': 20, 'n_estimators': 500} ✓\n",
      "Modelo: {'gamma': 0.2, 'learning_rate': 0.01, 'max_depth': 20, 'n_estimators': 1000} ✓\n",
      "Modelo: {'gamma': 0.2, 'learning_rate': 0.05, 'max_depth': 3, 'n_estimators': 100} ✓\n",
      "Modelo: {'gamma': 0.2, 'learning_rate': 0.05, 'max_depth': 3, 'n_estimators': 500} ✓\n",
      "Modelo: {'gamma': 0.2, 'learning_rate': 0.05, 'max_depth': 3, 'n_estimators': 1000} ✓\n",
      "Modelo: {'gamma': 0.2, 'learning_rate': 0.05, 'max_depth': 7, 'n_estimators': 100} ✓\n",
      "Modelo: {'gamma': 0.2, 'learning_rate': 0.05, 'max_depth': 7, 'n_estimators': 500} ✓\n",
      "Modelo: {'gamma': 0.2, 'learning_rate': 0.05, 'max_depth': 7, 'n_estimators': 1000} ✓\n",
      "Modelo: {'gamma': 0.2, 'learning_rate': 0.05, 'max_depth': 20, 'n_estimators': 100} ✓\n",
      "Modelo: {'gamma': 0.2, 'learning_rate': 0.05, 'max_depth': 20, 'n_estimators': 500} ✓\n",
      "Modelo: {'gamma': 0.2, 'learning_rate': 0.05, 'max_depth': 20, 'n_estimators': 1000} ✓\n",
      "Modelo: {'gamma': 0.2, 'learning_rate': 0.1, 'max_depth': 3, 'n_estimators': 100} ✓\n",
      "Modelo: {'gamma': 0.2, 'learning_rate': 0.1, 'max_depth': 3, 'n_estimators': 500} ✓\n",
      "Modelo: {'gamma': 0.2, 'learning_rate': 0.1, 'max_depth': 3, 'n_estimators': 1000} ✓\n",
      "Modelo: {'gamma': 0.2, 'learning_rate': 0.1, 'max_depth': 7, 'n_estimators': 100} ✓\n",
      "Modelo: {'gamma': 0.2, 'learning_rate': 0.1, 'max_depth': 7, 'n_estimators': 500} ✓\n",
      "Modelo: {'gamma': 0.2, 'learning_rate': 0.1, 'max_depth': 7, 'n_estimators': 1000} ✓\n",
      "Modelo: {'gamma': 0.2, 'learning_rate': 0.1, 'max_depth': 20, 'n_estimators': 100} ✓\n",
      "Modelo: {'gamma': 0.2, 'learning_rate': 0.1, 'max_depth': 20, 'n_estimators': 500} ✓\n",
      "Modelo: {'gamma': 0.2, 'learning_rate': 0.1, 'max_depth': 20, 'n_estimators': 1000} ✓\n"
     ]
    },
    {
     "data": {
      "text/html": [
       "<div>\n",
       "<style scoped>\n",
       "    .dataframe tbody tr th:only-of-type {\n",
       "        vertical-align: middle;\n",
       "    }\n",
       "\n",
       "    .dataframe tbody tr th {\n",
       "        vertical-align: top;\n",
       "    }\n",
       "\n",
       "    .dataframe thead th {\n",
       "        text-align: right;\n",
       "    }\n",
       "</style>\n",
       "<table border=\"1\" class=\"dataframe\">\n",
       "  <thead>\n",
       "    <tr style=\"text-align: right;\">\n",
       "      <th></th>\n",
       "      <th>accuracy</th>\n",
       "      <th>gamma</th>\n",
       "      <th>learning_rate</th>\n",
       "      <th>max_depth</th>\n",
       "      <th>n_estimators</th>\n",
       "    </tr>\n",
       "  </thead>\n",
       "  <tbody>\n",
       "    <tr>\n",
       "      <th>0</th>\n",
       "      <td>0.968115</td>\n",
       "      <td>0.1</td>\n",
       "      <td>0.01</td>\n",
       "      <td>7.0</td>\n",
       "      <td>500.0</td>\n",
       "    </tr>\n",
       "    <tr>\n",
       "      <th>1</th>\n",
       "      <td>0.967739</td>\n",
       "      <td>0.2</td>\n",
       "      <td>0.01</td>\n",
       "      <td>7.0</td>\n",
       "      <td>500.0</td>\n",
       "    </tr>\n",
       "    <tr>\n",
       "      <th>2</th>\n",
       "      <td>0.967434</td>\n",
       "      <td>0.1</td>\n",
       "      <td>0.01</td>\n",
       "      <td>7.0</td>\n",
       "      <td>1000.0</td>\n",
       "    </tr>\n",
       "    <tr>\n",
       "      <th>3</th>\n",
       "      <td>0.966049</td>\n",
       "      <td>0.1</td>\n",
       "      <td>0.10</td>\n",
       "      <td>7.0</td>\n",
       "      <td>1000.0</td>\n",
       "    </tr>\n",
       "    <tr>\n",
       "      <th>4</th>\n",
       "      <td>0.966049</td>\n",
       "      <td>0.1</td>\n",
       "      <td>0.10</td>\n",
       "      <td>7.0</td>\n",
       "      <td>500.0</td>\n",
       "    </tr>\n",
       "    <tr>\n",
       "      <th>5</th>\n",
       "      <td>0.965917</td>\n",
       "      <td>0.2</td>\n",
       "      <td>0.01</td>\n",
       "      <td>7.0</td>\n",
       "      <td>1000.0</td>\n",
       "    </tr>\n",
       "    <tr>\n",
       "      <th>6</th>\n",
       "      <td>0.965771</td>\n",
       "      <td>0.1</td>\n",
       "      <td>0.10</td>\n",
       "      <td>7.0</td>\n",
       "      <td>100.0</td>\n",
       "    </tr>\n",
       "  </tbody>\n",
       "</table>\n",
       "</div>"
      ],
      "text/plain": [
       "   accuracy  gamma  learning_rate  max_depth  n_estimators\n",
       "0  0.968115    0.1           0.01        7.0         500.0\n",
       "1  0.967739    0.2           0.01        7.0         500.0\n",
       "2  0.967434    0.1           0.01        7.0        1000.0\n",
       "3  0.966049    0.1           0.10        7.0        1000.0\n",
       "4  0.966049    0.1           0.10        7.0         500.0\n",
       "5  0.965917    0.2           0.01        7.0        1000.0\n",
       "6  0.965771    0.1           0.10        7.0         100.0"
      ]
     },
     "execution_count": 121,
     "metadata": {},
     "output_type": "execute_result"
    }
   ],
   "source": [
    "# Grid de hiperparámetros evaluados\n",
    "# ==============================================================================\n",
    "param_grid = ParameterGrid(\n",
    "                {'n_estimators': [100, 500, 1000],\n",
    "                 'learning_rate': [0.01, 0.05, 0.1],\n",
    "                 'max_depth'   : [3, 7, 20],\n",
    "                 'gamma' : [0.1, 0.2]\n",
    "                }\n",
    "            )\n",
    "\n",
    "# Loop para ajustar un modelo con cada combinación de hiperparámetros\n",
    "# ==============================================================================\n",
    "resultados = {'params': [], 'accuracy': []}\n",
    "\n",
    "for params in param_grid:\n",
    "    \n",
    "    xgb_model = XGBRegressor(\n",
    "                use_label_encoder=False,\n",
    "                verbosity=0,\n",
    "                ** params\n",
    "             )\n",
    "    \n",
    "    xgb_model.fit(X_train, y_train)\n",
    "    yhat7= xgb_model.predict(X_test)\n",
    "    \n",
    "    resultados['params'].append(params)\n",
    "    resultados['accuracy'].append(r2_score(y_test,yhat7))\n",
    "    print(f\"Modelo: {params} \\u2713\")\n",
    "\n",
    "# Resultados\n",
    "# ==============================================================================\n",
    "resultados = pd.DataFrame(resultados)\n",
    "resultados = pd.concat([resultados, resultados['params'].apply(pd.Series)], axis=1)\n",
    "resultados = resultados.sort_values('accuracy', ascending=False)\n",
    "resultados = resultados.drop(columns = 'params')\n",
    "resultados = resultados.reset_index(drop=True)\n",
    "resultados.head(7)"
   ]
  },
  {
   "cell_type": "markdown",
   "metadata": {},
   "source": [
    "### Creo, entreno y evalúo el modelo con los mejores hiperparámetros"
   ]
  },
  {
   "cell_type": "code",
   "execution_count": 122,
   "metadata": {},
   "outputs": [
    {
     "name": "stdout",
     "output_type": "stream",
     "text": [
      "Precisión del Arbol de entrenamiento:  0.9918048196129081\n",
      "Precisión del Arbol de test:  0.968115116794485\n"
     ]
    },
    {
     "data": {
      "text/plain": [
       "XGBRegressor(base_score=0.5, booster='gbtree', colsample_bylevel=1,\n",
       "             colsample_bynode=1, colsample_bytree=1, gamma=0.1, gpu_id=-1,\n",
       "             importance_type='gain', interaction_constraints='',\n",
       "             learning_rate=0.01, max_delta_step=0, max_depth=7,\n",
       "             min_child_weight=1, missing=nan, monotone_constraints='()',\n",
       "             n_estimators=500, n_jobs=4, num_parallel_tree=1, random_state=0,\n",
       "             reg_alpha=0, reg_lambda=1, scale_pos_weight=1, subsample=1,\n",
       "             tree_method='exact', use_label_encoder=False,\n",
       "             validate_parameters=1, verbosity=None)"
      ]
     },
     "execution_count": 122,
     "metadata": {},
     "output_type": "execute_result"
    }
   ],
   "source": [
    "#Creo el modelo y lo entreno con X e Y train\n",
    "xgb_model = XGBRegressor(use_label_encoder=False,\n",
    "                          n_estimators = resultados.at[0,'n_estimators'].astype('int'),\n",
    "                          learning_rate = resultados.at[0,'learning_rate'],\n",
    "                          max_depth = resultados.at[0,'max_depth'].astype('int'),\n",
    "                          gamma = resultados.at[0,'gamma'])\n",
    "\n",
    "xgb_model.fit(X_train, y_train)\n",
    "\n",
    "ypred = xgb_model.predict(X_train)\n",
    "y_hat7 = xgb_model.predict(X_test)\n",
    "\n",
    "xgb_acc_train = r2_score(y_train, y_pred)\n",
    "xgb_acc_test = r2_score(y_test, y_hat7)\n",
    "print(\"Precisión del Arbol de entrenamiento: \", xgb_acc_train)\n",
    "print(\"Precisión del Arbol de test: \", xgb_acc_test)\n",
    "xgb_model"
   ]
  },
  {
   "cell_type": "code",
   "execution_count": 123,
   "metadata": {},
   "outputs": [
    {
     "name": "stdout",
     "output_type": "stream",
     "text": [
      "Importancia de los predictores en el modelo\n",
      "-------------------------------------------\n"
     ]
    },
    {
     "data": {
      "text/html": [
       "<div>\n",
       "<style scoped>\n",
       "    .dataframe tbody tr th:only-of-type {\n",
       "        vertical-align: middle;\n",
       "    }\n",
       "\n",
       "    .dataframe tbody tr th {\n",
       "        vertical-align: top;\n",
       "    }\n",
       "\n",
       "    .dataframe thead th {\n",
       "        text-align: right;\n",
       "    }\n",
       "</style>\n",
       "<table border=\"1\" class=\"dataframe\">\n",
       "  <thead>\n",
       "    <tr style=\"text-align: right;\">\n",
       "      <th></th>\n",
       "      <th>predictor</th>\n",
       "      <th>importancia</th>\n",
       "    </tr>\n",
       "  </thead>\n",
       "  <tbody>\n",
       "    <tr>\n",
       "      <th>2</th>\n",
       "      <td>FUELCONSUMPTION_COMB</td>\n",
       "      <td>0.563055</td>\n",
       "    </tr>\n",
       "    <tr>\n",
       "      <th>1</th>\n",
       "      <td>CYLINDERS</td>\n",
       "      <td>0.366448</td>\n",
       "    </tr>\n",
       "    <tr>\n",
       "      <th>0</th>\n",
       "      <td>ENGINESIZE</td>\n",
       "      <td>0.070497</td>\n",
       "    </tr>\n",
       "  </tbody>\n",
       "</table>\n",
       "</div>"
      ],
      "text/plain": [
       "              predictor  importancia\n",
       "2  FUELCONSUMPTION_COMB     0.563055\n",
       "1             CYLINDERS     0.366448\n",
       "0            ENGINESIZE     0.070497"
      ]
     },
     "execution_count": 123,
     "metadata": {},
     "output_type": "execute_result"
    }
   ],
   "source": [
    "importancia_predictores = pd.DataFrame(\n",
    "                            {'predictor': vars_indep,\n",
    "                             'importancia': xgb_model.feature_importances_}\n",
    "                            )\n",
    "print(\"Importancia de los predictores en el modelo\")\n",
    "print(\"-------------------------------------------\")\n",
    "importancia_predictores.sort_values('importancia', ascending=False)"
   ]
  },
  {
   "cell_type": "code",
   "execution_count": 124,
   "metadata": {},
   "outputs": [
    {
     "data": {
      "image/png": "[encoded data removed]",
      "text/plain": [
       "<Figure size 432x288 with 1 Axes>"
      ]
     },
     "metadata": {
      "needs_background": "light"
     },
     "output_type": "display_data"
    },
    {
     "data": {
      "image/png": "[encoded data removed]",
      "text/plain": [
       "<Figure size 432x288 with 1 Axes>"
      ]
     },
     "metadata": {
      "needs_background": "light"
     },
     "output_type": "display_data"
    }
   ],
   "source": [
    "# Plot de la Y original con la predicha\n",
    "# El primero es el plot de LinearRgressor, la prediccion en negro va encima del dato real en azul\n",
    "plt.scatter(y_test.index, y_test,  color='blue'), \n",
    "plt.scatter(y_test.index, y_hat,  color='black')\n",
    "plt.show()\n",
    "# El segundo es el DecisionTreeRegressor, cuanto menos azul se vea mejor, más precisión\n",
    "plt.scatter(y_test.index, y_test,  color='blue'), \n",
    "plt.scatter(y_test.index, y_hat7,  color='black')\n",
    "plt.show()\n"
   ]
  },
  {
   "cell_type": "markdown",
   "metadata": {},
   "source": [
    "<a name=\"id7\"></a>\n",
    "## RESUMEN FINAL"
   ]
  },
  {
   "cell_type": "markdown",
   "metadata": {},
   "source": [
    "Este es el resumen de resultados con cada algoritmo"
   ]
  },
  {
   "cell_type": "code",
   "execution_count": 125,
   "metadata": {},
   "outputs": [
    {
     "data": {
      "text/html": [
       "<div>\n",
       "<style scoped>\n",
       "    .dataframe tbody tr th:only-of-type {\n",
       "        vertical-align: middle;\n",
       "    }\n",
       "\n",
       "    .dataframe tbody tr th {\n",
       "        vertical-align: top;\n",
       "    }\n",
       "\n",
       "    .dataframe thead th {\n",
       "        text-align: right;\n",
       "    }\n",
       "</style>\n",
       "<table border=\"1\" class=\"dataframe\">\n",
       "  <thead>\n",
       "    <tr style=\"text-align: right;\">\n",
       "      <th></th>\n",
       "      <th>Algoritmo</th>\n",
       "      <th>Precisión Entrenam</th>\n",
       "      <th>Precisión Test</th>\n",
       "    </tr>\n",
       "  </thead>\n",
       "  <tbody>\n",
       "    <tr>\n",
       "      <th>5</th>\n",
       "      <td>Random Forest</td>\n",
       "      <td>0.991805</td>\n",
       "      <td>0.978756</td>\n",
       "    </tr>\n",
       "    <tr>\n",
       "      <th>6</th>\n",
       "      <td>XGBoost</td>\n",
       "      <td>0.991805</td>\n",
       "      <td>0.968115</td>\n",
       "    </tr>\n",
       "    <tr>\n",
       "      <th>3</th>\n",
       "      <td>Decision Tree</td>\n",
       "      <td>0.996056</td>\n",
       "      <td>0.961114</td>\n",
       "    </tr>\n",
       "    <tr>\n",
       "      <th>2</th>\n",
       "      <td>KNN</td>\n",
       "      <td>0.996056</td>\n",
       "      <td>0.960021</td>\n",
       "    </tr>\n",
       "    <tr>\n",
       "      <th>4</th>\n",
       "      <td>SVM</td>\n",
       "      <td>0.922938</td>\n",
       "      <td>0.892624</td>\n",
       "    </tr>\n",
       "    <tr>\n",
       "      <th>0</th>\n",
       "      <td>Regresión Lineal</td>\n",
       "      <td>0.864792</td>\n",
       "      <td>0.858803</td>\n",
       "    </tr>\n",
       "    <tr>\n",
       "      <th>1</th>\n",
       "      <td>SGD para Reg. Lineal</td>\n",
       "      <td>0.825121</td>\n",
       "      <td>0.832795</td>\n",
       "    </tr>\n",
       "  </tbody>\n",
       "</table>\n",
       "</div>"
      ],
      "text/plain": [
       "              Algoritmo  Precisión Entrenam  Precisión Test\n",
       "5         Random Forest            0.991805        0.978756\n",
       "6               XGBoost            0.991805        0.968115\n",
       "3         Decision Tree            0.996056        0.961114\n",
       "2                   KNN            0.996056        0.960021\n",
       "4                   SVM            0.922938        0.892624\n",
       "0      Regresión Lineal            0.864792        0.858803\n",
       "1  SGD para Reg. Lineal            0.825121        0.832795"
      ]
     },
     "execution_count": 125,
     "metadata": {},
     "output_type": "execute_result"
    }
   ],
   "source": [
    "Resultado_total = pd.DataFrame(\n",
    "            {'Algoritmo':('Regresión Lineal','SGD para Reg. Lineal','KNN','Decision Tree','SVM','Random Forest','XGBoost'),\n",
    "             'Precisión Entrenam':(regr_acc_train, regrSGD_acc_train, knn_acc_train, dt_acc_train, svm_acc_train, rf_acc_train, xgb_acc_train),\n",
    "             'Precisión Test':(regr_acc_test, regrSGD_acc_test, knn_acc_test, dt_acc_test, svm_acc_test, rf_acc_test, xgb_acc_test),             \n",
    "            })\n",
    "Resultado_total.sort_values('Precisión Test', ascending=False)"
   ]
  },
  {
   "cell_type": "markdown",
   "metadata": {},
   "source": [
    "[Retorno al principio](#id8)"
   ]
  }
 ],
 "metadata": {
  "kernelspec": {
   "display_name": "Python 3",
   "language": "python",
   "name": "python3"
  },
  "language_info": {
   "codemirror_mode": {
    "name": "ipython",
    "version": 3
   },
   "file_extension": ".py",
   "mimetype": "text/x-python",
   "name": "python",
   "nbconvert_exporter": "python",
   "pygments_lexer": "ipython3",
   "version": "3.8.5"
  }
 },
 "nbformat": 4,
 "nbformat_minor": 4
}
