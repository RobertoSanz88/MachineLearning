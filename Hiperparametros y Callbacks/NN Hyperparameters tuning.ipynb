{
 "cells": [
  {
   "cell_type": "markdown",
   "metadata": {},
   "source": [
    "# <center>Optimización de Hiperparámetros en NN con uso de  Callbacks</center>\n"
   ]
  },
  {
   "cell_type": "markdown",
   "metadata": {},
   "source": [
    "Se usa el dataset: telecust.csv que parece complicado de mejorar"
   ]
  },
  {
   "cell_type": "markdown",
   "metadata": {},
   "source": [
    "<a name=\"id8\"></a>\n",
    "**Métodos estudiados:**\n",
    "\n",
    "1. [GRID con bucle](#id1)\n",
    "2. [Sci-kit Learn GridSearhCV](#id2)\n",
    "3. [Sci-kit Learn RandomizedSearchCV](#id3)\n",
    "4. [Keras RandomSearch](#id4)\n",
    "5. [Keras Hyperband](#id5)"
   ]
  },
  {
   "cell_type": "markdown",
   "metadata": {},
   "source": [
    "Estudio y comparación de estos métodos de optimizar hiperparámetros.\n",
    "Se consideran hiperparámetros en este estudio todos los que influyen en obtener el mejor resultado final, es decir, en hallar el modelo con mejor precisión.\n",
    "\n",
    "Se incluyen:\n",
    "- Parámetros de arquitectura o estructura de la red\n",
    "    + [Numero de capas](#id6)\n",
    "    + [Número de neuronas por capa](#id6) (en todas el mismo por no complicarlo)\n",
    "- Parámetros de entrenamiento del modelo\n",
    "    + [Epochs](#id6)\n",
    "    + [Batch size](#id6)\n",
    "- Parámetros de la red (hiperp. propiamente dichos)\n",
    "    + [Función de activación de capa de entrada](#id6)\n",
    "    + [Función de activación de capas ocultas](#id6)\n",
    "    + [Optimizador del modelo](#id6) (aunque suele ser un hiperparámetro se ha fijado como Adam)\n",
    "\n",
    "Se ha hecho uso de 2 **CALLBACKS** para mejorar la precisión y acelerar el proceso, que puede ser muy largo en los de fuerza bruta\n",
    "1. Método [EarlyStopping](#id7) : para evitar overfit/variance\n",
    "2. Método [ModelCheckpoint](#id7) : para grabar el modelo que ha conseguido mejor precisión durante la iteración\n"
   ]
  },
  {
   "cell_type": "code",
   "execution_count": 73,
   "metadata": {},
   "outputs": [],
   "source": [
    "import pandas as pd\n",
    "import pylab as pl\n",
    "import numpy as np\n",
    "import matplotlib.pyplot as plt\n",
    "%matplotlib inline \n",
    "\n",
    "from tensorflow.keras.models import Sequential\n",
    "from tensorflow.keras.layers import Dense, Dropout, LSTM\n",
    "from tensorflow.keras.utils import to_categorical\n",
    "from tensorflow.keras.callbacks import EarlyStopping, ModelCheckpoint\n",
    "\n",
    "import tensorview as tv\n",
    "from tensorflow.keras import losses, metrics,  optimizers, regularizers\n",
    "from tensorflow.keras.models import load_model\n",
    "from tensorflow.keras.wrappers.scikit_learn import KerasClassifier\n",
    "from kerastuner.tuners import RandomSearch, Hyperband\n",
    "from kerastuner import HyperModel, HyperParameters, Hyperband\n",
    "\n",
    "from sklearn.preprocessing import MinMaxScaler, LabelEncoder, OneHotEncoder, StandardScaler\n",
    "from sklearn.model_selection import train_test_split, ParameterGrid, GridSearchCV, RandomizedSearchCV\n",
    "from sklearn.metrics import confusion_matrix, accuracy_score, classification_report\n",
    "\n",
    "import pydotplus\n",
    "import matplotlib.image as mpimg\n"
   ]
  },
  {
   "cell_type": "markdown",
   "metadata": {},
   "source": [
    "## Cargar Datos a partir de un archivo CSV "
   ]
  },
  {
   "cell_type": "code",
   "execution_count": 2,
   "metadata": {},
   "outputs": [
    {
     "name": "stdout",
     "output_type": "stream",
     "text": [
      "(1000, 12)\n"
     ]
    },
    {
     "data": {
      "text/html": [
       "<div>\n",
       "<style scoped>\n",
       "    .dataframe tbody tr th:only-of-type {\n",
       "        vertical-align: middle;\n",
       "    }\n",
       "\n",
       "    .dataframe tbody tr th {\n",
       "        vertical-align: top;\n",
       "    }\n",
       "\n",
       "    .dataframe thead th {\n",
       "        text-align: right;\n",
       "    }\n",
       "</style>\n",
       "<table border=\"1\" class=\"dataframe\">\n",
       "  <thead>\n",
       "    <tr style=\"text-align: right;\">\n",
       "      <th></th>\n",
       "      <th>region</th>\n",
       "      <th>tenure</th>\n",
       "      <th>age</th>\n",
       "      <th>marital</th>\n",
       "      <th>address</th>\n",
       "      <th>income</th>\n",
       "      <th>ed</th>\n",
       "      <th>employ</th>\n",
       "      <th>retire</th>\n",
       "      <th>gender</th>\n",
       "      <th>reside</th>\n",
       "      <th>custcat</th>\n",
       "    </tr>\n",
       "  </thead>\n",
       "  <tbody>\n",
       "    <tr>\n",
       "      <th>0</th>\n",
       "      <td>2</td>\n",
       "      <td>13</td>\n",
       "      <td>44</td>\n",
       "      <td>1</td>\n",
       "      <td>9</td>\n",
       "      <td>64.0</td>\n",
       "      <td>4</td>\n",
       "      <td>5</td>\n",
       "      <td>0.0</td>\n",
       "      <td>0</td>\n",
       "      <td>2</td>\n",
       "      <td>1</td>\n",
       "    </tr>\n",
       "    <tr>\n",
       "      <th>1</th>\n",
       "      <td>3</td>\n",
       "      <td>11</td>\n",
       "      <td>33</td>\n",
       "      <td>1</td>\n",
       "      <td>7</td>\n",
       "      <td>136.0</td>\n",
       "      <td>5</td>\n",
       "      <td>5</td>\n",
       "      <td>0.0</td>\n",
       "      <td>0</td>\n",
       "      <td>6</td>\n",
       "      <td>4</td>\n",
       "    </tr>\n",
       "    <tr>\n",
       "      <th>2</th>\n",
       "      <td>3</td>\n",
       "      <td>68</td>\n",
       "      <td>52</td>\n",
       "      <td>1</td>\n",
       "      <td>24</td>\n",
       "      <td>116.0</td>\n",
       "      <td>1</td>\n",
       "      <td>29</td>\n",
       "      <td>0.0</td>\n",
       "      <td>1</td>\n",
       "      <td>2</td>\n",
       "      <td>3</td>\n",
       "    </tr>\n",
       "    <tr>\n",
       "      <th>3</th>\n",
       "      <td>2</td>\n",
       "      <td>33</td>\n",
       "      <td>33</td>\n",
       "      <td>0</td>\n",
       "      <td>12</td>\n",
       "      <td>33.0</td>\n",
       "      <td>2</td>\n",
       "      <td>0</td>\n",
       "      <td>0.0</td>\n",
       "      <td>1</td>\n",
       "      <td>1</td>\n",
       "      <td>1</td>\n",
       "    </tr>\n",
       "    <tr>\n",
       "      <th>4</th>\n",
       "      <td>2</td>\n",
       "      <td>23</td>\n",
       "      <td>30</td>\n",
       "      <td>1</td>\n",
       "      <td>9</td>\n",
       "      <td>30.0</td>\n",
       "      <td>1</td>\n",
       "      <td>2</td>\n",
       "      <td>0.0</td>\n",
       "      <td>0</td>\n",
       "      <td>4</td>\n",
       "      <td>3</td>\n",
       "    </tr>\n",
       "  </tbody>\n",
       "</table>\n",
       "</div>"
      ],
      "text/plain": [
       "   region  tenure  age  marital  address  income  ed  employ  retire  gender  \\\n",
       "0       2      13   44        1        9    64.0   4       5     0.0       0   \n",
       "1       3      11   33        1        7   136.0   5       5     0.0       0   \n",
       "2       3      68   52        1       24   116.0   1      29     0.0       1   \n",
       "3       2      33   33        0       12    33.0   2       0     0.0       1   \n",
       "4       2      23   30        1        9    30.0   1       2     0.0       0   \n",
       "\n",
       "   reside  custcat  \n",
       "0       2        1  \n",
       "1       6        4  \n",
       "2       2        3  \n",
       "3       1        1  \n",
       "4       4        3  "
      ]
     },
     "execution_count": 2,
     "metadata": {},
     "output_type": "execute_result"
    }
   ],
   "source": [
    "df = pd.read_csv('~/Desktop/MLandPython/dataset archive/teleCust1000t.csv')\n",
    "print(df.shape)\n",
    "df.head()\n",
    "#df['custcat'].value_counts()"
   ]
  },
  {
   "cell_type": "markdown",
   "metadata": {},
   "source": [
    "## Definimos X e y "
   ]
  },
  {
   "cell_type": "code",
   "execution_count": 3,
   "metadata": {},
   "outputs": [
    {
     "data": {
      "text/plain": [
       "(1000, 8)"
      ]
     },
     "execution_count": 3,
     "metadata": {},
     "output_type": "execute_result"
    }
   ],
   "source": [
    "## Quito features para intentar bajar la varianza \n",
    "vars_dep = ['region','tenure','marital','income', 'ed', 'retire','gender', 'reside']\n",
    "\n",
    "X = df[vars_dep].values\n",
    "X.shape"
   ]
  },
  {
   "cell_type": "code",
   "execution_count": 4,
   "metadata": {},
   "outputs": [
    {
     "name": "stdout",
     "output_type": "stream",
     "text": [
      "4 clases\n",
      "\n",
      "(1000,)\n"
     ]
    },
    {
     "data": {
      "text/plain": [
       "array([1, 4, 3, 2])"
      ]
     },
     "execution_count": 4,
     "metadata": {},
     "output_type": "execute_result"
    }
   ],
   "source": [
    "## Defino la y\n",
    "y_label = df.columns[-1]\n",
    "classes_nb = len(df[y_label].unique())\n",
    "print(classes_nb, 'clases\\n')\n",
    "\n",
    "y = df[y_label]\n",
    "print(y.shape)\n",
    "y.unique()"
   ]
  },
  {
   "cell_type": "markdown",
   "metadata": {},
   "source": [
    "## Codificamos la variable de salida\n",
    "Lo hacemos adaptando a una red neuronal con 1 neurona de salida por cada clase en clasificación\n",
    "\n",
    "One Hot Encoding"
   ]
  },
  {
   "cell_type": "code",
   "execution_count": 5,
   "metadata": {},
   "outputs": [
    {
     "data": {
      "text/plain": [
       "array([[1., 0., 0., 0.],\n",
       "       [0., 0., 0., 1.],\n",
       "       [0., 0., 1., 0.],\n",
       "       [1., 0., 0., 0.],\n",
       "       [0., 0., 1., 0.],\n",
       "       [0., 0., 1., 0.],\n",
       "       [0., 1., 0., 0.],\n",
       "       [0., 0., 0., 1.],\n",
       "       [0., 0., 1., 0.],\n",
       "       [0., 1., 0., 0.]])"
      ]
     },
     "execution_count": 5,
     "metadata": {},
     "output_type": "execute_result"
    }
   ],
   "source": [
    "## Encode class values as integers (LabelEncoder)\n",
    "## Convert integers to dummy variables (OneHotEncoder)\n",
    "ohe = OneHotEncoder(sparse = False)\n",
    "le = LabelEncoder()\n",
    "\n",
    "dummy_y = le.fit_transform(y)\n",
    "dummy_y = ohe.fit_transform(dummy_y.reshape(-1, 1))\n",
    "dummy_y[0:10]"
   ]
  },
  {
   "cell_type": "code",
   "execution_count": 6,
   "metadata": {},
   "outputs": [],
   "source": [
    "# # Con esto se revierten las codificaciones, puedo usarlo con la prediccion\n",
    "# alreves = ohe.inverse_transform(y)\n",
    "# alreves = alreves.reshape(1,-1)[0,:]\n",
    "# alreves = le.inverse_transform(alreves)\n",
    "# alreves"
   ]
  },
  {
   "cell_type": "markdown",
   "metadata": {},
   "source": [
    "## Normalizar los Datos "
   ]
  },
  {
   "cell_type": "code",
   "execution_count": 7,
   "metadata": {},
   "outputs": [
    {
     "data": {
      "text/plain": [
       "array([[-0.02696767, -1.055125  ,  1.0100505 , -0.12650641,  1.0877526 ,\n",
       "        -0.22207644, -1.03459817, -0.23065004],\n",
       "       [ 1.19883553, -1.14880563,  1.0100505 ,  0.54644972,  1.9062271 ,\n",
       "        -0.22207644, -1.03459817,  2.55666158],\n",
       "       [ 1.19883553,  1.52109247,  1.0100505 ,  0.35951747, -1.36767088,\n",
       "        -0.22207644,  0.96655883, -0.23065004],\n",
       "       [-0.02696767, -0.11831864, -0.9900495 , -0.41625141, -0.54919639,\n",
       "        -0.22207644,  0.96655883, -0.92747794],\n",
       "       [-0.02696767, -0.58672182,  1.0100505 , -0.44429125, -1.36767088,\n",
       "        -0.22207644, -1.03459817,  1.16300577]])"
      ]
     },
     "execution_count": 7,
     "metadata": {},
     "output_type": "execute_result"
    }
   ],
   "source": [
    "# Si el resultado es peor no lo hago\n",
    "#X = MinMaxScaler().fit(X).transform(X.astype(float))\n",
    "X = StandardScaler().fit(X).transform(X.astype(float))\n",
    "X[0:5]\n"
   ]
  },
  {
   "cell_type": "markdown",
   "metadata": {},
   "source": [
    "## Aqui separo los datos en train y test\n"
   ]
  },
  {
   "cell_type": "code",
   "execution_count": 8,
   "metadata": {},
   "outputs": [
    {
     "name": "stdout",
     "output_type": "stream",
     "text": [
      "Set de Entrenamiento: (800, 8) (800, 4)\n",
      "Set de Prueba: (200, 8) (200, 4)\n"
     ]
    },
    {
     "data": {
      "text/plain": [
       "(800, 8)"
      ]
     },
     "execution_count": 8,
     "metadata": {},
     "output_type": "execute_result"
    }
   ],
   "source": [
    "X_train, X_test, y_train, y_test = train_test_split( X, dummy_y, test_size=0.2, random_state=3)\n",
    "print ('Set de Entrenamiento:', X_train.shape,  y_train.shape)\n",
    "print ('Set de Prueba:', X_test.shape,  y_test.shape)\n",
    "X_train.shape"
   ]
  },
  {
   "cell_type": "markdown",
   "metadata": {},
   "source": [
    "##  \n",
    "## Varias posibilidades de optimización de hiperparámetros"
   ]
  },
  {
   "cell_type": "markdown",
   "metadata": {},
   "source": [
    "<a name=\"id1\"></a>\n",
    "## 1. GRID SEARCH de hiperparámetros:  con bucle (sin K-fold CV)\n",
    "\n",
    "Prueba todas todas las combinaciones: fuerza bruta\n",
    "\n",
    "1. Defino una función mia para crear y entrenar la NN con los parámetros que quiero\n",
    "2. Defino los valores de los hiperparámetros y le aplico ParameterGrid (hace lista con todas las combinaciones)\n",
    "3. Hago un bucle para Grid Search con:\n",
    "    - Función crear y entrenar con cada combinación de parámetros\n",
    "    - Evalúo y almaceno los resultados\n",
    "4. Presento los resultados para poder elegir el mejor conjunto de hiperparámetros\n",
    "\n",
    "Nota: Dentro del FIT uso X_test e y_test para ir viendo si hay Variance en las gráficas y también en el evaluate uso X_test e y_test"
   ]
  },
  {
   "cell_type": "markdown",
   "metadata": {},
   "source": [
    "<a name=\"id7\"></a>"
   ]
  },
  {
   "cell_type": "code",
   "execution_count": 127,
   "metadata": {},
   "outputs": [],
   "source": [
    "# Implemento 2 Callbacks (además del que plotea)\n",
    "# 1. Para evitar overfitting parando cuando no mejore: EarlyStopping\n",
    "# 2. Para guardar el modelo con mejor precisión: ModelCheckPoint\n",
    "# Tengo que meter los 2 Callback en el FIT\n",
    "\n",
    "# Uso el loss para EarlyStopping y el accuracy para el ModelCheckPoint (aconsejado en Clasificación)\n",
    "# Para Regresión se aconseja el mismo, por ej mse \n",
    "call_stop_early = EarlyStopping(monitor='val_Categorical cross-entropy', patience=20, mode='min', verbose=1)\n",
    "call_model_checkp = ModelCheckpoint('best_model_hyp2.h5', monitor='val_accuracy', mode='max', verbose=1, save_best_only=True)\n"
   ]
  },
  {
   "cell_type": "code",
   "execution_count": 128,
   "metadata": {},
   "outputs": [],
   "source": [
    "#Creo función para crear y entrenar una NN de L capas y N neuronas, batch, epochs y activaciones seleccionables\n",
    "\n",
    "def crea_entrena_red_Lcapas(capas=1, neuronas=32, activ_entr='relu', activ_hid='relu', activ_sal='softmax',\n",
    "                 optimiser_mio='adam',epochs_ini=100, batch_ini=len(X_train)):\n",
    "    \n",
    "    metricNames = ['Categorical cross-entropy', 'Accuracy'] #'sparse_categorical_crossentropy'\n",
    "    metricNamesRaw = ['loss', 'accuracy']\n",
    "    \n",
    "    model = Sequential()\n",
    "    \n",
    "    # Capa de entrada\n",
    "    model.add(Dense(neuronas, input_dim = X_train.shape[1], activation=activ_entr))\n",
    "    # Capas ocultas\n",
    "    for i in range(1,capas):\n",
    "        model.add(Dense(neuronas, activation=activ_hid))\n",
    "    # Capa de salida    \n",
    "    model.add(Dense(classes_nb, activation = activ_sal)) \n",
    "    model.compile(optimizer = optimiser_mio, loss='categorical_crossentropy', metrics=['accuracy']) \n",
    "    \n",
    "    #Hago el entrenamiento/fit mostrando precision entren y test\n",
    "    tvPlot = tv.train.PlotMetricsOnEpoch(metrics_name=metricNames,cell_size=(6,4), columns=2, iter_num=epochs_ini, wait_num=2)\n",
    "    historyDense0 = model.fit(X_train, y_train,\n",
    "                                epochs=epochs_ini, batch_size=batch_ini, \n",
    "                                validation_data = (X_test, y_test), \n",
    "                                verbose=0,\n",
    "                                #class_weight = class_weight,\n",
    "                                callbacks=[tvPlot, call_stop_early, call_model_checkp]\n",
    "                             );\n",
    "    return model"
   ]
  },
  {
   "cell_type": "markdown",
   "metadata": {},
   "source": [
    "<a name=\"id6\"></a>"
   ]
  },
  {
   "cell_type": "code",
   "execution_count": 84,
   "metadata": {},
   "outputs": [],
   "source": [
    "## Optimizo los hiperparámetros\n",
    "# Grid de hiperparámetros evaluados\n",
    "# ==============================================================================\n",
    "param_grid = ParameterGrid({\n",
    "                 'capas':[1, 3, 5],\n",
    "                 'neuronas':[8, 16, 32],\n",
    "                 'activ_entr':['relu', 'selu', 'tanh'],\n",
    "                 'activ_hid'   :['relu', 'sigmoid'],\n",
    "                 'activ_sal'   :['softmax'],\n",
    "                 'optimiser_mio'   :['adam'],\n",
    "                 'epochs_ini':[25, 50, 100],\n",
    "                 'batch_ini':[16, 32, 64]\n",
    "                 \n",
    "                })\n"
   ]
  },
  {
   "cell_type": "code",
   "execution_count": 85,
   "metadata": {},
   "outputs": [
    {
     "data": {
      "image/png": "[encoded data removed]",
      "text/plain": [
       "<Figure size 864x576 with 2 Axes>"
      ]
     },
     "metadata": {
      "needs_background": "light"
     },
     "output_type": "display_data"
    },
    {
     "name": "stdout",
     "output_type": "stream",
     "text": [
      "7/7 [==============================] - 0s 2ms/step - loss: 1.2314 - accuracy: 0.4350\n",
      "Modelo: {'activ_entr': 'tanh', 'activ_hid': 'sigmoid', 'activ_sal': 'softmax', 'batch_ini': 64, 'capas': 5, 'epochs_ini': 100, 'neuronas': 32, 'optimiser_mio': 'adam'} ✓\n"
     ]
    }
   ],
   "source": [
    "# Loop para ajustar un modelo con cada combinación de hiperparámetros\n",
    "# ==============================================================================\n",
    "resultados = {'params': [], 'accuracy': []}\n",
    "\n",
    "for params in param_grid:\n",
    "    \n",
    "    model = crea_entrena_red_Lcapas(**params)\n",
    "    test_loss, test_acc = model.evaluate(X_test, y_test)\n",
    "    \n",
    "    resultados['params'].append(params)\n",
    "    resultados['accuracy'].append(test_acc)\n",
    "    print(f\"Modelo: {params} \\u2713\")\n",
    "\n",
    "# Resultados\n",
    "# ==============================================================================\n",
    "resultados = pd.DataFrame(resultados)\n",
    "resultados = pd.concat([resultados, resultados['params'].apply(pd.Series)], axis=1)\n",
    "resultados = resultados.sort_values('accuracy', ascending=False)\n",
    "resultados = resultados.drop(columns = 'params')\n",
    "resultados = resultados.reset_index(drop=True)"
   ]
  },
  {
   "cell_type": "code",
   "execution_count": 86,
   "metadata": {},
   "outputs": [
    {
     "data": {
      "text/html": [
       "<div>\n",
       "<style scoped>\n",
       "    .dataframe tbody tr th:only-of-type {\n",
       "        vertical-align: middle;\n",
       "    }\n",
       "\n",
       "    .dataframe tbody tr th {\n",
       "        vertical-align: top;\n",
       "    }\n",
       "\n",
       "    .dataframe thead th {\n",
       "        text-align: right;\n",
       "    }\n",
       "</style>\n",
       "<table border=\"1\" class=\"dataframe\">\n",
       "  <thead>\n",
       "    <tr style=\"text-align: right;\">\n",
       "      <th></th>\n",
       "      <th>accuracy</th>\n",
       "      <th>activ_entr</th>\n",
       "      <th>activ_hid</th>\n",
       "      <th>activ_sal</th>\n",
       "      <th>batch_ini</th>\n",
       "      <th>capas</th>\n",
       "      <th>epochs_ini</th>\n",
       "      <th>neuronas</th>\n",
       "      <th>optimiser_mio</th>\n",
       "    </tr>\n",
       "  </thead>\n",
       "  <tbody>\n",
       "    <tr>\n",
       "      <th>0</th>\n",
       "      <td>0.495</td>\n",
       "      <td>tanh</td>\n",
       "      <td>relu</td>\n",
       "      <td>softmax</td>\n",
       "      <td>32</td>\n",
       "      <td>1</td>\n",
       "      <td>25</td>\n",
       "      <td>16</td>\n",
       "      <td>adam</td>\n",
       "    </tr>\n",
       "    <tr>\n",
       "      <th>1</th>\n",
       "      <td>0.495</td>\n",
       "      <td>tanh</td>\n",
       "      <td>sigmoid</td>\n",
       "      <td>softmax</td>\n",
       "      <td>16</td>\n",
       "      <td>3</td>\n",
       "      <td>25</td>\n",
       "      <td>32</td>\n",
       "      <td>adam</td>\n",
       "    </tr>\n",
       "    <tr>\n",
       "      <th>2</th>\n",
       "      <td>0.480</td>\n",
       "      <td>selu</td>\n",
       "      <td>relu</td>\n",
       "      <td>softmax</td>\n",
       "      <td>16</td>\n",
       "      <td>1</td>\n",
       "      <td>50</td>\n",
       "      <td>16</td>\n",
       "      <td>adam</td>\n",
       "    </tr>\n",
       "    <tr>\n",
       "      <th>3</th>\n",
       "      <td>0.480</td>\n",
       "      <td>tanh</td>\n",
       "      <td>sigmoid</td>\n",
       "      <td>softmax</td>\n",
       "      <td>64</td>\n",
       "      <td>3</td>\n",
       "      <td>50</td>\n",
       "      <td>32</td>\n",
       "      <td>adam</td>\n",
       "    </tr>\n",
       "    <tr>\n",
       "      <th>4</th>\n",
       "      <td>0.475</td>\n",
       "      <td>selu</td>\n",
       "      <td>relu</td>\n",
       "      <td>softmax</td>\n",
       "      <td>64</td>\n",
       "      <td>1</td>\n",
       "      <td>100</td>\n",
       "      <td>16</td>\n",
       "      <td>adam</td>\n",
       "    </tr>\n",
       "    <tr>\n",
       "      <th>5</th>\n",
       "      <td>0.475</td>\n",
       "      <td>selu</td>\n",
       "      <td>sigmoid</td>\n",
       "      <td>softmax</td>\n",
       "      <td>64</td>\n",
       "      <td>3</td>\n",
       "      <td>50</td>\n",
       "      <td>32</td>\n",
       "      <td>adam</td>\n",
       "    </tr>\n",
       "    <tr>\n",
       "      <th>6</th>\n",
       "      <td>0.475</td>\n",
       "      <td>tanh</td>\n",
       "      <td>sigmoid</td>\n",
       "      <td>softmax</td>\n",
       "      <td>32</td>\n",
       "      <td>1</td>\n",
       "      <td>100</td>\n",
       "      <td>32</td>\n",
       "      <td>adam</td>\n",
       "    </tr>\n",
       "  </tbody>\n",
       "</table>\n",
       "</div>"
      ],
      "text/plain": [
       "   accuracy activ_entr activ_hid activ_sal  batch_ini  capas  epochs_ini  \\\n",
       "0     0.495       tanh      relu   softmax         32      1          25   \n",
       "1     0.495       tanh   sigmoid   softmax         16      3          25   \n",
       "2     0.480       selu      relu   softmax         16      1          50   \n",
       "3     0.480       tanh   sigmoid   softmax         64      3          50   \n",
       "4     0.475       selu      relu   softmax         64      1         100   \n",
       "5     0.475       selu   sigmoid   softmax         64      3          50   \n",
       "6     0.475       tanh   sigmoid   softmax         32      1         100   \n",
       "\n",
       "   neuronas optimiser_mio  \n",
       "0        16          adam  \n",
       "1        32          adam  \n",
       "2        16          adam  \n",
       "3        32          adam  \n",
       "4        16          adam  \n",
       "5        32          adam  \n",
       "6        32          adam  "
      ]
     },
     "execution_count": 86,
     "metadata": {},
     "output_type": "execute_result"
    }
   ],
   "source": [
    "resultados.head(7)"
   ]
  },
  {
   "cell_type": "code",
   "execution_count": 87,
   "metadata": {},
   "outputs": [
    {
     "data": {
      "image/png": "[encoded data removed]",
      "text/plain": [
       "<Figure size 864x576 with 2 Axes>"
      ]
     },
     "metadata": {
      "needs_background": "light"
     },
     "output_type": "display_data"
    },
    {
     "name": "stdout",
     "output_type": "stream",
     "text": [
      "\n",
      "Precisión de entrenamiento:  0.42875\n",
      "Precisión de test:  0.47\n",
      "\n",
      "Precisión de entrenamiento del mejor (grabado):  0.41625\n",
      "Precisión de test del mejor (grabado):  0.5\n"
     ]
    }
   ],
   "source": [
    "\n",
    "model = crea_entrena_red_Lcapas(capas=1,\n",
    "                        neuronas=32,\n",
    "                        activ_entr = 'tanh',\n",
    "                        activ_hid = 'sigmoid',\n",
    "                        activ_sal = 'softmax',\n",
    "                        optimiser_mio = 'adam',\n",
    "                        epochs_ini=25, \n",
    "                        batch_ini=32)\n",
    "\n",
    "dummy_ypred = model.predict(X_train)\n",
    "dummy_yhat = model.predict(X_test)\n",
    "print(\"\\nPrecisión de entrenamiento: \", accuracy_score(np.argmax(y_train, axis=1), np.argmax(dummy_ypred, axis=1)))\n",
    "print(\"Precisión de test: \", accuracy_score(np.argmax(y_test, axis=1), np.argmax(dummy_yhat, axis=1)))\n",
    "\n",
    "# Cargar el modelo guardado que es el de mejor precisión, no el que me da la función que es el ultimo \n",
    "saved_model = load_model('best_model.h5')\n",
    "\n",
    "dummy_ypred = saved_model.predict(X_train)\n",
    "dummy_yhat = saved_model.predict(X_test)\n",
    "print(\"\\nPrecisión de entrenamiento del mejor (grabado): \", accuracy_score(np.argmax(y_train, axis=1), np.argmax(dummy_ypred, axis=1)))\n",
    "print(\"Precisión de test del mejor (grabado): \", accuracy_score(np.argmax(y_test, axis=1), np.argmax(dummy_yhat, axis=1)))"
   ]
  },
  {
   "cell_type": "code",
   "execution_count": 88,
   "metadata": {},
   "outputs": [
    {
     "name": "stdout",
     "output_type": "stream",
     "text": [
      "Modelo de 3 capas 32 neuronas\n",
      "\n",
      "[[37  0  5  8]\n",
      " [ 8  8 14 13]\n",
      " [20  2 31  7]\n",
      " [12  2  9 24]]\n",
      "              precision    recall  f1-score   support\n",
      "\n",
      "           0       0.48      0.74      0.58        50\n",
      "           1       0.67      0.19      0.29        43\n",
      "           2       0.53      0.52      0.52        60\n",
      "           3       0.46      0.51      0.48        47\n",
      "\n",
      "    accuracy                           0.50       200\n",
      "   macro avg       0.53      0.49      0.47       200\n",
      "weighted avg       0.53      0.50      0.48       200\n",
      "\n"
     ]
    }
   ],
   "source": [
    "#Matriz del modelo\n",
    "print(\"Modelo de 3 capas 32 neuronas\\n\")\n",
    "print(confusion_matrix(np.argmax(y_test, axis=1), np.argmax(dummy_yhat, axis=1), labels=range(0,classes_nb)))\n",
    "print (classification_report(np.argmax(y_test, axis=1), np.argmax(dummy_yhat, axis=1)))\n"
   ]
  },
  {
   "cell_type": "markdown",
   "metadata": {},
   "source": [
    "<a name=\"id2\"></a>\n",
    "## 2. GRID SEARCH de hiperparámetros:  función sklearn GridSearchCV (incluye K-fold CV)\n",
    "\n",
    "Prueba todas todas las combinaciones: fuerza bruta\n",
    "\n",
    "1. Defino una función mia para crear (no entrenar) la NN con los parámetros que quiero\n",
    "2. Defino los valores de los hiperparámetros como un diccionario (sin ParameterGrid)\n",
    "3. Creo un modelo tipo KerasClassifier (crea un estimator con mi funcion creadora, que tiene fit y score)\n",
    "4. Creo objeto de la clase GridSearchCV (que necesita un estimator que tenga fit y score)\n",
    "5. Hago fit con él  (supongo que llama al fit de KerasClassifier que llama al fit del modelo de NN mio que es un Sequence de NN)\n",
    "\n",
    "Funcionamiento: Al hacer K-fold CV, se entrena el modelo con k-1/k partes del training set y se evalua con el 1/k parte (evaluation set) y eso para cada combinación de parámetros. Con la mejor comb se vuelve a entrenar por ultima vez pero con TODO el training set.\n",
    "\n",
    "Evaluación final: hay que hacerla con el test set (X_test, y_test) y ese es el dato final"
   ]
  },
  {
   "cell_type": "code",
   "execution_count": 45,
   "metadata": {},
   "outputs": [],
   "source": [
    "def crea_red_Lcapas(capas=1, neuronas=32,\n",
    "                    activ_entr='relu', activ_hid='relu', activ_sal='softmax',\n",
    "                    optimiser_mio='adam'):\n",
    "    \n",
    "    metricNames = ['Categorical cross-entropy', 'Accuracy'] #'sparse_categorical_crossentropy'\n",
    "    metricNamesRaw = ['loss', 'accuracy']\n",
    "    \n",
    "    model = Sequential()\n",
    "    \n",
    "    # Capa de entrada\n",
    "    model.add(Dense(neuronas, input_dim = X_train.shape[1], activation=activ_entr))\n",
    "    # Capas ocultas\n",
    "    for i in range(1,capas):\n",
    "        model.add(Dense(neuronas, activation=activ_hid))\n",
    "    # Capa de salida    \n",
    "    model.add(Dense(classes_nb, activation = activ_sal)) \n",
    "    model.compile(optimizer = optimiser_mio, loss='categorical_crossentropy', metrics=['accuracy']) \n",
    "    \n",
    "    return model"
   ]
  },
  {
   "cell_type": "code",
   "execution_count": 124,
   "metadata": {},
   "outputs": [],
   "source": [
    "parametros = {\n",
    "            'capas':[1, 3, 5],\n",
    "            'neuronas':[8, 16, 32],\n",
    "            'activ_entr':['relu', 'selu', 'tanh'],\n",
    "            'activ_hid'   :['relu', 'sigmoid'],\n",
    "            'activ_sal'   :['softmax'],\n",
    "            'optimiser_mio'   :['adam'],\n",
    "            'epochs':[25, 50, 100],\n",
    "            'batch_size':[16, 32, 64]\n",
    "            }"
   ]
  },
  {
   "cell_type": "code",
   "execution_count": 125,
   "metadata": {},
   "outputs": [
    {
     "name": "stdout",
     "output_type": "stream",
     "text": [
      "Fitting 3 folds for each of 54 candidates, totalling 162 fits\n",
      "17/17 [==============================] - 0s 1ms/step - loss: 1.3533 - accuracy: 0.3670\n",
      "34/34 [==============================] - 0s 1ms/step - loss: 1.0435 - accuracy: 0.5591\n",
      "17/17 [==============================] - 0s 1ms/step - loss: 1.3568 - accuracy: 0.3858\n",
      "34/34 [==============================] - 0s 1ms/step - loss: 1.0123 - accuracy: 0.5666\n",
      "17/17 [==============================] - 0s 1ms/step - loss: 1.3761 - accuracy: 0.3647\n",
      "34/34 [==============================] - 0s 1ms/step - loss: 1.0425 - accuracy: 0.5318\n",
      "17/17 [==============================] - 0s 1ms/step - loss: 1.5235 - accuracy: 0.3371\n",
      "34/34 [==============================] - 0s 1ms/step - loss: 0.9113 - accuracy: 0.6116\n",
      "17/17 [==============================] - 0s 1ms/step - loss: 1.5045 - accuracy: 0.3596\n",
      "34/34 [==============================] - 0s 2ms/step - loss: 0.8647 - accuracy: 0.6417\n",
      "17/17 [==============================] - 0s 2ms/step - loss: 1.4578 - accuracy: 0.3534\n",
      "34/34 [==============================] - 0s 3ms/step - loss: 0.9064 - accuracy: 0.6292\n",
      "17/17 [==============================] - 0s 1ms/step - loss: 1.8023 - accuracy: 0.3521\n",
      "34/34 [==============================] - 0s 1ms/step - loss: 0.6886 - accuracy: 0.7373\n",
      "17/17 [==============================] - 0s 1ms/step - loss: 2.0383 - accuracy: 0.3184\n",
      "34/34 [==============================] - 0s 1ms/step - loss: 0.6138 - accuracy: 0.7711\n",
      "17/17 [==============================] - 0s 1ms/step - loss: 1.8915 - accuracy: 0.3271\n",
      "34/34 [==============================] - 0s 1ms/step - loss: 0.6204 - accuracy: 0.7678\n",
      "9/9 [==============================] - 0s 2ms/step - loss: 1.3067 - accuracy: 0.3820\n",
      "17/17 [==============================] - 0s 1ms/step - loss: 1.0892 - accuracy: 0.5103\n",
      "9/9 [==============================] - 1s 2ms/step - loss: 1.2862 - accuracy: 0.3858\n",
      "17/17 [==============================] - 0s 1ms/step - loss: 1.0726 - accuracy: 0.5122\n",
      "9/9 [==============================] - 0s 2ms/step - loss: 1.3308 - accuracy: 0.3985\n",
      "17/17 [==============================] - 0s 4ms/step - loss: 1.0790 - accuracy: 0.5262\n",
      "9/9 [==============================] - 0s 1ms/step - loss: 1.4155 - accuracy: 0.3521\n",
      "17/17 [==============================] - 0s 1ms/step - loss: 0.9800 - accuracy: 0.5797\n",
      "9/9 [==============================] - 0s 2ms/step - loss: 1.4408 - accuracy: 0.3633\n",
      "17/17 [==============================] - 0s 1ms/step - loss: 0.9015 - accuracy: 0.6266\n",
      "9/9 [==============================] - 0s 1ms/step - loss: 1.4071 - accuracy: 0.3797\n",
      "17/17 [==============================] - 0s 1ms/step - loss: 0.9611 - accuracy: 0.5861\n",
      "9/9 [==============================] - 0s 1ms/step - loss: 1.6764 - accuracy: 0.3895\n",
      "17/17 [==============================] - 0s 1ms/step - loss: 0.8055 - accuracy: 0.6735\n",
      "9/9 [==============================] - 0s 1ms/step - loss: 1.9146 - accuracy: 0.3221\n",
      "17/17 [==============================] - 0s 1ms/step - loss: 0.6446 - accuracy: 0.7467\n",
      "9/9 [==============================] - 0s 1ms/step - loss: 1.7026 - accuracy: 0.3421\n",
      "17/17 [==============================] - 0s 1ms/step - loss: 0.7254 - accuracy: 0.7079\n",
      "5/5 [==============================] - 0s 2ms/step - loss: 1.3022 - accuracy: 0.4007\n",
      "9/9 [==============================] - 0s 1ms/step - loss: 1.1368 - accuracy: 0.4916\n",
      "5/5 [==============================] - 0s 2ms/step - loss: 1.2769 - accuracy: 0.4195\n",
      "9/9 [==============================] - 0s 1ms/step - loss: 1.1115 - accuracy: 0.5066\n",
      "5/5 [==============================] - 0s 2ms/step - loss: 1.3286 - accuracy: 0.3647\n",
      "9/9 [==============================] - 0s 1ms/step - loss: 1.1329 - accuracy: 0.4738\n",
      "5/5 [==============================] - 0s 2ms/step - loss: 1.3607 - accuracy: 0.3670\n",
      "9/9 [==============================] - 0s 2ms/step - loss: 1.0497 - accuracy: 0.5422\n",
      "5/5 [==============================] - 0s 2ms/step - loss: 1.3239 - accuracy: 0.3745\n",
      "9/9 [==============================] - 0s 1ms/step - loss: 1.0484 - accuracy: 0.5366\n",
      "5/5 [==============================] - 0s 2ms/step - loss: 1.3434 - accuracy: 0.4023\n",
      "9/9 [==============================] - 0s 1ms/step - loss: 1.0368 - accuracy: 0.5431\n",
      "5/5 [==============================] - 0s 2ms/step - loss: 1.4640 - accuracy: 0.3633\n",
      "9/9 [==============================] - 0s 1ms/step - loss: 0.8788 - accuracy: 0.6360\n",
      "5/5 [==============================] - 0s 2ms/step - loss: 1.5170 - accuracy: 0.3745\n",
      "9/9 [==============================] - 0s 1ms/step - loss: 0.8405 - accuracy: 0.6567\n",
      "5/5 [==============================] - 0s 2ms/step - loss: 1.4370 - accuracy: 0.3872\n",
      "9/9 [==============================] - 0s 1ms/step - loss: 0.8810 - accuracy: 0.6367\n",
      "17/17 [==============================] - 0s 1ms/step - loss: 1.2821 - accuracy: 0.3783\n",
      "34/34 [==============================] - 0s 1ms/step - loss: 1.1824 - accuracy: 0.4540\n",
      "17/17 [==============================] - 0s 1ms/step - loss: 1.2483 - accuracy: 0.4045\n",
      "34/34 [==============================] - 0s 1ms/step - loss: 1.2039 - accuracy: 0.4503\n",
      "17/17 [==============================] - 0s 1ms/step - loss: 1.2887 - accuracy: 0.3797\n",
      "34/34 [==============================] - 0s 1ms/step - loss: 1.1914 - accuracy: 0.4476\n",
      "17/17 [==============================] - 0s 1ms/step - loss: 1.2990 - accuracy: 0.3708\n",
      "34/34 [==============================] - 0s 1ms/step - loss: 1.1364 - accuracy: 0.4747\n",
      "17/17 [==============================] - 0s 1ms/step - loss: 1.2516 - accuracy: 0.4045\n",
      "34/34 [==============================] - 0s 1ms/step - loss: 1.1555 - accuracy: 0.4784\n",
      "17/17 [==============================] - 0s 1ms/step - loss: 1.2963 - accuracy: 0.4211\n",
      "34/34 [==============================] - 0s 1ms/step - loss: 1.1499 - accuracy: 0.4738\n",
      "17/17 [==============================] - 0s 1ms/step - loss: 1.3366 - accuracy: 0.3858\n",
      "34/34 [==============================] - 0s 1ms/step - loss: 1.0996 - accuracy: 0.5141\n",
      "17/17 [==============================] - 0s 2ms/step - loss: 1.3349 - accuracy: 0.3745\n",
      "34/34 [==============================] - 0s 1ms/step - loss: 1.0760 - accuracy: 0.5366\n",
      "17/17 [==============================] - 0s 1ms/step - loss: 1.3157 - accuracy: 0.3910\n",
      "34/34 [==============================] - 0s 1ms/step - loss: 1.0948 - accuracy: 0.5037\n",
      "9/9 [==============================] - 0s 1ms/step - loss: 1.2728 - accuracy: 0.4007\n",
      "17/17 [==============================] - 0s 1ms/step - loss: 1.2022 - accuracy: 0.4540\n",
      "9/9 [==============================] - 0s 2ms/step - loss: 1.2593 - accuracy: 0.4082\n",
      "17/17 [==============================] - 0s 1ms/step - loss: 1.2381 - accuracy: 0.4203\n",
      "9/9 [==============================] - 0s 1ms/step - loss: 1.2915 - accuracy: 0.3759\n",
      "17/17 [==============================] - 0s 1ms/step - loss: 1.2084 - accuracy: 0.4419\n",
      "9/9 [==============================] - 0s 1ms/step - loss: 1.2915 - accuracy: 0.3858\n",
      "17/17 [==============================] - 0s 1ms/step - loss: 1.1598 - accuracy: 0.4672\n",
      "9/9 [==============================] - 0s 1ms/step - loss: 1.2401 - accuracy: 0.4007\n",
      "17/17 [==============================] - 0s 1ms/step - loss: 1.1798 - accuracy: 0.4690\n",
      "9/9 [==============================] - 0s 1ms/step - loss: 1.3016 - accuracy: 0.3910\n",
      "17/17 [==============================] - 0s 1ms/step - loss: 1.1664 - accuracy: 0.4607\n",
      "9/9 [==============================] - 0s 1ms/step - loss: 1.3034 - accuracy: 0.4157\n",
      "17/17 [==============================] - 0s 1ms/step - loss: 1.1175 - accuracy: 0.4991\n",
      "9/9 [==============================] - 0s 1ms/step - loss: 1.2728 - accuracy: 0.3858\n",
      "17/17 [==============================] - 0s 1ms/step - loss: 1.1182 - accuracy: 0.5084\n",
      "9/9 [==============================] - 0s 1ms/step - loss: 1.3295 - accuracy: 0.4060\n",
      "17/17 [==============================] - 0s 1ms/step - loss: 1.1165 - accuracy: 0.5094\n",
      "5/5 [==============================] - 0s 2ms/step - loss: 1.2956 - accuracy: 0.4157\n",
      "9/9 [==============================] - 0s 1ms/step - loss: 1.2602 - accuracy: 0.4184\n",
      "5/5 [==============================] - 0s 2ms/step - loss: 1.2937 - accuracy: 0.3895\n",
      "9/9 [==============================] - 0s 1ms/step - loss: 1.2847 - accuracy: 0.4334\n",
      "5/5 [==============================] - 0s 2ms/step - loss: 1.3153 - accuracy: 0.3647\n",
      "9/9 [==============================] - 0s 2ms/step - loss: 1.2533 - accuracy: 0.4307\n",
      "5/5 [==============================] - 0s 2ms/step - loss: 1.2698 - accuracy: 0.3783\n",
      "9/9 [==============================] - 0s 1ms/step - loss: 1.1879 - accuracy: 0.4559\n",
      "5/5 [==============================] - 0s 2ms/step - loss: 1.2406 - accuracy: 0.3970\n",
      "9/9 [==============================] - 0s 2ms/step - loss: 1.2029 - accuracy: 0.4465\n",
      "5/5 [==============================] - 0s 2ms/step - loss: 1.2786 - accuracy: 0.3759\n",
      "9/9 [==============================] - 0s 2ms/step - loss: 1.1946 - accuracy: 0.4438\n",
      "5/5 [==============================] - 0s 2ms/step - loss: 1.3049 - accuracy: 0.3858\n",
      "9/9 [==============================] - 0s 1ms/step - loss: 1.1464 - accuracy: 0.4859\n",
      "5/5 [==============================] - 0s 3ms/step - loss: 1.2422 - accuracy: 0.4120\n",
      "9/9 [==============================] - 0s 1ms/step - loss: 1.1565 - accuracy: 0.4690\n",
      "5/5 [==============================] - 0s 2ms/step - loss: 1.2827 - accuracy: 0.4286\n",
      "9/9 [==============================] - 0s 1ms/step - loss: 1.1516 - accuracy: 0.4719\n",
      "17/17 [==============================] - 0s 1ms/step - loss: 1.3405 - accuracy: 0.3558\n",
      "34/34 [==============================] - 0s 1ms/step - loss: 1.0493 - accuracy: 0.5591\n",
      "17/17 [==============================] - 0s 1ms/step - loss: 1.3231 - accuracy: 0.3633\n",
      "34/34 [==============================] - 0s 1ms/step - loss: 1.0185 - accuracy: 0.5666\n",
      "17/17 [==============================] - 0s 1ms/step - loss: 1.3586 - accuracy: 0.3722\n",
      "34/34 [==============================] - 0s 1ms/step - loss: 1.0302 - accuracy: 0.5449\n",
      "17/17 [==============================] - 0s 1ms/step - loss: 1.4167 - accuracy: 0.3745\n",
      "34/34 [==============================] - 0s 1ms/step - loss: 0.9309 - accuracy: 0.6079\n",
      "17/17 [==============================] - 0s 1ms/step - loss: 1.4722 - accuracy: 0.3446\n",
      "34/34 [==============================] - 0s 1ms/step - loss: 0.8973 - accuracy: 0.6248\n",
      "17/17 [==============================] - 0s 1ms/step - loss: 1.4475 - accuracy: 0.4098\n",
      "34/34 [==============================] - 0s 1ms/step - loss: 0.8803 - accuracy: 0.6311\n",
      "17/17 [==============================] - 0s 2ms/step - loss: 1.7443 - accuracy: 0.3371\n",
      "34/34 [==============================] - 0s 1ms/step - loss: 0.7111 - accuracy: 0.7242\n",
      "17/17 [==============================] - 0s 1ms/step - loss: 1.7680 - accuracy: 0.3745\n",
      "34/34 [==============================] - 0s 1ms/step - loss: 0.6698 - accuracy: 0.7336\n",
      "17/17 [==============================] - 0s 1ms/step - loss: 1.8129 - accuracy: 0.3308\n",
      "34/34 [==============================] - 0s 1ms/step - loss: 0.6169 - accuracy: 0.7715\n",
      "9/9 [==============================] - 0s 1ms/step - loss: 1.3362 - accuracy: 0.3670\n",
      "17/17 [==============================] - 0s 1ms/step - loss: 1.0820 - accuracy: 0.5197\n",
      "9/9 [==============================] - 0s 1ms/step - loss: 1.3198 - accuracy: 0.3895\n",
      "17/17 [==============================] - 0s 1ms/step - loss: 1.0550 - accuracy: 0.5516\n",
      "9/9 [==============================] - 0s 1ms/step - loss: 1.3086 - accuracy: 0.3835\n",
      "17/17 [==============================] - 0s 2ms/step - loss: 1.0655 - accuracy: 0.5131\n",
      "9/9 [==============================] - 0s 1ms/step - loss: 1.4110 - accuracy: 0.3745\n",
      "17/17 [==============================] - 0s 2ms/step - loss: 0.9880 - accuracy: 0.5872\n",
      "9/9 [==============================] - 0s 1ms/step - loss: 1.3807 - accuracy: 0.3670\n",
      "17/17 [==============================] - 0s 1ms/step - loss: 0.9683 - accuracy: 0.5985\n",
      "9/9 [==============================] - 0s 1ms/step - loss: 1.4306 - accuracy: 0.3534\n",
      "17/17 [==============================] - 0s 1ms/step - loss: 0.9767 - accuracy: 0.5581\n",
      "9/9 [==============================] - 0s 1ms/step - loss: 1.6527 - accuracy: 0.3745\n",
      "17/17 [==============================] - 0s 1ms/step - loss: 0.8038 - accuracy: 0.6754\n",
      "9/9 [==============================] - 0s 1ms/step - loss: 1.7689 - accuracy: 0.3596\n",
      "17/17 [==============================] - 0s 2ms/step - loss: 0.6802 - accuracy: 0.7392\n",
      "9/9 [==============================] - 1s 1ms/step - loss: 1.6053 - accuracy: 0.3684\n",
      "17/17 [==============================] - 0s 1ms/step - loss: 0.7663 - accuracy: 0.7041\n",
      "5/5 [==============================] - 0s 2ms/step - loss: 1.3414 - accuracy: 0.3745\n",
      "9/9 [==============================] - 0s 2ms/step - loss: 1.1148 - accuracy: 0.5047\n",
      "5/5 [==============================] - 0s 2ms/step - loss: 1.2807 - accuracy: 0.4082\n",
      "9/9 [==============================] - 0s 2ms/step - loss: 1.1147 - accuracy: 0.5009\n",
      "5/5 [==============================] - 0s 2ms/step - loss: 1.2946 - accuracy: 0.3872\n",
      "9/9 [==============================] - 0s 2ms/step - loss: 1.1109 - accuracy: 0.4850\n",
      "5/5 [==============================] - 0s 2ms/step - loss: 1.3294 - accuracy: 0.4157\n",
      "9/9 [==============================] - 0s 1ms/step - loss: 1.0486 - accuracy: 0.5610\n",
      "5/5 [==============================] - 0s 2ms/step - loss: 1.3206 - accuracy: 0.3670\n",
      "9/9 [==============================] - 0s 1ms/step - loss: 1.0178 - accuracy: 0.5816\n",
      "5/5 [==============================] - 0s 3ms/step - loss: 1.3604 - accuracy: 0.3534\n",
      "9/9 [==============================] - 0s 2ms/step - loss: 1.0323 - accuracy: 0.5599\n",
      "5/5 [==============================] - 0s 2ms/step - loss: 1.4599 - accuracy: 0.3933\n",
      "9/9 [==============================] - 0s 2ms/step - loss: 0.9121 - accuracy: 0.6266\n",
      "5/5 [==============================] - 0s 2ms/step - loss: 1.4205 - accuracy: 0.3783\n",
      "9/9 [==============================] - 0s 1ms/step - loss: 0.8789 - accuracy: 0.6229\n",
      "5/5 [==============================] - 0s 1ms/step - loss: 1.4368 - accuracy: 0.3684\n",
      "9/9 [==============================] - 0s 1ms/step - loss: 0.8598 - accuracy: 0.6517\n",
      "17/17 [==============================] - 0s 1ms/step - loss: 1.2730 - accuracy: 0.3970\n",
      "34/34 [==============================] - 0s 945us/step - loss: 1.2016 - accuracy: 0.4409\n",
      "17/17 [==============================] - 0s 970us/step - loss: 1.2408 - accuracy: 0.4082\n",
      "34/34 [==============================] - 0s 909us/step - loss: 1.2174 - accuracy: 0.4409\n",
      "17/17 [==============================] - 0s 1ms/step - loss: 1.2839 - accuracy: 0.3947\n",
      "34/34 [==============================] - 0s 895us/step - loss: 1.1970 - accuracy: 0.4419\n",
      "17/17 [==============================] - 0s 1ms/step - loss: 1.2714 - accuracy: 0.3895\n",
      "34/34 [==============================] - 0s 921us/step - loss: 1.1882 - accuracy: 0.4540\n",
      "17/17 [==============================] - 0s 977us/step - loss: 1.2534 - accuracy: 0.4232\n",
      "34/34 [==============================] - 0s 880us/step - loss: 1.1920 - accuracy: 0.4522\n",
      "17/17 [==============================] - 0s 1ms/step - loss: 1.2935 - accuracy: 0.4286\n",
      "34/34 [==============================] - 0s 909us/step - loss: 1.1783 - accuracy: 0.4588\n",
      "17/17 [==============================] - 0s 982us/step - loss: 1.2900 - accuracy: 0.3820\n",
      "34/34 [==============================] - 0s 917us/step - loss: 1.1484 - accuracy: 0.4728\n",
      "17/17 [==============================] - 0s 982us/step - loss: 1.2749 - accuracy: 0.3858\n",
      "34/34 [==============================] - 0s 935us/step - loss: 1.1375 - accuracy: 0.4953\n",
      "17/17 [==============================] - 0s 1ms/step - loss: 1.3118 - accuracy: 0.4211\n",
      "34/34 [==============================] - 0s 913us/step - loss: 1.1229 - accuracy: 0.4663\n",
      "9/9 [==============================] - 0s 1ms/step - loss: 1.2682 - accuracy: 0.3933\n",
      "17/17 [==============================] - 0s 2ms/step - loss: 1.2102 - accuracy: 0.4315\n",
      "9/9 [==============================] - 0s 1ms/step - loss: 1.2462 - accuracy: 0.4082\n",
      "17/17 [==============================] - 0s 990us/step - loss: 1.2346 - accuracy: 0.4315\n",
      "9/9 [==============================] - 0s 1ms/step - loss: 1.2804 - accuracy: 0.3947\n",
      "17/17 [==============================] - 0s 1ms/step - loss: 1.2056 - accuracy: 0.4363\n",
      "9/9 [==============================] - 0s 2ms/step - loss: 1.2726 - accuracy: 0.3970\n",
      "17/17 [==============================] - 0s 1ms/step - loss: 1.1941 - accuracy: 0.4522\n"
     ]
    },
    {
     "name": "stdout",
     "output_type": "stream",
     "text": [
      "9/9 [==============================] - 0s 2ms/step - loss: 1.2370 - accuracy: 0.4307\n",
      "17/17 [==============================] - 0s 1ms/step - loss: 1.2101 - accuracy: 0.4390\n",
      "9/9 [==============================] - 0s 1ms/step - loss: 1.2885 - accuracy: 0.4098\n",
      "17/17 [==============================] - 0s 997us/step - loss: 1.1922 - accuracy: 0.4476\n",
      "9/9 [==============================] - 0s 1ms/step - loss: 1.2739 - accuracy: 0.4045\n",
      "17/17 [==============================] - 0s 1ms/step - loss: 1.1703 - accuracy: 0.4559\n",
      "9/9 [==============================] - 0s 2ms/step - loss: 1.2581 - accuracy: 0.4157\n",
      "17/17 [==============================] - 0s 1ms/step - loss: 1.1777 - accuracy: 0.4634\n",
      "9/9 [==============================] - 0s 1ms/step - loss: 1.2982 - accuracy: 0.4323\n",
      "17/17 [==============================] - 0s 980us/step - loss: 1.1650 - accuracy: 0.4532\n",
      "5/5 [==============================] - 0s 2ms/step - loss: 1.2628 - accuracy: 0.4120\n",
      "9/9 [==============================] - 0s 1ms/step - loss: 1.2294 - accuracy: 0.4240\n",
      "5/5 [==============================] - 0s 2ms/step - loss: 1.2505 - accuracy: 0.4045\n",
      "9/9 [==============================] - 0s 1ms/step - loss: 1.2479 - accuracy: 0.4315\n",
      "5/5 [==============================] - 0s 2ms/step - loss: 1.2851 - accuracy: 0.3759\n",
      "9/9 [==============================] - 0s 1ms/step - loss: 1.2235 - accuracy: 0.4326\n",
      "5/5 [==============================] - 0s 2ms/step - loss: 1.2727 - accuracy: 0.4007\n",
      "9/9 [==============================] - 0s 1ms/step - loss: 1.2078 - accuracy: 0.4390\n",
      "5/5 [==============================] - 0s 2ms/step - loss: 1.2363 - accuracy: 0.4007\n",
      "9/9 [==============================] - 0s 3ms/step - loss: 1.2223 - accuracy: 0.4353\n",
      "5/5 [==============================] - 0s 7ms/step - loss: 1.2856 - accuracy: 0.3835\n",
      "9/9 [==============================] - 0s 2ms/step - loss: 1.2004 - accuracy: 0.4438\n",
      "5/5 [==============================] - 0s 5ms/step - loss: 1.2762 - accuracy: 0.4007\n",
      "9/9 [==============================] - 0s 2ms/step - loss: 1.1805 - accuracy: 0.4522\n",
      "5/5 [==============================] - 0s 2ms/step - loss: 1.2438 - accuracy: 0.4195\n",
      "9/9 [==============================] - 0s 1ms/step - loss: 1.1921 - accuracy: 0.4597\n",
      "5/5 [==============================] - 0s 2ms/step - loss: 1.2911 - accuracy: 0.4248\n",
      "9/9 [==============================] - 0s 2ms/step - loss: 1.1804 - accuracy: 0.4644\n",
      "17/17 [==============================] - 0s 1ms/step - loss: 1.3107 - accuracy: 0.3858\n",
      "34/34 [==============================] - 0s 937us/step - loss: 1.0638 - accuracy: 0.5553\n",
      "17/17 [==============================] - 0s 1ms/step - loss: 1.3172 - accuracy: 0.3783\n",
      "34/34 [==============================] - 0s 925us/step - loss: 1.0357 - accuracy: 0.5441\n",
      "17/17 [==============================] - 0s 1ms/step - loss: 1.3407 - accuracy: 0.4060\n",
      "34/34 [==============================] - 0s 1ms/step - loss: 1.0479 - accuracy: 0.5468\n",
      "17/17 [==============================] - 0s 1ms/step - loss: 1.4213 - accuracy: 0.3820\n",
      "34/34 [==============================] - 0s 894us/step - loss: 0.9591 - accuracy: 0.5816\n",
      "17/17 [==============================] - 0s 994us/step - loss: 1.4062 - accuracy: 0.4007\n",
      "34/34 [==============================] - 0s 937us/step - loss: 0.8958 - accuracy: 0.6417\n",
      "17/17 [==============================] - 0s 1ms/step - loss: 1.3909 - accuracy: 0.3835\n",
      "34/34 [==============================] - 0s 1ms/step - loss: 0.9629 - accuracy: 0.5918\n",
      "17/17 [==============================] - 0s 993us/step - loss: 1.6188 - accuracy: 0.3633\n",
      "34/34 [==============================] - 0s 922us/step - loss: 0.7626 - accuracy: 0.6979\n",
      "17/17 [==============================] - 0s 994us/step - loss: 1.6827 - accuracy: 0.3258\n",
      "34/34 [==============================] - 0s 943us/step - loss: 0.7119 - accuracy: 0.7373\n",
      "17/17 [==============================] - 0s 1ms/step - loss: 1.8647 - accuracy: 0.3308\n",
      "34/34 [==============================] - 0s 908us/step - loss: 0.6731 - accuracy: 0.7397\n",
      "9/9 [==============================] - 0s 1ms/step - loss: 1.3051 - accuracy: 0.3596\n",
      "17/17 [==============================] - 0s 1ms/step - loss: 1.0847 - accuracy: 0.5291\n",
      "9/9 [==============================] - 0s 1ms/step - loss: 1.3080 - accuracy: 0.3895\n",
      "17/17 [==============================] - 0s 1ms/step - loss: 1.0671 - accuracy: 0.5553\n",
      "9/9 [==============================] - 0s 1ms/step - loss: 1.3150 - accuracy: 0.3947\n",
      "17/17 [==============================] - 0s 1ms/step - loss: 1.0948 - accuracy: 0.5187\n",
      "9/9 [==============================] - 0s 1ms/step - loss: 1.3775 - accuracy: 0.3933\n",
      "17/17 [==============================] - 0s 1ms/step - loss: 0.9992 - accuracy: 0.5760\n",
      "9/9 [==============================] - 0s 1ms/step - loss: 1.4176 - accuracy: 0.3558\n",
      "17/17 [==============================] - 0s 990us/step - loss: 0.9643 - accuracy: 0.5835\n",
      "9/9 [==============================] - 1s 1ms/step - loss: 1.3881 - accuracy: 0.3910\n",
      "17/17 [==============================] - 0s 1ms/step - loss: 1.0016 - accuracy: 0.5805\n",
      "9/9 [==============================] - 0s 2ms/step - loss: 1.5730 - accuracy: 0.3670\n",
      "17/17 [==============================] - 0s 1ms/step - loss: 0.8639 - accuracy: 0.6492\n",
      "9/9 [==============================] - 0s 2ms/step - loss: 1.6092 - accuracy: 0.3670\n",
      "17/17 [==============================] - 0s 1ms/step - loss: 0.7528 - accuracy: 0.6867\n",
      "9/9 [==============================] - 0s 2ms/step - loss: 1.5242 - accuracy: 0.3947\n",
      "17/17 [==============================] - 0s 4ms/step - loss: 0.8331 - accuracy: 0.6742\n",
      "5/5 [==============================] - 0s 3ms/step - loss: 1.3027 - accuracy: 0.4082\n",
      "9/9 [==============================] - 0s 2ms/step - loss: 1.1321 - accuracy: 0.4784\n",
      "5/5 [==============================] - 0s 3ms/step - loss: 1.2740 - accuracy: 0.3895\n",
      "9/9 [==============================] - 0s 2ms/step - loss: 1.1114 - accuracy: 0.5122\n",
      "5/5 [==============================] - 0s 2ms/step - loss: 1.3288 - accuracy: 0.4098\n",
      "9/9 [==============================] - 0s 1ms/step - loss: 1.1302 - accuracy: 0.4925\n",
      "5/5 [==============================] - 0s 2ms/step - loss: 1.3188 - accuracy: 0.3970\n",
      "9/9 [==============================] - 0s 1ms/step - loss: 1.0538 - accuracy: 0.5553\n",
      "5/5 [==============================] - 0s 2ms/step - loss: 1.3364 - accuracy: 0.3783\n",
      "9/9 [==============================] - 0s 1ms/step - loss: 1.0248 - accuracy: 0.5422\n",
      "5/5 [==============================] - 0s 2ms/step - loss: 1.3373 - accuracy: 0.3985\n",
      "9/9 [==============================] - 0s 1ms/step - loss: 1.0587 - accuracy: 0.5225\n",
      "5/5 [==============================] - 0s 2ms/step - loss: 1.4433 - accuracy: 0.4082\n",
      "9/9 [==============================] - 0s 2ms/step - loss: 0.9326 - accuracy: 0.6135\n",
      "5/5 [==============================] - 0s 2ms/step - loss: 1.4760 - accuracy: 0.3708\n",
      "9/9 [==============================] - 0s 2ms/step - loss: 0.9077 - accuracy: 0.6098\n",
      "5/5 [==============================] - 0s 2ms/step - loss: 1.4380 - accuracy: 0.3459\n",
      "9/9 [==============================] - 0s 1ms/step - loss: 0.9247 - accuracy: 0.5993\n",
      "17/17 [==============================] - 0s 1ms/step - loss: 1.2681 - accuracy: 0.3858\n",
      "34/34 [==============================] - 0s 915us/step - loss: 1.2068 - accuracy: 0.4428\n",
      "17/17 [==============================] - 0s 1ms/step - loss: 1.2341 - accuracy: 0.4307\n",
      "34/34 [==============================] - 0s 887us/step - loss: 1.2191 - accuracy: 0.4296\n",
      "17/17 [==============================] - 0s 1ms/step - loss: 1.2870 - accuracy: 0.3872\n",
      "34/34 [==============================] - 0s 992us/step - loss: 1.2006 - accuracy: 0.4363\n",
      "17/17 [==============================] - 0s 989us/step - loss: 1.2731 - accuracy: 0.4120\n",
      "34/34 [==============================] - 0s 908us/step - loss: 1.1902 - accuracy: 0.4371\n",
      "17/17 [==============================] - 0s 1ms/step - loss: 1.2461 - accuracy: 0.4232\n",
      "34/34 [==============================] - 0s 977us/step - loss: 1.1958 - accuracy: 0.4540\n",
      "17/17 [==============================] - 0s 1ms/step - loss: 1.2952 - accuracy: 0.4023\n",
      "34/34 [==============================] - 0s 1ms/step - loss: 1.1872 - accuracy: 0.4494\n",
      "17/17 [==============================] - 0s 1ms/step - loss: 1.2905 - accuracy: 0.3933\n",
      "34/34 [==============================] - 0s 1ms/step - loss: 1.1420 - accuracy: 0.4784\n",
      "17/17 [==============================] - 0s 1ms/step - loss: 1.2602 - accuracy: 0.4007\n",
      "34/34 [==============================] - 0s 1ms/step - loss: 1.1499 - accuracy: 0.4841\n",
      "17/17 [==============================] - 0s 1ms/step - loss: 1.2999 - accuracy: 0.4060\n",
      "34/34 [==============================] - 0s 1ms/step - loss: 1.1349 - accuracy: 0.4757\n",
      "9/9 [==============================] - 0s 1ms/step - loss: 1.2625 - accuracy: 0.4007\n",
      "17/17 [==============================] - 0s 996us/step - loss: 1.2196 - accuracy: 0.4221\n",
      "9/9 [==============================] - 0s 1ms/step - loss: 1.2445 - accuracy: 0.3970\n",
      "17/17 [==============================] - 0s 1ms/step - loss: 1.2375 - accuracy: 0.4165\n",
      "9/9 [==============================] - 0s 1ms/step - loss: 1.2819 - accuracy: 0.3872\n",
      "17/17 [==============================] - 0s 1ms/step - loss: 1.2164 - accuracy: 0.4288\n",
      "9/9 [==============================] - 0s 1ms/step - loss: 1.2699 - accuracy: 0.3970\n",
      "17/17 [==============================] - 0s 1ms/step - loss: 1.1993 - accuracy: 0.4465\n",
      "9/9 [==============================] - 0s 1ms/step - loss: 1.2444 - accuracy: 0.4232\n",
      "17/17 [==============================] - 0s 1ms/step - loss: 1.2070 - accuracy: 0.4447\n",
      "9/9 [==============================] - 0s 1ms/step - loss: 1.2863 - accuracy: 0.4060\n",
      "17/17 [==============================] - 0s 1ms/step - loss: 1.1908 - accuracy: 0.4551\n",
      "9/9 [==============================] - 0s 2ms/step - loss: 1.2880 - accuracy: 0.3895\n",
      "17/17 [==============================] - 0s 2ms/step - loss: 1.1688 - accuracy: 0.4690\n",
      "9/9 [==============================] - 0s 1ms/step - loss: 1.2541 - accuracy: 0.4045\n",
      "17/17 [==============================] - 0s 1ms/step - loss: 1.1826 - accuracy: 0.4634\n",
      "9/9 [==============================] - 0s 2ms/step - loss: 1.3006 - accuracy: 0.4060\n",
      "17/17 [==============================] - 0s 1ms/step - loss: 1.1629 - accuracy: 0.4588\n",
      "5/5 [==============================] - 0s 2ms/step - loss: 1.2807 - accuracy: 0.4082\n",
      "9/9 [==============================] - 0s 2ms/step - loss: 1.2397 - accuracy: 0.4203\n",
      "5/5 [==============================] - 0s 2ms/step - loss: 1.2503 - accuracy: 0.3895\n",
      "9/9 [==============================] - 0s 2ms/step - loss: 1.2524 - accuracy: 0.4034\n",
      "5/5 [==============================] - 0s 2ms/step - loss: 1.2985 - accuracy: 0.3872\n",
      "9/9 [==============================] - 0s 1ms/step - loss: 1.2399 - accuracy: 0.4438\n",
      "5/5 [==============================] - 0s 2ms/step - loss: 1.2736 - accuracy: 0.4082\n",
      "9/9 [==============================] - 0s 1ms/step - loss: 1.2129 - accuracy: 0.4259\n",
      "5/5 [==============================] - 0s 2ms/step - loss: 1.2514 - accuracy: 0.4007\n",
      "9/9 [==============================] - 0s 2ms/step - loss: 1.2290 - accuracy: 0.4259\n",
      "5/5 [==============================] - 0s 2ms/step - loss: 1.2866 - accuracy: 0.3759\n",
      "9/9 [==============================] - 0s 1ms/step - loss: 1.2065 - accuracy: 0.4251\n",
      "5/5 [==============================] - 0s 3ms/step - loss: 1.2705 - accuracy: 0.3895\n",
      "9/9 [==============================] - 0s 1ms/step - loss: 1.1895 - accuracy: 0.4522\n",
      "5/5 [==============================] - 0s 2ms/step - loss: 1.2438 - accuracy: 0.4157\n",
      "9/9 [==============================] - 0s 1ms/step - loss: 1.2021 - accuracy: 0.4447\n",
      "5/5 [==============================] - 0s 2ms/step - loss: 1.2906 - accuracy: 0.4323\n",
      "9/9 [==============================] - 0s 2ms/step - loss: 1.1766 - accuracy: 0.4494\n"
     ]
    },
    {
     "data": {
      "text/plain": [
       "GridSearchCV(cv=3,\n",
       "             estimator=<tensorflow.python.keras.wrappers.scikit_learn.KerasClassifier object at 0x7fb6e27293a0>,\n",
       "             param_grid={'activ_entr': ['relu', 'selu', 'tanh'],\n",
       "                         'activ_hid': ['relu', 'sigmoid'],\n",
       "                         'activ_sal': ['softmax'], 'batch_size': [16, 32, 64],\n",
       "                         'capas': [3], 'epochs': [25, 50, 100],\n",
       "                         'neuronas': [32], 'optimiser_mio': ['adam']},\n",
       "             return_train_score=True, verbose=1)"
      ]
     },
     "execution_count": 125,
     "metadata": {},
     "output_type": "execute_result"
    }
   ],
   "source": [
    "# Creo un objeto de tipo KerasClassifier y lo meto como parámetro para crear un objeto tipo GridSearchCV\n",
    "# Lo hago con refit al final, por defecto es True, para que lo entrene con todo el train y ver score con el test\n",
    "model_wrapper = KerasClassifier(build_fn=crea_red_Lcapas)\n",
    "grid = GridSearchCV(model_wrapper, parametros, cv=5,verbose=1, return_train_score=True)\n",
    "\n",
    "# Hago el fit del ultimo tipo de objeto que supongo llamará al fit de los anteriores\n",
    "grid.fit(X_train, y_train, verbose=0)"
   ]
  },
  {
   "cell_type": "code",
   "execution_count": 90,
   "metadata": {},
   "outputs": [
    {
     "data": {
      "text/html": [
       "<div>\n",
       "<style scoped>\n",
       "    .dataframe tbody tr th:only-of-type {\n",
       "        vertical-align: middle;\n",
       "    }\n",
       "\n",
       "    .dataframe tbody tr th {\n",
       "        vertical-align: top;\n",
       "    }\n",
       "\n",
       "    .dataframe thead th {\n",
       "        text-align: right;\n",
       "    }\n",
       "</style>\n",
       "<table border=\"1\" class=\"dataframe\">\n",
       "  <thead>\n",
       "    <tr style=\"text-align: right;\">\n",
       "      <th></th>\n",
       "      <th>param_activ_entr</th>\n",
       "      <th>param_activ_hid</th>\n",
       "      <th>param_batch_size</th>\n",
       "      <th>param_epochs</th>\n",
       "      <th>mean_test_score</th>\n",
       "      <th>mean_train_score</th>\n",
       "      <th>rank_test_score</th>\n",
       "    </tr>\n",
       "  </thead>\n",
       "  <tbody>\n",
       "    <tr>\n",
       "      <th>10</th>\n",
       "      <td>relu</td>\n",
       "      <td>sigmoid</td>\n",
       "      <td>16</td>\n",
       "      <td>50</td>\n",
       "      <td>0.402495</td>\n",
       "      <td>0.475624</td>\n",
       "      <td>1</td>\n",
       "    </tr>\n",
       "    <tr>\n",
       "      <th>48</th>\n",
       "      <td>tanh</td>\n",
       "      <td>sigmoid</td>\n",
       "      <td>32</td>\n",
       "      <td>25</td>\n",
       "      <td>0.394990</td>\n",
       "      <td>0.431250</td>\n",
       "      <td>2</td>\n",
       "    </tr>\n",
       "    <tr>\n",
       "      <th>17</th>\n",
       "      <td>relu</td>\n",
       "      <td>sigmoid</td>\n",
       "      <td>64</td>\n",
       "      <td>100</td>\n",
       "      <td>0.394981</td>\n",
       "      <td>0.491254</td>\n",
       "      <td>3</td>\n",
       "    </tr>\n",
       "    <tr>\n",
       "      <th>9</th>\n",
       "      <td>relu</td>\n",
       "      <td>sigmoid</td>\n",
       "      <td>16</td>\n",
       "      <td>25</td>\n",
       "      <td>0.392465</td>\n",
       "      <td>0.450632</td>\n",
       "      <td>4</td>\n",
       "    </tr>\n",
       "    <tr>\n",
       "      <th>15</th>\n",
       "      <td>relu</td>\n",
       "      <td>sigmoid</td>\n",
       "      <td>64</td>\n",
       "      <td>25</td>\n",
       "      <td>0.391203</td>\n",
       "      <td>0.436248</td>\n",
       "      <td>5</td>\n",
       "    </tr>\n",
       "  </tbody>\n",
       "</table>\n",
       "</div>"
      ],
      "text/plain": [
       "   param_activ_entr param_activ_hid param_batch_size param_epochs  \\\n",
       "10             relu         sigmoid               16           50   \n",
       "48             tanh         sigmoid               32           25   \n",
       "17             relu         sigmoid               64          100   \n",
       "9              relu         sigmoid               16           25   \n",
       "15             relu         sigmoid               64           25   \n",
       "\n",
       "    mean_test_score  mean_train_score  rank_test_score  \n",
       "10         0.402495          0.475624                1  \n",
       "48         0.394990          0.431250                2  \n",
       "17         0.394981          0.491254                3  \n",
       "9          0.392465          0.450632                4  \n",
       "15         0.391203          0.436248                5  "
      ]
     },
     "execution_count": 90,
     "metadata": {},
     "output_type": "execute_result"
    }
   ],
   "source": [
    "# Presento los resultados\n",
    "d = pd.DataFrame(grid.cv_results_)\n",
    "#d\n",
    "d[['param_activ_entr','param_activ_hid','param_batch_size','param_epochs',\n",
    "   'mean_test_score','mean_train_score','rank_test_score']].sort_values('rank_test_score').head()"
   ]
  },
  {
   "cell_type": "code",
   "execution_count": 119,
   "metadata": {},
   "outputs": [
    {
     "name": "stdout",
     "output_type": "stream",
     "text": [
      "{'activ_entr': 'relu', 'activ_hid': 'sigmoid', 'activ_sal': 'softmax', 'batch_size': 16, 'capas': 5, 'epochs': 50, 'neuronas': 64, 'optimiser_mio': 'adam'}\n",
      "0.40249499678611755\n",
      "\n",
      "Precisión de entrenamiento:  0.46\n",
      "Precisión de test:  0.365\n"
     ]
    },
    {
     "name": "stderr",
     "output_type": "stream",
     "text": [
      "/Users/robertosanzgarcia/opt/anaconda3/lib/python3.8/site-packages/tensorflow/python/keras/engine/sequential.py:450: UserWarning: `model.predict_classes()` is deprecated and will be removed after 2021-01-01. Please use instead:* `np.argmax(model.predict(x), axis=-1)`,   if your model does multi-class classification   (e.g. if it uses a `softmax` last-layer activation).* `(model.predict(x) > 0.5).astype(\"int32\")`,   if your model does binary classification   (e.g. if it uses a `sigmoid` last-layer activation).\n",
      "  warnings.warn('`model.predict_classes()` is deprecated and '\n"
     ]
    }
   ],
   "source": [
    "# Estos resultados aunque los llaman test_score es con datos dentro del training data\n",
    "# Que son menos del total y puede que baje la precisión\n",
    "print(grid.best_params_)\n",
    "print(grid.best_score_)\n",
    "\n",
    "# Estos sin embargo ya son equivalentes \n",
    "# porque vuelvo a entrenar el modelo con los parámetros mejores y todo el train data y comparo con el test data\n",
    "# PERO EL CASO ES QUE DA BASTANTE PEOR !!!!\n",
    "\n",
    "dummy_ypred = grid.predict(X_train)\n",
    "dummy_yhat = grid.predict(X_test)\n",
    "print(\"\\nPrecisión de entrenamiento: \", accuracy_score(np.argmax(y_train, axis=1), dummy_ypred))\n",
    "print(\"Precisión de test: \", accuracy_score(np.argmax(y_test, axis=1), dummy_yhat))"
   ]
  },
  {
   "cell_type": "code",
   "execution_count": 128,
   "metadata": {},
   "outputs": [
    {
     "data": {
      "image/png": "[encoded data removed]",
      "text/plain": [
       "<Figure size 864x576 with 2 Axes>"
      ]
     },
     "metadata": {
      "needs_background": "light"
     },
     "output_type": "display_data"
    },
    {
     "name": "stdout",
     "output_type": "stream",
     "text": [
      "\n",
      "Precisión de entrenamiento:  0.47125\n",
      "Precisión de test:  0.43\n"
     ]
    }
   ],
   "source": [
    "##############################################\n",
    "#Hay conjuntos de parámetros claramente mejores. \n",
    "#Me parece peor el GridSearchCV que el que se hace a mano sin CV\n",
    "##############################################\n",
    "\n",
    "model = crea_entrena_red_Lcapas(capas=3,\n",
    "                        neuronas=32,\n",
    "                        activ_entr = 'relu',\n",
    "                        activ_hid = 'sigmoid',\n",
    "                        activ_sal = 'softmax',\n",
    "                        optimiser_mio = 'adam',\n",
    "                        epochs_ini=100, \n",
    "                        batch_ini=64)\n",
    "\n",
    "dummy_ypred = model.predict(X_train)\n",
    "dummy_yhat = model.predict(X_test)\n",
    "print(\"\\nPrecisión de entrenamiento: \", accuracy_score(np.argmax(y_train, axis=1), np.argmax(dummy_ypred, axis=1)))\n",
    "print(\"Precisión de test: \", accuracy_score(np.argmax(y_test, axis=1), np.argmax(dummy_yhat, axis=1)))\n",
    "\n",
    "# Cargar el modelo guardado que es el de mejor precisión, no el que me da la función que es el ultimo \n",
    "saved_model = load_model('best_model.h5')\n",
    "\n",
    "dummy_ypred = saved_model.predict(X_train)\n",
    "dummy_yhat = saved_model.predict(X_test)\n",
    "print(\"\\nPrecisión de entrenamiento del mejor (grabado): \", accuracy_score(np.argmax(y_train, axis=1), np.argmax(dummy_ypred, axis=1)))\n",
    "print(\"Precisión de test del mejor (grabado): \", accuracy_score(np.argmax(y_test, axis=1), np.argmax(dummy_yhat, axis=1)))"
   ]
  },
  {
   "cell_type": "markdown",
   "metadata": {},
   "source": [
    "<a name=\"id3\"></a>\n",
    "## 3. GRID SEARCH de hiperparámetros:  función sklearn RandomizedSearchCV (con K-fold CV)\n",
    "\n",
    "Prueba solo unas cuantas combinaciones\n",
    "\n",
    "Los mismos pasos:\n",
    "1. Uso la función definida para crear (no entrenar) la NN con los parámetros que quiero\n",
    "2. Defino los valores de los hiperparámetros: AHORA puedo especificar rangos de valores y que elija al azar\n",
    "3. Creo un modelo tipo KerasClassifier \n",
    "4. Creo objeto de la clase AHORA RandomizedSearchCV  \n",
    "5. Uso Metodo fit con él  \n",
    "\n",
    "Funcionamiento: Igual\n",
    "\n",
    "Evaluación final: Igual"
   ]
  },
  {
   "cell_type": "code",
   "execution_count": 89,
   "metadata": {},
   "outputs": [],
   "source": [
    "parametros_rand = {\n",
    "            'capas':range(1, 5, 2),\n",
    "            'neuronas':[8, 16, 32],\n",
    "            'activ_entr':['selu','tanh','relu'],\n",
    "            'activ_hid'   :['relu','sigmoid'],\n",
    "            'activ_sal'   :['softmax'],\n",
    "            'optimiser_mio'   :['adam'],\n",
    "            'epochs':[25, 50, 100],\n",
    "            'batch_size': [16, 32, 64]\n",
    "            }"
   ]
  },
  {
   "cell_type": "code",
   "execution_count": 90,
   "metadata": {},
   "outputs": [
    {
     "name": "stdout",
     "output_type": "stream",
     "text": [
      "Fitting 5 folds for each of 10 candidates, totalling 50 fits\n",
      "5/5 [==============================] - 0s 3ms/step - loss: 1.2651 - accuracy: 0.4437\n",
      "20/20 [==============================] - 0s 1ms/step - loss: 1.2000 - accuracy: 0.4469\n",
      "5/5 [==============================] - 0s 2ms/step - loss: 1.2418 - accuracy: 0.3688\n",
      "20/20 [==============================] - 0s 2ms/step - loss: 1.2028 - accuracy: 0.4469\n",
      "5/5 [==============================] - 0s 2ms/step - loss: 1.2646 - accuracy: 0.4125\n",
      "20/20 [==============================] - 0s 1ms/step - loss: 1.2021 - accuracy: 0.4453\n",
      "5/5 [==============================] - 0s 2ms/step - loss: 1.3037 - accuracy: 0.3750\n",
      "20/20 [==============================] - 0s 2ms/step - loss: 1.1764 - accuracy: 0.4437\n",
      "5/5 [==============================] - 0s 2ms/step - loss: 1.2652 - accuracy: 0.4125\n",
      "20/20 [==============================] - 0s 1ms/step - loss: 1.2075 - accuracy: 0.4422\n",
      "10/10 [==============================] - 0s 1ms/step - loss: 1.2644 - accuracy: 0.4187\n",
      "40/40 [==============================] - 0s 2ms/step - loss: 1.2246 - accuracy: 0.4172\n",
      "10/10 [==============================] - 0s 1ms/step - loss: 1.2478 - accuracy: 0.3812\n",
      "40/40 [==============================] - 0s 1ms/step - loss: 1.2234 - accuracy: 0.4437\n",
      "10/10 [==============================] - 0s 1ms/step - loss: 1.2598 - accuracy: 0.3688\n",
      "40/40 [==============================] - 0s 1ms/step - loss: 1.2361 - accuracy: 0.4297\n",
      "10/10 [==============================] - 0s 1ms/step - loss: 1.3187 - accuracy: 0.3375\n",
      "40/40 [==============================] - 0s 2ms/step - loss: 1.2131 - accuracy: 0.4313\n",
      "10/10 [==============================] - 0s 1ms/step - loss: 1.2642 - accuracy: 0.3875\n",
      "40/40 [==============================] - 0s 1ms/step - loss: 1.2332 - accuracy: 0.4406\n",
      "5/5 [==============================] - 0s 2ms/step - loss: 1.2961 - accuracy: 0.4125\n",
      "20/20 [==============================] - 0s 1ms/step - loss: 1.0913 - accuracy: 0.5078\n",
      "5/5 [==============================] - 0s 2ms/step - loss: 1.2461 - accuracy: 0.4062\n",
      "20/20 [==============================] - 0s 2ms/step - loss: 1.1144 - accuracy: 0.4969\n",
      "5/5 [==============================] - 0s 2ms/step - loss: 1.3187 - accuracy: 0.3875\n",
      "20/20 [==============================] - 0s 1ms/step - loss: 1.0824 - accuracy: 0.5500\n",
      "5/5 [==============================] - 0s 2ms/step - loss: 1.3717 - accuracy: 0.3438\n",
      "20/20 [==============================] - 0s 2ms/step - loss: 1.0828 - accuracy: 0.4938\n",
      "5/5 [==============================] - 0s 2ms/step - loss: 1.2667 - accuracy: 0.4250\n",
      "20/20 [==============================] - 0s 2ms/step - loss: 1.1242 - accuracy: 0.4891\n",
      "10/10 [==============================] - 0s 1ms/step - loss: 1.3130 - accuracy: 0.3625\n",
      "40/40 [==============================] - 0s 1ms/step - loss: 1.2087 - accuracy: 0.4281\n",
      "10/10 [==============================] - 0s 2ms/step - loss: 1.2335 - accuracy: 0.3938\n",
      "40/40 [==============================] - 0s 1ms/step - loss: 1.2271 - accuracy: 0.4406\n",
      "10/10 [==============================] - 0s 1ms/step - loss: 1.2803 - accuracy: 0.3750\n",
      "40/40 [==============================] - 0s 2ms/step - loss: 1.2044 - accuracy: 0.4516\n",
      "10/10 [==============================] - 0s 1ms/step - loss: 1.3758 - accuracy: 0.3000\n",
      "40/40 [==============================] - 0s 2ms/step - loss: 1.2215 - accuracy: 0.4547\n",
      "10/10 [==============================] - 0s 1ms/step - loss: 1.2911 - accuracy: 0.3688\n",
      "40/40 [==============================] - 0s 1ms/step - loss: 1.2440 - accuracy: 0.4266\n",
      "5/5 [==============================] - 0s 4ms/step - loss: 1.2961 - accuracy: 0.4500\n",
      "20/20 [==============================] - 0s 1ms/step - loss: 1.2923 - accuracy: 0.4031\n",
      "5/5 [==============================] - 0s 2ms/step - loss: 1.2439 - accuracy: 0.4000\n",
      "20/20 [==============================] - 0s 1ms/step - loss: 1.2431 - accuracy: 0.4078\n",
      "5/5 [==============================] - 0s 2ms/step - loss: 1.2653 - accuracy: 0.4062\n",
      "20/20 [==============================] - 0s 1ms/step - loss: 1.2570 - accuracy: 0.4125\n",
      "5/5 [==============================] - 0s 2ms/step - loss: 1.3275 - accuracy: 0.3250\n",
      "20/20 [==============================] - 0s 2ms/step - loss: 1.2196 - accuracy: 0.4344\n",
      "5/5 [==============================] - 0s 2ms/step - loss: 1.3026 - accuracy: 0.3562\n",
      "20/20 [==============================] - 0s 2ms/step - loss: 1.2494 - accuracy: 0.4266\n",
      "5/5 [==============================] - 0s 2ms/step - loss: 1.2542 - accuracy: 0.4375\n",
      "20/20 [==============================] - 0s 1ms/step - loss: 1.2427 - accuracy: 0.4109\n",
      "5/5 [==============================] - 0s 2ms/step - loss: 1.2427 - accuracy: 0.4000\n",
      "20/20 [==============================] - 0s 2ms/step - loss: 1.2434 - accuracy: 0.4141\n",
      "5/5 [==============================] - 0s 2ms/step - loss: 1.2675 - accuracy: 0.3688\n",
      "20/20 [==============================] - 0s 2ms/step - loss: 1.2439 - accuracy: 0.4422\n",
      "5/5 [==============================] - 0s 2ms/step - loss: 1.3227 - accuracy: 0.3625\n",
      "20/20 [==============================] - 0s 2ms/step - loss: 1.2382 - accuracy: 0.4187\n",
      "5/5 [==============================] - 0s 2ms/step - loss: 1.3051 - accuracy: 0.3562\n",
      "20/20 [==============================] - 0s 2ms/step - loss: 1.2659 - accuracy: 0.4125\n",
      "10/10 [==============================] - 0s 1ms/step - loss: 1.2706 - accuracy: 0.4500\n",
      "40/40 [==============================] - 0s 1ms/step - loss: 1.2150 - accuracy: 0.4203\n",
      "10/10 [==============================] - 0s 1ms/step - loss: 1.2664 - accuracy: 0.3562\n",
      "40/40 [==============================] - 0s 953us/step - loss: 1.1979 - accuracy: 0.4500\n",
      "10/10 [==============================] - 0s 1ms/step - loss: 1.2690 - accuracy: 0.3812\n",
      "40/40 [==============================] - 0s 1ms/step - loss: 1.2308 - accuracy: 0.4437\n",
      "10/10 [==============================] - 0s 1ms/step - loss: 1.3373 - accuracy: 0.3688\n",
      "40/40 [==============================] - 0s 2ms/step - loss: 1.1980 - accuracy: 0.4406\n",
      "10/10 [==============================] - 0s 1ms/step - loss: 1.2743 - accuracy: 0.3875\n",
      "40/40 [==============================] - 0s 2ms/step - loss: 1.2150 - accuracy: 0.4516\n",
      "5/5 [==============================] - 0s 2ms/step - loss: 1.2611 - accuracy: 0.4313\n",
      "20/20 [==============================] - 0s 2ms/step - loss: 1.2126 - accuracy: 0.4234\n",
      "5/5 [==============================] - 0s 2ms/step - loss: 1.2346 - accuracy: 0.3875\n",
      "20/20 [==============================] - 0s 2ms/step - loss: 1.1965 - accuracy: 0.4531\n",
      "5/5 [==============================] - 0s 2ms/step - loss: 1.2765 - accuracy: 0.3875\n",
      "20/20 [==============================] - 0s 1ms/step - loss: 1.1918 - accuracy: 0.4500\n",
      "5/5 [==============================] - 0s 2ms/step - loss: 1.3306 - accuracy: 0.3250\n",
      "20/20 [==============================] - 0s 2ms/step - loss: 1.1895 - accuracy: 0.4484\n",
      "5/5 [==============================] - 0s 2ms/step - loss: 1.2668 - accuracy: 0.4062\n",
      "20/20 [==============================] - 0s 2ms/step - loss: 1.2065 - accuracy: 0.4500\n",
      "3/3 [==============================] - 0s 5ms/step - loss: 1.3264 - accuracy: 0.3625\n",
      "10/10 [==============================] - 0s 2ms/step - loss: 1.0500 - accuracy: 0.5359\n",
      "3/3 [==============================] - 0s 2ms/step - loss: 1.2941 - accuracy: 0.4000\n",
      "10/10 [==============================] - 0s 2ms/step - loss: 1.0550 - accuracy: 0.5250\n",
      "3/3 [==============================] - 0s 2ms/step - loss: 1.4318 - accuracy: 0.3375\n",
      "10/10 [==============================] - 0s 2ms/step - loss: 1.0192 - accuracy: 0.5578\n",
      "3/3 [==============================] - 0s 2ms/step - loss: 1.4416 - accuracy: 0.3000\n",
      "10/10 [==============================] - 0s 2ms/step - loss: 1.0314 - accuracy: 0.5672\n",
      "3/3 [==============================] - 0s 2ms/step - loss: 1.2653 - accuracy: 0.4313\n",
      "10/10 [==============================] - 0s 2ms/step - loss: 1.0528 - accuracy: 0.5422\n",
      "3/3 [==============================] - 0s 2ms/step - loss: 1.2762 - accuracy: 0.3875\n",
      "10/10 [==============================] - 0s 2ms/step - loss: 1.2692 - accuracy: 0.3828\n",
      "3/3 [==============================] - 0s 2ms/step - loss: 1.3019 - accuracy: 0.3938\n",
      "10/10 [==============================] - 0s 2ms/step - loss: 1.2799 - accuracy: 0.4031\n",
      "3/3 [==============================] - 0s 2ms/step - loss: 1.2951 - accuracy: 0.3250\n",
      "10/10 [==============================] - 0s 2ms/step - loss: 1.3007 - accuracy: 0.3984\n",
      "3/3 [==============================] - 0s 2ms/step - loss: 1.3209 - accuracy: 0.3875\n",
      "10/10 [==============================] - 0s 2ms/step - loss: 1.2644 - accuracy: 0.4000\n",
      "3/3 [==============================] - 0s 3ms/step - loss: 1.3963 - accuracy: 0.2875\n",
      "10/10 [==============================] - 0s 2ms/step - loss: 1.3493 - accuracy: 0.3672\n"
     ]
    },
    {
     "data": {
      "text/plain": [
       "RandomizedSearchCV(cv=5,\n",
       "                   estimator=<tensorflow.python.keras.wrappers.scikit_learn.KerasClassifier object at 0x7fb69bdcec10>,\n",
       "                   param_distributions={'activ_entr': ['selu', 'tanh', 'relu'],\n",
       "                                        'activ_hid': ['relu', 'sigmoid'],\n",
       "                                        'activ_sal': ['softmax'],\n",
       "                                        'batch_size': [16, 32, 64],\n",
       "                                        'capas': range(1, 5, 2),\n",
       "                                        'epochs': [25, 50, 100],\n",
       "                                        'neuronas': [8, 16, 32],\n",
       "                                        'optimiser_mio': ['adam']},\n",
       "                   return_train_score=True, verbose=1)"
      ]
     },
     "execution_count": 90,
     "metadata": {},
     "output_type": "execute_result"
    }
   ],
   "source": [
    "# Creo un objeto de tipo KerasClassifier y lo meto como parámetro para crear un objeto tipo GridSearchCV\n",
    "np.random.seed(42)\n",
    "model_wrapper = KerasClassifier(build_fn=crea_red_Lcapas)\n",
    "rand = RandomizedSearchCV(model_wrapper, parametros_rand, cv=5,verbose=1, return_train_score=True)\n",
    "\n",
    "# El n_iter más alto, más combinaciones de parámetros al azar, no mejora\n",
    "# El cv=3 a 5, más porcentaje de entrenamiento y menos evaluación SI mejora\n",
    "\n",
    "# Hago el fit del utlimo tipo de objeto que supongo llamará al fit de los anteriores\n",
    "rand.fit(X_train, y_train, verbose=0)"
   ]
  },
  {
   "cell_type": "code",
   "execution_count": 91,
   "metadata": {},
   "outputs": [
    {
     "data": {
      "text/html": [
       "<div>\n",
       "<style scoped>\n",
       "    .dataframe tbody tr th:only-of-type {\n",
       "        vertical-align: middle;\n",
       "    }\n",
       "\n",
       "    .dataframe tbody tr th {\n",
       "        vertical-align: top;\n",
       "    }\n",
       "\n",
       "    .dataframe thead th {\n",
       "        text-align: right;\n",
       "    }\n",
       "</style>\n",
       "<table border=\"1\" class=\"dataframe\">\n",
       "  <thead>\n",
       "    <tr style=\"text-align: right;\">\n",
       "      <th></th>\n",
       "      <th>param_capas</th>\n",
       "      <th>param_neuronas</th>\n",
       "      <th>param_epochs</th>\n",
       "      <th>param_batch_size</th>\n",
       "      <th>param_activ_entr</th>\n",
       "      <th>param_activ_hid</th>\n",
       "      <th>mean_test_score</th>\n",
       "      <th>mean_train_score</th>\n",
       "      <th>rank_test_score</th>\n",
       "    </tr>\n",
       "  </thead>\n",
       "  <tbody>\n",
       "    <tr>\n",
       "      <th>0</th>\n",
       "      <td>1</td>\n",
       "      <td>8</td>\n",
       "      <td>100</td>\n",
       "      <td>32</td>\n",
       "      <td>tanh</td>\n",
       "      <td>relu</td>\n",
       "      <td>0.40250</td>\n",
       "      <td>0.445000</td>\n",
       "      <td>1</td>\n",
       "    </tr>\n",
       "    <tr>\n",
       "      <th>2</th>\n",
       "      <td>3</td>\n",
       "      <td>32</td>\n",
       "      <td>25</td>\n",
       "      <td>32</td>\n",
       "      <td>tanh</td>\n",
       "      <td>relu</td>\n",
       "      <td>0.39500</td>\n",
       "      <td>0.507500</td>\n",
       "      <td>2</td>\n",
       "    </tr>\n",
       "    <tr>\n",
       "      <th>6</th>\n",
       "      <td>1</td>\n",
       "      <td>8</td>\n",
       "      <td>50</td>\n",
       "      <td>16</td>\n",
       "      <td>relu</td>\n",
       "      <td>relu</td>\n",
       "      <td>0.38875</td>\n",
       "      <td>0.441250</td>\n",
       "      <td>3</td>\n",
       "    </tr>\n",
       "    <tr>\n",
       "      <th>4</th>\n",
       "      <td>1</td>\n",
       "      <td>8</td>\n",
       "      <td>25</td>\n",
       "      <td>32</td>\n",
       "      <td>tanh</td>\n",
       "      <td>sigmoid</td>\n",
       "      <td>0.38750</td>\n",
       "      <td>0.416875</td>\n",
       "      <td>4</td>\n",
       "    </tr>\n",
       "    <tr>\n",
       "      <th>7</th>\n",
       "      <td>3</td>\n",
       "      <td>16</td>\n",
       "      <td>100</td>\n",
       "      <td>32</td>\n",
       "      <td>tanh</td>\n",
       "      <td>sigmoid</td>\n",
       "      <td>0.38750</td>\n",
       "      <td>0.445000</td>\n",
       "      <td>4</td>\n",
       "    </tr>\n",
       "  </tbody>\n",
       "</table>\n",
       "</div>"
      ],
      "text/plain": [
       "  param_capas param_neuronas param_epochs param_batch_size param_activ_entr  \\\n",
       "0           1              8          100               32             tanh   \n",
       "2           3             32           25               32             tanh   \n",
       "6           1              8           50               16             relu   \n",
       "4           1              8           25               32             tanh   \n",
       "7           3             16          100               32             tanh   \n",
       "\n",
       "  param_activ_hid  mean_test_score  mean_train_score  rank_test_score  \n",
       "0            relu          0.40250          0.445000                1  \n",
       "2            relu          0.39500          0.507500                2  \n",
       "6            relu          0.38875          0.441250                3  \n",
       "4         sigmoid          0.38750          0.416875                4  \n",
       "7         sigmoid          0.38750          0.445000                4  "
      ]
     },
     "execution_count": 91,
     "metadata": {},
     "output_type": "execute_result"
    }
   ],
   "source": [
    "# Presento los resultados\n",
    "r = pd.DataFrame(rand.cv_results_)\n",
    "#r\n",
    "r[['param_capas','param_neuronas','param_epochs','param_batch_size','param_activ_entr','param_activ_hid',\n",
    "   'mean_test_score','mean_train_score','rank_test_score']].sort_values('rank_test_score').head()"
   ]
  },
  {
   "cell_type": "code",
   "execution_count": 92,
   "metadata": {},
   "outputs": [
    {
     "name": "stdout",
     "output_type": "stream",
     "text": [
      "{'optimiser_mio': 'adam', 'neuronas': 8, 'epochs': 100, 'capas': 1, 'batch_size': 32, 'activ_sal': 'softmax', 'activ_hid': 'relu', 'activ_entr': 'tanh'}\n",
      "0.40249999761581423\n"
     ]
    },
    {
     "name": "stderr",
     "output_type": "stream",
     "text": [
      "/Users/robertosanzgarcia/opt/anaconda3/lib/python3.8/site-packages/tensorflow/python/keras/engine/sequential.py:450: UserWarning: `model.predict_classes()` is deprecated and will be removed after 2021-01-01. Please use instead:* `np.argmax(model.predict(x), axis=-1)`,   if your model does multi-class classification   (e.g. if it uses a `softmax` last-layer activation).* `(model.predict(x) > 0.5).astype(\"int32\")`,   if your model does binary classification   (e.g. if it uses a `sigmoid` last-layer activation).\n",
      "  warnings.warn('`model.predict_classes()` is deprecated and '\n"
     ]
    },
    {
     "name": "stdout",
     "output_type": "stream",
     "text": [
      "\n",
      "Precisión de entrenamiento:  0.43875\n",
      "Precisión de test:  0.425\n"
     ]
    }
   ],
   "source": [
    "# Estos resultados aunque los llaman test_score es con datos dentro del training data\n",
    "# Que son menos del total y puede que baje la precisión\n",
    "print(rand.best_params_)\n",
    "print(rand.best_score_)\n",
    "\n",
    "# Estos sin embargo ya son equivalentes \n",
    "\n",
    "dummy_ypred = rand.predict(X_train)\n",
    "dummy_yhat = rand.predict(X_test)\n",
    "print(\"\\nPrecisión de entrenamiento: \", accuracy_score(np.argmax(y_train, axis=1), dummy_ypred))\n",
    "print(\"Precisión de test: \", accuracy_score(np.argmax(y_test, axis=1), dummy_yhat))"
   ]
  },
  {
   "cell_type": "code",
   "execution_count": 97,
   "metadata": {},
   "outputs": [
    {
     "data": {
      "image/png": "[encoded data removed]",
      "text/plain": [
       "<Figure size 864x576 with 2 Axes>"
      ]
     },
     "metadata": {
      "needs_background": "light"
     },
     "output_type": "display_data"
    },
    {
     "name": "stdout",
     "output_type": "stream",
     "text": [
      "\n",
      "Precisión de entrenamiento:  0.43625\n",
      "Precisión de test:  0.445\n",
      "\n",
      "Precisión de entrenamiento del mejor (grabado):  0.44\n",
      "Precisión de test del mejor (grabado):  0.46\n"
     ]
    }
   ],
   "source": [
    "model = crea_entrena_red_Lcapas(capas=1,\n",
    "                        neuronas=8,\n",
    "                        activ_entr = 'tanh',\n",
    "                        activ_hid = 'relu',\n",
    "                        activ_sal = 'softmax',\n",
    "                        optimiser_mio = 'adam',\n",
    "                        epochs_ini=100, \n",
    "                        batch_ini=32)\n",
    "\n",
    "dummy_ypred = model.predict(X_train)\n",
    "dummy_yhat = model.predict(X_test)\n",
    "print(\"\\nPrecisión de entrenamiento: \", accuracy_score(np.argmax(y_train, axis=1), np.argmax(dummy_ypred, axis=1)))\n",
    "print(\"Precisión de test: \", accuracy_score(np.argmax(y_test, axis=1), np.argmax(dummy_yhat, axis=1)))\n",
    "\n",
    "# Cargar el modelo guardado que es el de mejor precisión, no el que me da la función que es el ultimo \n",
    "saved_model = load_model('best_model_rand.h5')\n",
    "\n",
    "dummy_ypred = saved_model.predict(X_train)\n",
    "dummy_yhat = saved_model.predict(X_test)\n",
    "print(\"\\nPrecisión de entrenamiento del mejor (grabado): \", accuracy_score(np.argmax(y_train, axis=1), np.argmax(dummy_ypred, axis=1)))\n",
    "print(\"Precisión de test del mejor (grabado): \", accuracy_score(np.argmax(y_test, axis=1), np.argmax(dummy_yhat, axis=1)))"
   ]
  },
  {
   "cell_type": "code",
   "execution_count": 98,
   "metadata": {},
   "outputs": [
    {
     "name": "stdout",
     "output_type": "stream",
     "text": [
      "Modelo de 3 capas 32 neuronas\n",
      "\n",
      "[[24  2 16  8]\n",
      " [ 7 15 10 11]\n",
      " [16  5 33  6]\n",
      " [11  6 10 20]]\n",
      "              precision    recall  f1-score   support\n",
      "\n",
      "           0       0.41      0.48      0.44        50\n",
      "           1       0.54      0.35      0.42        43\n",
      "           2       0.48      0.55      0.51        60\n",
      "           3       0.44      0.43      0.43        47\n",
      "\n",
      "    accuracy                           0.46       200\n",
      "   macro avg       0.47      0.45      0.45       200\n",
      "weighted avg       0.47      0.46      0.46       200\n",
      "\n"
     ]
    }
   ],
   "source": [
    "#Matriz del modelo\n",
    "print(\"Modelo de 3 capas 32 neuronas\\n\")\n",
    "print(confusion_matrix(np.argmax(y_test, axis=1), np.argmax(dummy_yhat, axis=1), labels=range(0,classes_nb)))\n",
    "print (classification_report(np.argmax(y_test, axis=1), np.argmax(dummy_yhat, axis=1)))\n"
   ]
  },
  {
   "cell_type": "markdown",
   "metadata": {},
   "source": [
    "<a name=\"id4\"></a>\n",
    "## 4. GRID SEARCH de hiperparámetros:  función de Keras RandomSearch (con K-fold CV)\n",
    "\n",
    "Prueba solo unas cuantas combinaciones al azar\n",
    "\n",
    "Problema: no se sabe cuales son los epochs y batch mejores \n",
    "\n",
    "Puede hacerse de 2 formas:\n",
    "1. Defino una CLASE de objeto hijo de HyperModel (hereda) con un método Build \n",
    "2. Defino una función Build y ya está \n",
    "\n",
    "Uso la 2ª que es más fácil. Proceso:\n",
    "1. Pongo los valores de los hiperparámetros dentro del método/función Build (var hp tipo hyperparameter)\n",
    "2. Creo objeto tipo RandomSearch y le paso la función Build como parámetro\n",
    "    (si uso el 1º le paso una instancia de mi nueva CLASE)\n",
    "3. Uso Metodo \"search\" con él  \n"
   ]
  },
  {
   "cell_type": "code",
   "execution_count": 102,
   "metadata": {},
   "outputs": [],
   "source": [
    "def build_model(hp):\n",
    "        \n",
    "        cap = hp.Int('capas', min_value=1, max_value=5, step=2)\n",
    "        neu = hp.Choice('neuronas', values=[8, 16, 32])\n",
    "        act_e = hp.Choice('activ_entr', values=['selu','tanh','relu'])\n",
    "        act_h = hp.Choice('activ_hid', values=['sigmoid','relu'])\n",
    "    \n",
    "        model = Sequential()\n",
    "        # Capa de entrada\n",
    "        model.add(Dense(units=neu,\n",
    "                        input_dim = X_train.shape[1], \n",
    "                        activation=act_e))\n",
    "        # Capas ocultas\n",
    "        for i in range(1,cap):\n",
    "            model.add(Dense(neu, activation=act_h))\n",
    "        # Capa de salida    \n",
    "        model.add(Dense(classes_nb, activation = 'softmax')) \n",
    "        model.compile(optimizer = 'adam', loss='categorical_crossentropy', metrics=['accuracy']) \n",
    "\n",
    "        return model"
   ]
  },
  {
   "cell_type": "code",
   "execution_count": 103,
   "metadata": {},
   "outputs": [
    {
     "name": "stdout",
     "output_type": "stream",
     "text": [
      "Trial 10 Complete [00h 00m 03s]\n",
      "val_accuracy: 0.36000001430511475\n",
      "\n",
      "Best val_accuracy So Far: 0.4300000071525574\n",
      "Total elapsed time: 00h 00m 37s\n",
      "INFO:tensorflow:Oracle triggered exit\n"
     ]
    }
   ],
   "source": [
    "tuner = RandomSearch(build_model,\n",
    "                     objective='val_accuracy',\n",
    "                     seed=42,\n",
    "                     max_trials=10,\n",
    "                     overwrite=True\n",
    "                     #executions_per_trial=EXECUTION_PER_TRIAL,\n",
    "                     #directory='random_search'\n",
    "                     )\n",
    "tuner.search(X_train, y_train, epochs=20, validation_data=(X_test, y_test))"
   ]
  },
  {
   "cell_type": "code",
   "execution_count": 104,
   "metadata": {
    "scrolled": true
   },
   "outputs": [
    {
     "name": "stdout",
     "output_type": "stream",
     "text": [
      "Results summary\n",
      "Results in ./untitled_project\n",
      "Showing 3 best trials\n",
      "Objective(name='val_accuracy', direction='max')\n",
      "Trial summary\n",
      "Hyperparameters:\n",
      "capas: 5\n",
      "neuronas: 16\n",
      "activ_entr: tanh\n",
      "activ_hid: relu\n",
      "Score: 0.4300000071525574\n",
      "Trial summary\n",
      "Hyperparameters:\n",
      "capas: 5\n",
      "neuronas: 16\n",
      "activ_entr: selu\n",
      "activ_hid: relu\n",
      "Score: 0.41999998688697815\n",
      "Trial summary\n",
      "Hyperparameters:\n",
      "capas: 1\n",
      "neuronas: 8\n",
      "activ_entr: relu\n",
      "activ_hid: sigmoid\n",
      "Score: 0.4050000011920929\n"
     ]
    }
   ],
   "source": [
    "#m = tuner.get_best_models(num_models=1)\n",
    "#tuner.search_space_summary()\n",
    "tuner.results_summary(3)"
   ]
  },
  {
   "cell_type": "code",
   "execution_count": 105,
   "metadata": {},
   "outputs": [
    {
     "name": "stdout",
     "output_type": "stream",
     "text": [
      "\bnPrecisión de entrenamiento:  0.44375\n",
      "Precisión de test:  0.43\n"
     ]
    }
   ],
   "source": [
    "m = tuner.get_best_models(num_models=1)\n",
    "dummy_ypred = m[0].predict(X_train)\n",
    "dummy_yhat = m[0].predict(X_test)\n",
    "print(\"\\bnPrecisión de entrenamiento: \", accuracy_score(np.argmax(y_train, axis=1), np.argmax(dummy_ypred, axis=1)))\n",
    "print(\"Precisión de test: \", accuracy_score(np.argmax(y_test, axis=1), np.argmax(dummy_yhat, axis=1)))"
   ]
  },
  {
   "cell_type": "code",
   "execution_count": 108,
   "metadata": {},
   "outputs": [
    {
     "data": {
      "image/png": "[encoded data removed]",
      "text/plain": [
       "<Figure size 864x576 with 2 Axes>"
      ]
     },
     "metadata": {
      "needs_background": "light"
     },
     "output_type": "display_data"
    },
    {
     "name": "stdout",
     "output_type": "stream",
     "text": [
      "Epoch 00031: early stopping\n",
      "\n",
      "Precisión de entrenamiento:  0.4925\n",
      "Precisión de test:  0.39\n",
      "\n",
      "Precisión de entrenamiento del mejor (grabado):  0.47875\n",
      "Precisión de test del mejor (grabado):  0.425\n"
     ]
    }
   ],
   "source": [
    "# No sé qué epochs y batch ha usado para obtener el mejor modelo\n",
    "# Debo volver a optimizarlo o averiguarlo\n",
    "# Aqui con estos valores parece que sale bastante cerca del resultado del \"buscador\"\n",
    "model = crea_entrena_red_Lcapas(capas=5,\n",
    "                        neuronas=16,\n",
    "                        activ_entr = 'tanh',\n",
    "                        activ_hid = 'relu',\n",
    "                        activ_sal = 'softmax',\n",
    "                        optimiser_mio = 'adam',\n",
    "                        epochs_ini=100, \n",
    "                        batch_ini=32)\n",
    "\n",
    "dummy_ypred = model.predict(X_train)\n",
    "dummy_yhat = model.predict(X_test)\n",
    "print(\"\\nPrecisión de entrenamiento: \", accuracy_score(np.argmax(y_train, axis=1), np.argmax(dummy_ypred, axis=1)))\n",
    "print(\"Precisión de test: \", accuracy_score(np.argmax(y_test, axis=1), np.argmax(dummy_yhat, axis=1)))\n",
    "\n",
    "# Cargar el modelo guardado que es el de mejor precisión, no el que me da la función que es el ultimo \n",
    "saved_model = load_model('best_model_rand2.h5')\n",
    "\n",
    "dummy_ypred = saved_model.predict(X_train)\n",
    "dummy_yhat = saved_model.predict(X_test)\n",
    "print(\"\\nPrecisión de entrenamiento del mejor (grabado): \", accuracy_score(np.argmax(y_train, axis=1), np.argmax(dummy_ypred, axis=1)))\n",
    "print(\"Precisión de test del mejor (grabado): \", accuracy_score(np.argmax(y_test, axis=1), np.argmax(dummy_yhat, axis=1)))"
   ]
  },
  {
   "cell_type": "code",
   "execution_count": 109,
   "metadata": {},
   "outputs": [],
   "source": [
    "################   Esta es la segunda forma de haccerlo   #####################\n",
    "# class MyHypermodelNN (HyperModel):\n",
    "    \n",
    "#     def __init__(self, input_shape, num_classes):\n",
    "#         self.num_classes = num_classes\n",
    "#         self.input_shape = input_shape\n",
    "        \n",
    "#     def build(self, hp2):\n",
    "        \n",
    "#         model = Sequential()\n",
    "\n",
    "#         # Capa de entrada\n",
    "#         model.add(Dense(hp2.Choice('neuronas', values=[8, 32, 64]),\n",
    "#                         input_dim = self.input_shape, \n",
    "#                         activation = hp2.Choice('activ_entr', values=['selu','sigmoid','relu'])\n",
    "#                        ))\n",
    "#         # Capas ocultas\n",
    "#         for i in range(1,hp2.Int('capas', min_value=1, max_value=5, step=1)):\n",
    "#             model.add(Dense(hp2.Choice('neuronas', values=[8, 32, 64]),\n",
    "#                             activation = hp2.Choice('activ_hid', values=['sigmoid','relu'])))\n",
    "#         # Capa de salida    \n",
    "#         model.add(Dense(self.num_classes, activation = 'softmax')) \n",
    "#         model.compile(optimizer = 'adam', loss='categorical_crossentropy', metrics=['accuracy']) \n",
    "        \n",
    "#         return model\n",
    "\n",
    "## Override los parámetros que hay dentro del método\n",
    "#hp = HyperParameters()\n",
    "\n",
    "# hp.Int('capas', min_value=1, max_value=5, step=1)\n",
    "# hp.Choice('neuronas', values=[8, 32, 64])\n",
    "# hp.Choice('activ_entr', values=['selu','tanh','relu'])\n",
    "# hp.Choice('activ_hid', values=['sigmoid','relu'])\n",
    "# hp.Choice('activ_sal', values=['softmax'])\n",
    "# hp.Choice('optimiser_mio', values=['adam'])\n",
    "\n",
    "# hp.Choice('epochs', values=[25, 50, 100, 200])\n",
    "# hp.Int('batch_size',\n",
    "#        min_value=16,\n",
    "#        max_value=256,\n",
    "#        step=32)\n",
    "\n",
    "\n",
    "# hm = MyHypermodelNN(X_train.shape[1], classes_nb)\n",
    "# tuner = RandomSearch(hm,\n",
    "#                      objective='val_accuracy',\n",
    "#                      seed=42,\n",
    "#                      max_trials=10,\n",
    "#                      directory='random_search',\n",
    "#                      project_name='con clase nueva')\n",
    "\n",
    "# tuner.search(X_train, y_train, epochs=20, validation_data=(X_test, y_test))"
   ]
  },
  {
   "cell_type": "markdown",
   "metadata": {},
   "source": [
    "<a name=\"id5\"></a>\n",
    "## 5. GRID SEARCH de hiperparámetros:  función de Keras Hyperband (con K-fold CV ??)\n",
    "\n",
    "Prueba solo unas cuantas combinaciones y por competición va seleccionando\n",
    "\n",
    "Problema: no se sabe cual es el mejor batch. El epoch lo puedo sacar porque hace Early Stopping \n",
    "\n",
    "Puede hacerse de las mismas 2 formas también.\n",
    "\n",
    "Uso la 2ª: función build"
   ]
  },
  {
   "cell_type": "code",
   "execution_count": 141,
   "metadata": {},
   "outputs": [
    {
     "name": "stdout",
     "output_type": "stream",
     "text": [
      "Trial 52 Complete [00h 00m 06s]\n",
      "val_accuracy: 0.3439999997615814\n",
      "\n",
      "Best val_accuracy So Far: 0.3949999988079071\n",
      "Total elapsed time: 00h 06m 19s\n",
      "INFO:tensorflow:Oracle triggered exit\n"
     ]
    }
   ],
   "source": [
    "# Hace Callbacks de EarlyStopping en cada iteracion de optimización\n",
    "# Parece que va mejor si pongo accuracy en lugar de loss, como está en la función de creación\n",
    "# y que tan buenos resultados ha dado ne el grid saearch de fuerza bruta\n",
    "# Ha pasado de considerar el mejor uno de 5 capas y 32 neuronas a uno de 1 capa y 32 y resulta mejor\n",
    "c_se = EarlyStopping(monitor='val_accuracy', patience=20, mode='min', verbose=1)\n",
    "c_mc = ModelCheckpoint('best_model_hyp3.h5', monitor='val_accuracy', mode='max', verbose=1, save_best_only=True)\n",
    "\n",
    "## Instancia del grid search al que paso la función build como parámetro\n",
    "\n",
    "hb_tuner = Hyperband(build_model,\n",
    "                     max_epochs=100,\n",
    "                     objective='val_accuracy',\n",
    "                     seed=42,\n",
    "                     hyperband_iterations=10,\n",
    "                     executions_per_trial=5,\n",
    "                     directory='hyperband_search',\n",
    "                     overwrite=True)\n",
    "\n",
    "# Es como un fit del modelo\n",
    "hb_tuner.search(X_train, y_train, \n",
    "                validation_data=(X_test, y_test),\n",
    "                verbose=1,\n",
    "                epochs=100,\n",
    "                callbacks=[c_se, c_mc]\n",
    "               )"
   ]
  },
  {
   "cell_type": "code",
   "execution_count": 142,
   "metadata": {},
   "outputs": [
    {
     "name": "stdout",
     "output_type": "stream",
     "text": [
      "Results summary\n",
      "Results in hyperband_search/untitled_project\n",
      "Showing 3 best trials\n",
      "Objective(name='val_accuracy', direction='max')\n",
      "Trial summary\n",
      "Hyperparameters:\n",
      "capas: 1\n",
      "neuronas: 32\n",
      "activ_entr: selu\n",
      "activ_hid: relu\n",
      "tuner/epochs: 2\n",
      "tuner/initial_epoch: 0\n",
      "tuner/bracket: 4\n",
      "tuner/round: 0\n",
      "Score: 0.3949999988079071\n",
      "Trial summary\n",
      "Hyperparameters:\n",
      "capas: 3\n",
      "neuronas: 32\n",
      "activ_entr: selu\n",
      "activ_hid: relu\n",
      "tuner/epochs: 2\n",
      "tuner/initial_epoch: 0\n",
      "tuner/bracket: 4\n",
      "tuner/round: 0\n",
      "Score: 0.3899999976158142\n",
      "Trial summary\n",
      "Hyperparameters:\n",
      "capas: 3\n",
      "neuronas: 32\n",
      "activ_entr: tanh\n",
      "activ_hid: relu\n",
      "tuner/epochs: 2\n",
      "tuner/initial_epoch: 0\n",
      "tuner/bracket: 4\n",
      "tuner/round: 0\n",
      "Score: 0.38899999260902407\n"
     ]
    }
   ],
   "source": [
    "hb_tuner.results_summary(3)"
   ]
  },
  {
   "cell_type": "code",
   "execution_count": 143,
   "metadata": {},
   "outputs": [
    {
     "data": {
      "image/png": "[encoded data removed]",
      "text/plain": [
       "<Figure size 864x576 with 2 Axes>"
      ]
     },
     "metadata": {
      "needs_background": "light"
     },
     "output_type": "display_data"
    },
    {
     "name": "stdout",
     "output_type": "stream",
     "text": [
      "Epoch 00034: early stopping\n"
     ]
    }
   ],
   "source": [
    "# No sé muy bien qué epochs y batch ha usado para obtener el mejor modelo\n",
    "# Puedo deducirlo de los numeros que aparecen si pongo verbose=1\n",
    "model = crea_entrena_red_Lcapas(capas=1,\n",
    "                        neuronas=32,\n",
    "                        activ_entr = 'selu',\n",
    "                        activ_hid = 'relu',\n",
    "                        activ_sal = 'softmax',\n",
    "                        optimiser_mio = 'adam',\n",
    "                        epochs_ini=100, \n",
    "                        batch_ini=32)\n"
   ]
  },
  {
   "cell_type": "code",
   "execution_count": 144,
   "metadata": {},
   "outputs": [
    {
     "name": "stdout",
     "output_type": "stream",
     "text": [
      "\n",
      "Precisión de entrenamiento del ultimo modelo:  0.43875\n",
      "Precisión de test del ultimo modelo:  0.46\n",
      "\n",
      "Precisión de entrenamiento del mejor (grabado):  0.445\n",
      "Precisión de test del mejor (grabado):  0.475\n"
     ]
    }
   ],
   "source": [
    "dummy_ypred = model.predict(X_train)\n",
    "dummy_yhat = model.predict(X_test)\n",
    "print(\"\\nPrecisión de entrenamiento del ultimo modelo: \", accuracy_score(np.argmax(y_train, axis=1), np.argmax(dummy_ypred, axis=1)))\n",
    "print(\"Precisión de test del ultimo modelo: \", accuracy_score(np.argmax(y_test, axis=1), np.argmax(dummy_yhat, axis=1)))\n",
    "\n",
    "# Cargar el modelo guardado que es el de mejor precisión, no el que me da la función que es el ultimo \n",
    "saved_model = load_model('best_model_hyp2.h5')\n",
    "\n",
    "dummy_ypred = saved_model.predict(X_train)\n",
    "dummy_yhat = saved_model.predict(X_test)\n",
    "print(\"\\nPrecisión de entrenamiento del mejor (grabado): \", accuracy_score(np.argmax(y_train, axis=1), np.argmax(dummy_ypred, axis=1)))\n",
    "print(\"Precisión de test del mejor (grabado): \", accuracy_score(np.argmax(y_test, axis=1), np.argmax(dummy_yhat, axis=1)))"
   ]
  },
  {
   "cell_type": "code",
   "execution_count": 145,
   "metadata": {},
   "outputs": [
    {
     "name": "stdout",
     "output_type": "stream",
     "text": [
      "Model: \"sequential_1\"\n",
      "_________________________________________________________________\n",
      "Layer (type)                 Output Shape              Param #   \n",
      "=================================================================\n",
      "dense_4 (Dense)              (None, 32)                288       \n",
      "_________________________________________________________________\n",
      "dense_5 (Dense)              (None, 4)                 132       \n",
      "=================================================================\n",
      "Total params: 420\n",
      "Trainable params: 420\n",
      "Non-trainable params: 0\n",
      "_________________________________________________________________\n"
     ]
    }
   ],
   "source": [
    "saved_model.summary()"
   ]
  },
  {
   "cell_type": "markdown",
   "metadata": {},
   "source": [
    "# CONCLUSIONES"
   ]
  },
  {
   "cell_type": "markdown",
   "metadata": {},
   "source": [
    "- El método **GRID con bucle** es el que mejor modelo encuentra, pero al hacerlo con todos las combinaciones lleva mucho tiempo. No incluye K-fold CV y usa el conjunto de test del 20%, para validar modelos durante la iteración. El overfit se trata de evitar, no con CV sino con los callbacks: EarlyStopping y ModelCheckPoints.\n",
    "- El método **GridSearchCV** de Sci-kit Learn, que también es por fuerza bruta, consigue peores resultados porque incluye 5-fold CV. Eso significa quitar un 20% al conjunto de train para validar los modelos, con lo que se entrenan los modelos con solo un 64% y los resultados son peores.\n",
    "- El método **RandomizedSearchCV** de Sci-kit Learn, es un buen compromiso entre duración y resultado. Explorar un número mayor de 10 de conjuntos de parámetros al azar no mejora el resultado. Sin embargo un cv de 5 en lugar de 3 si que lo mejora, al entrenar los modelos con más datos.\n",
    "- El método **RandomSearch** de Keras, no resulta práctico porque optimiza epochs y batch por su cuenta. Al obtener el mejor modelo se vuelve a entrenar con todo el train set pero no se conoce que epochs y batch dieron el mejor resultado. habría que optimizarlos de nuevo.\n",
    "- El método **Hyperband** de Keras, también es un buen compromiso entre resultado y tiempo. Tampoco se conoce el batch que usa, pero se puede sacar con la información mostrada con verbose=1. El epoch se puede conocer si se usa el callback EarlyStopping, porque es con el que se para."
   ]
  },
  {
   "cell_type": "markdown",
   "metadata": {},
   "source": [
    "[Retorno al principio](#id8)"
   ]
  }
 ],
 "metadata": {
  "kernelspec": {
   "display_name": "Python 3",
   "language": "python",
   "name": "python3"
  },
  "language_info": {
   "codemirror_mode": {
    "name": "ipython",
    "version": 3
   },
   "file_extension": ".py",
   "mimetype": "text/x-python",
   "name": "python",
   "nbconvert_exporter": "python",
   "pygments_lexer": "ipython3",
   "version": "3.8.5"
  }
 },
 "nbformat": 4,
 "nbformat_minor": 4
}
